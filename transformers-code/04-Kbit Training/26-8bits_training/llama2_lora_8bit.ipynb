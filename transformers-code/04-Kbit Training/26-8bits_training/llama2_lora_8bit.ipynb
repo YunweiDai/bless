{
 "cells": [
  {
   "cell_type": "markdown",
   "metadata": {},
   "source": [
    "# Lora 实战"
   ]
  },
  {
   "cell_type": "code",
   "execution_count": 1,
   "metadata": {},
   "outputs": [],
   "source": [
    "import os\n",
    "os.environ['CUDA_VISIBLE_DEVICES'] = \"6\""
   ]
  },
  {
   "cell_type": "markdown",
   "metadata": {},
   "source": [
    "## Step1 导入相关包"
   ]
  },
  {
   "cell_type": "code",
   "execution_count": 2,
   "metadata": {},
   "outputs": [
    {
     "name": "stderr",
     "output_type": "stream",
     "text": [
      "/home/ubuntu/anaconda3/envs/py38/lib/python3.8/site-packages/tqdm/auto.py:21: TqdmWarning: IProgress not found. Please update jupyter and ipywidgets. See https://ipywidgets.readthedocs.io/en/stable/user_install.html\n",
      "  from .autonotebook import tqdm as notebook_tqdm\n"
     ]
    }
   ],
   "source": [
    "from datasets import Dataset\n",
    "from transformers import AutoTokenizer, AutoModelForCausalLM, DataCollatorForSeq2Seq, TrainingArguments, Trainer"
   ]
  },
  {
   "cell_type": "markdown",
   "metadata": {},
   "source": [
    "## Step2 加载数据集"
   ]
  },
  {
   "cell_type": "code",
   "execution_count": 3,
   "metadata": {},
   "outputs": [
    {
     "data": {
      "text/plain": [
       "Dataset({\n",
       "    features: ['output', 'input', 'instruction'],\n",
       "    num_rows: 26858\n",
       "})"
      ]
     },
     "execution_count": 3,
     "metadata": {},
     "output_type": "execute_result"
    }
   ],
   "source": [
    "ds = Dataset.load_from_disk(\"../data/alpaca_data_zh/\")\n",
    "ds"
   ]
  },
  {
   "cell_type": "code",
   "execution_count": 4,
   "metadata": {},
   "outputs": [
    {
     "data": {
      "text/plain": [
       "{'output': ['以下是保持健康的三个提示：\\n\\n1. 保持身体活动。每天做适当的身体运动，如散步、跑步或游泳，能促进心血管健康，增强肌肉力量，并有助于减少体重。\\n\\n2. 均衡饮食。每天食用新鲜的蔬菜、水果、全谷物和脂肪含量低的蛋白质食物，避免高糖、高脂肪和加工食品，以保持健康的饮食习惯。\\n\\n3. 睡眠充足。睡眠对人体健康至关重要，成年人每天应保证 7-8 小时的睡眠。良好的睡眠有助于减轻压力，促进身体恢复，并提高注意力和记忆力。',\n",
       "  '4/16等于1/4是因为我们可以约分分子分母都除以他们的最大公约数4，得到（4÷4）/ (16÷4）=1/4。分数的约分是用分子和分母除以相同的非零整数，来表示分数的一个相同的值，这因为分数实际上表示了分子除以分母，所以即使两个数同时除以同一个非零整数，分数的值也不会改变。所以4/16 和1/4是两种不同的书写形式，但它们的值相等。',\n",
       "  '朱利叶斯·凯撒，又称尤利乌斯·恺撒（Julius Caesar）是古罗马的政治家、军事家和作家。他于公元前44年3月15日被刺杀。 \\n\\n根据历史记载，当时罗马元老院里一些参议员联合起来策划了对恺撒的刺杀行动，因为他们担心恺撒的统治将给罗马共和制带来威胁。在公元前44年3月15日（又称“3月的艾达之日”），恺撒去参加元老院会议时，被一群参议员包围并被攻击致死。据记载，他身中23刀，其中一刀最终致命。'],\n",
       " 'input': ['', '输入：4/16', ''],\n",
       " 'instruction': ['保持健康的三个提示。', '解释为什么以下分数等同于1/4', '朱利叶斯·凯撒是如何死亡的？']}"
      ]
     },
     "execution_count": 4,
     "metadata": {},
     "output_type": "execute_result"
    }
   ],
   "source": [
    "ds[:3]"
   ]
  },
  {
   "cell_type": "code",
   "execution_count": 5,
   "metadata": {},
   "outputs": [],
   "source": [
    "# print(len(\"以下是保持健康的三个提示：\\n\\n1. 保持身体活动。每天做适当的身体运动，如散步、跑步或游泳，能促进心血管健康，增强肌肉力量，并有助于减少体重。\\n\\n2. 均衡饮食。每天食用新鲜的蔬菜、水果、全谷物和脂肪含量低的蛋白质食物，避免高糖、高脂肪和加工食品，以保持健康的饮食习惯。\\n\\n3. 睡眠充足。睡眠对人体健康至关重要，成年人每天应保证 7-8 小时的睡眠。良好的睡眠有助于减轻压力，促进身体恢复，并提高注意力和记忆力。\"))"
   ]
  },
  {
   "cell_type": "markdown",
   "metadata": {},
   "source": [
    "## Step3 数据集预处理"
   ]
  },
  {
   "cell_type": "code",
   "execution_count": 6,
   "metadata": {},
   "outputs": [
    {
     "data": {
      "text/plain": [
       "LlamaTokenizerFast(name_or_path='/data/PLM/Llama-2-7b-ms', vocab_size=32000, model_max_length=1000000000000000019884624838656, is_fast=True, padding_side='left', truncation_side='right', special_tokens={'bos_token': '<s>', 'eos_token': '</s>', 'unk_token': '<unk>', 'pad_token': '<unk>'}, clean_up_tokenization_spaces=False),  added_tokens_decoder={\n",
       "\t0: AddedToken(\"<unk>\", rstrip=False, lstrip=False, single_word=False, normalized=True, special=True),\n",
       "\t1: AddedToken(\"<s>\", rstrip=False, lstrip=False, single_word=False, normalized=True, special=True),\n",
       "\t2: AddedToken(\"</s>\", rstrip=False, lstrip=False, single_word=False, normalized=True, special=True),\n",
       "\t32000: AddedToken(\"<pad>\", rstrip=False, lstrip=False, single_word=False, normalized=True, special=False),\n",
       "}"
      ]
     },
     "execution_count": 6,
     "metadata": {},
     "output_type": "execute_result"
    }
   ],
   "source": [
    "tokenizer = AutoTokenizer.from_pretrained(\"/data/PLM/Llama-2-7b-ms\")\n",
    "tokenizer"
   ]
  },
  {
   "cell_type": "code",
   "execution_count": 7,
   "metadata": {},
   "outputs": [],
   "source": [
    "tokenizer.padding_side = \"right\"  # 一定要设置padding_side为right，否则batch大于1时可能不收敛"
   ]
  },
  {
   "cell_type": "code",
   "execution_count": 8,
   "metadata": {},
   "outputs": [],
   "source": [
    "tokenizer.pad_token_id = 2"
   ]
  },
  {
   "cell_type": "code",
   "execution_count": 9,
   "metadata": {},
   "outputs": [],
   "source": [
    "def process_func(example):\n",
    "    MAX_LENGTH = 384    # Llama分词器会将一个中文字切分为多个token，因此需要放开一些最大长度，保证数据的完整性\n",
    "    input_ids, attention_mask, labels = [], [], []\n",
    "    # [CLS]在LLaMA分词器中会自带，表示为<s>，可以通过add_special_tokens=False去掉，因为decoder-only的模型并不需要[CLS]等开头的token来做额外的处理；这里也还没有padding\n",
    "    instruction = tokenizer(\"\\n\".join([\"Human: \" + example[\"instruction\"], example[\"input\"]]).strip() + \"\\n\\nAssistant: \", add_special_tokens=False)\n",
    "    response = tokenizer(example[\"output\"], add_special_tokens=False)\n",
    "    # [EOS]在LLaMA分词器中不会自带，即使add_special_tokens=True，必须手动添加，表示为</s>\n",
    "    input_ids = instruction[\"input_ids\"] + response[\"input_ids\"] + [tokenizer.eos_token_id]\n",
    "    attention_mask = instruction[\"attention_mask\"] + response[\"attention_mask\"] + [1]\n",
    "    # 果然！labels中input的部分也需要改成-100！\n",
    "    labels = [-100] * len(instruction[\"input_ids\"]) + response[\"input_ids\"] + [tokenizer.eos_token_id]\n",
    "    # 这种截断方式会舍弃最后的[EOS]，可以修改一下\n",
    "    if len(input_ids) > MAX_LENGTH:\n",
    "        input_ids = input_ids[:MAX_LENGTH]\n",
    "        attention_mask = attention_mask[:MAX_LENGTH]\n",
    "        labels = labels[:MAX_LENGTH]\n",
    "    return {\n",
    "        \"input_ids\": input_ids,\n",
    "        \"attention_mask\": attention_mask,\n",
    "        \"labels\": labels\n",
    "    }"
   ]
  },
  {
   "cell_type": "code",
   "execution_count": 10,
   "metadata": {},
   "outputs": [
    {
     "data": {
      "text/plain": [
       "Dataset({\n",
       "    features: ['input_ids', 'attention_mask', 'labels'],\n",
       "    num_rows: 26858\n",
       "})"
      ]
     },
     "execution_count": 10,
     "metadata": {},
     "output_type": "execute_result"
    }
   ],
   "source": [
    "tokenized_ds = ds.map(process_func, remove_columns=ds.column_names)\n",
    "tokenized_ds"
   ]
  },
  {
   "cell_type": "code",
   "execution_count": 11,
   "metadata": {},
   "outputs": [
    {
     "name": "stdout",
     "output_type": "stream",
     "text": [
      "[12968, 29901, 29871, 30982, 31695, 31863, 31577, 30210, 30457, 30502, 31302, 30858, 30267, 13, 13, 7900, 22137, 29901, 29871, 29871, 30651, 30557, 30392, 30982, 31695, 31863, 31577, 30210, 30457, 30502, 31302, 30858, 30383, 13, 13, 29896, 29889, 29871, 30982, 31695, 31687, 30988, 31704, 30846, 30267, 31951, 30408, 232, 132, 157, 236, 131, 133, 30948, 30210, 31687, 30988, 31894, 30846, 30214, 30847, 233, 152, 166, 233, 176, 168, 30330, 235, 186, 148, 233, 176, 168, 31391, 233, 187, 187, 233, 182, 182, 30214, 30815, 231, 194, 134, 31174, 30869, 235, 164, 131, 31624, 31863, 31577, 30214, 232, 165, 161, 232, 191, 189, 235, 133, 143, 235, 133, 140, 31074, 31180, 30214, 31666, 30417, 31931, 30909, 232, 138, 146, 31022, 30988, 30908, 30267, 13, 13, 29906, 29889, 29871, 232, 160, 138, 235, 164, 164, 236, 168, 177, 31855, 30267, 31951, 30408, 31855, 30406, 30374, 236, 181, 159, 30210, 235, 151, 175, 31854, 30330, 30716, 30801, 30330, 30753, 31112, 30834, 30503, 235, 135, 133, 235, 133, 173, 232, 147, 174, 31180, 231, 192, 145, 30210, 235, 158, 142, 30868, 235, 183, 171, 31855, 30834, 30214, 236, 132, 194, 232, 136, 144, 30528, 234, 182, 153, 30330, 30528, 235, 135, 133, 235, 133, 173, 30503, 30666, 31041, 31855, 31399, 30214, 30651, 30982, 31695, 31863, 31577, 30210, 236, 168, 177, 31855, 231, 188, 163, 233, 134, 178, 30267, 13, 13, 29941, 29889, 29871, 234, 160, 164, 234, 159, 163, 232, 136, 136, 31722, 30267, 234, 160, 164, 234, 159, 163, 30783, 30313, 30988, 31863, 31577, 235, 138, 182, 31057, 30908, 30698, 30214, 30494, 30470, 30313, 31951, 30408, 31370, 30982, 235, 178, 132, 29871, 29955, 29899, 29947, 29871, 30446, 30594, 30210, 234, 160, 164, 234, 159, 163, 30267, 31400, 31076, 30210, 234, 160, 164, 234, 159, 163, 30417, 31931, 30909, 232, 138, 146, 235, 192, 190, 232, 145, 142, 31074, 30214, 231, 194, 134, 31174, 31687, 30988, 233, 132, 165, 31810, 30214, 31666, 31302, 30528, 31368, 31474, 31074, 30503, 31410, 232, 194, 137, 31074, 30267, 2]\n"
     ]
    }
   ],
   "source": [
    "print(tokenized_ds[0][\"input_ids\"])"
   ]
  },
  {
   "cell_type": "code",
   "execution_count": 12,
   "metadata": {},
   "outputs": [],
   "source": [
    "# tokenizer(\"abc \" + tokenizer.eos_token)"
   ]
  },
  {
   "cell_type": "code",
   "execution_count": 13,
   "metadata": {},
   "outputs": [
    {
     "data": {
      "text/plain": [
       "'Human: 保持健康的三个提示。\\n\\nAssistant:  以下是保持健康的三个提示：\\n\\n1. 保持身体活动。每天做适当的身体运动，如散步、跑步或游泳，能促进心血管健康，增强肌肉力量，并有助于减少体重。\\n\\n2. 均衡饮食。每天食用新鲜的蔬菜、水果、全谷物和脂肪含量低的蛋白质食物，避免高糖、高脂肪和加工食品，以保持健康的饮食习惯。\\n\\n3. 睡眠充足。睡眠对人体健康至关重要，成年人每天应保证 7-8 小时的睡眠。良好的睡眠有助于减轻压力，促进身体恢复，并提高注意力和记忆力。</s>'"
      ]
     },
     "execution_count": 13,
     "metadata": {},
     "output_type": "execute_result"
    }
   ],
   "source": [
    "tokenizer.decode(tokenized_ds[0][\"input_ids\"])"
   ]
  },
  {
   "cell_type": "code",
   "execution_count": 14,
   "metadata": {},
   "outputs": [],
   "source": [
    "# tokenizer(\"呀\", add_special_tokens=False) # Llama分词器会将一个中文字切分为多个token，因此需要放开一些最大长度，保证数据的完整性"
   ]
  },
  {
   "cell_type": "code",
   "execution_count": 15,
   "metadata": {},
   "outputs": [
    {
     "data": {
      "text/plain": [
       "'4/16等于1/4是因为我们可以约分分子分母都除以他们的最大公约数4，得到（4÷4）/ (16÷4）=1/4。分数的约分是用分子和分母除以相同的非零整数，来表示分数的一个相同的值，这因为分数实际上表示了分子除以分母，所以即使两个数同时除以同一个非零整数，分数的值也不会改变。所以4/16 和1/4是两种不同的书写形式，但它们的值相等。</s>'"
      ]
     },
     "execution_count": 15,
     "metadata": {},
     "output_type": "execute_result"
    }
   ],
   "source": [
    "tokenizer.decode(list(filter(lambda x: x != -100, tokenized_ds[1][\"labels\"])))"
   ]
  },
  {
   "cell_type": "markdown",
   "metadata": {},
   "source": [
    "## Step4 创建模型"
   ]
  },
  {
   "cell_type": "code",
   "execution_count": 16,
   "metadata": {},
   "outputs": [
    {
     "name": "stderr",
     "output_type": "stream",
     "text": [
      "Loading checkpoint shards: 100%|██████████| 2/2 [00:04<00:00,  2.43s/it]\n",
      "/home/ubuntu/anaconda3/envs/py38/lib/python3.8/site-packages/transformers/generation/configuration_utils.py:362: UserWarning: `do_sample` is set to `False`. However, `temperature` is set to `0.9` -- this flag is only used in sample-based generation modes. You should set `do_sample=True` or unset `temperature`. This was detected when initializing the generation config instance, which means the corresponding file may hold incorrect parameterization and should be fixed.\n",
      "  warnings.warn(\n",
      "/home/ubuntu/anaconda3/envs/py38/lib/python3.8/site-packages/transformers/generation/configuration_utils.py:367: UserWarning: `do_sample` is set to `False`. However, `top_p` is set to `0.6` -- this flag is only used in sample-based generation modes. You should set `do_sample=True` or unset `top_p`. This was detected when initializing the generation config instance, which means the corresponding file may hold incorrect parameterization and should be fixed.\n",
      "  warnings.warn(\n"
     ]
    }
   ],
   "source": [
    "import torch\n",
    "# 使用load_in_8bit时默认torch_dtype=torch.half且device_map=\"auto\"\n",
    "model = AutoModelForCausalLM.from_pretrained(\"/data/PLM/Llama-2-7b-ms\", low_cpu_mem_usage=True, device_map=\"auto\", \n",
    "                                             torch_dtype=torch.half, load_in_8bit=True)\n",
    "# 所以应该是这样子的：\n",
    "# half将所有权重都以fp16的精度读取，推理过程中也是fp16，这里没什么问题，因为与fp32相比仅仅是上溢与下溢的范围发生了改变，bf16也差不多\n",
    "# int8在此基础上将需要矩阵运算的权重以int8的精度读取，推理过程中如果遇到输入数据中的离群值则反量化回fp16，反之依旧保持int8进行矩阵运算，\n",
    "# 运算结束把int8的部分反量化回fp16后与fp16的部分相加，进入下一层，int4也同理"
   ]
  },
  {
   "cell_type": "code",
   "execution_count": 17,
   "metadata": {},
   "outputs": [
    {
     "name": "stderr",
     "output_type": "stream",
     "text": [
      "You shouldn't move a model when it is dispatched on multiple devices.\n"
     ]
    },
    {
     "ename": "ValueError",
     "evalue": "`.to` is not supported for `4-bit` or `8-bit` bitsandbytes models. Please use the model as it is, since the model has already been set to the correct devices and casted to the correct `dtype`.",
     "output_type": "error",
     "traceback": [
      "\u001b[0;31m---------------------------------------------------------------------------\u001b[0m",
      "\u001b[0;31mValueError\u001b[0m                                Traceback (most recent call last)",
      "Cell \u001b[0;32mIn[17], line 1\u001b[0m\n\u001b[0;32m----> 1\u001b[0m \u001b[43mmodel\u001b[49m\u001b[38;5;241;43m.\u001b[39;49m\u001b[43mto\u001b[49m\u001b[43m(\u001b[49m\u001b[38;5;124;43m\"\u001b[39;49m\u001b[38;5;124;43mcuda\u001b[39;49m\u001b[38;5;124;43m\"\u001b[39;49m\u001b[43m)\u001b[49m \u001b[38;5;66;03m# 需要注意的是，在使用了device_map=\"auto\"的情况下，无需使用这句也能直接将模型加载到GPU上；此外load_in_8bit=True时device_map=\"auto\"必然存在\u001b[39;00m\n\u001b[1;32m      2\u001b[0m \u001b[38;5;66;03m# 同时，如果没有开启load_in_8bit=True那运行这句话会输出模型结构，反之则会报错“You shouldn't move a model when it is dispatched on multiple devices.”\u001b[39;00m\n",
      "File \u001b[0;32m/home/ubuntu/anaconda3/envs/py38/lib/python3.8/site-packages/accelerate/big_modeling.py:416\u001b[0m, in \u001b[0;36mdispatch_model.<locals>.add_warning.<locals>.wrapper\u001b[0;34m(*args, **kwargs)\u001b[0m\n\u001b[1;32m    414\u001b[0m     \u001b[38;5;28;01mif\u001b[39;00m param\u001b[38;5;241m.\u001b[39mdevice \u001b[38;5;241m==\u001b[39m torch\u001b[38;5;241m.\u001b[39mdevice(\u001b[38;5;124m\"\u001b[39m\u001b[38;5;124mmeta\u001b[39m\u001b[38;5;124m\"\u001b[39m):\n\u001b[1;32m    415\u001b[0m         \u001b[38;5;28;01mraise\u001b[39;00m \u001b[38;5;167;01mRuntimeError\u001b[39;00m(\u001b[38;5;124m\"\u001b[39m\u001b[38;5;124mYou can\u001b[39m\u001b[38;5;124m'\u001b[39m\u001b[38;5;124mt move a model that has some modules offloaded to cpu or disk.\u001b[39m\u001b[38;5;124m\"\u001b[39m)\n\u001b[0;32m--> 416\u001b[0m \u001b[38;5;28;01mreturn\u001b[39;00m \u001b[43mfn\u001b[49m\u001b[43m(\u001b[49m\u001b[38;5;241;43m*\u001b[39;49m\u001b[43margs\u001b[49m\u001b[43m,\u001b[49m\u001b[43m \u001b[49m\u001b[38;5;241;43m*\u001b[39;49m\u001b[38;5;241;43m*\u001b[39;49m\u001b[43mkwargs\u001b[49m\u001b[43m)\u001b[49m\n",
      "File \u001b[0;32m/home/ubuntu/anaconda3/envs/py38/lib/python3.8/site-packages/transformers/modeling_utils.py:2174\u001b[0m, in \u001b[0;36mPreTrainedModel.to\u001b[0;34m(self, *args, **kwargs)\u001b[0m\n\u001b[1;32m   2170\u001b[0m \u001b[38;5;129m@wraps\u001b[39m(torch\u001b[38;5;241m.\u001b[39mnn\u001b[38;5;241m.\u001b[39mModule\u001b[38;5;241m.\u001b[39mto)\n\u001b[1;32m   2171\u001b[0m \u001b[38;5;28;01mdef\u001b[39;00m \u001b[38;5;21mto\u001b[39m(\u001b[38;5;28mself\u001b[39m, \u001b[38;5;241m*\u001b[39margs, \u001b[38;5;241m*\u001b[39m\u001b[38;5;241m*\u001b[39mkwargs):\n\u001b[1;32m   2172\u001b[0m     \u001b[38;5;66;03m# Checks if the model has been loaded in 8-bit\u001b[39;00m\n\u001b[1;32m   2173\u001b[0m     \u001b[38;5;28;01mif\u001b[39;00m \u001b[38;5;28mgetattr\u001b[39m(\u001b[38;5;28mself\u001b[39m, \u001b[38;5;124m\"\u001b[39m\u001b[38;5;124mquantization_method\u001b[39m\u001b[38;5;124m\"\u001b[39m, \u001b[38;5;28;01mNone\u001b[39;00m) \u001b[38;5;241m==\u001b[39m QuantizationMethod\u001b[38;5;241m.\u001b[39mBITS_AND_BYTES:\n\u001b[0;32m-> 2174\u001b[0m         \u001b[38;5;28;01mraise\u001b[39;00m \u001b[38;5;167;01mValueError\u001b[39;00m(\n\u001b[1;32m   2175\u001b[0m             \u001b[38;5;124m\"\u001b[39m\u001b[38;5;124m`.to` is not supported for `4-bit` or `8-bit` bitsandbytes models. Please use the model as it is, since the\u001b[39m\u001b[38;5;124m\"\u001b[39m\n\u001b[1;32m   2176\u001b[0m             \u001b[38;5;124m\"\u001b[39m\u001b[38;5;124m model has already been set to the correct devices and casted to the correct `dtype`.\u001b[39m\u001b[38;5;124m\"\u001b[39m\n\u001b[1;32m   2177\u001b[0m         )\n\u001b[1;32m   2178\u001b[0m     \u001b[38;5;28;01melse\u001b[39;00m:\n\u001b[1;32m   2179\u001b[0m         \u001b[38;5;28;01mreturn\u001b[39;00m \u001b[38;5;28msuper\u001b[39m()\u001b[38;5;241m.\u001b[39mto(\u001b[38;5;241m*\u001b[39margs, \u001b[38;5;241m*\u001b[39m\u001b[38;5;241m*\u001b[39mkwargs)\n",
      "\u001b[0;31mValueError\u001b[0m: `.to` is not supported for `4-bit` or `8-bit` bitsandbytes models. Please use the model as it is, since the model has already been set to the correct devices and casted to the correct `dtype`."
     ]
    }
   ],
   "source": [
    "model.to(\"cuda\") # 需要注意的是，在使用了device_map=\"auto\"的情况下，无需使用这句也能直接将模型加载到GPU上\n",
    "# 同时，如果没有开启load_in_8bit=True那运行这句话会输出模型结构，反之则会报错“You shouldn't move a model when it is dispatched on multiple devices.”"
   ]
  },
  {
   "cell_type": "code",
   "execution_count": 18,
   "metadata": {},
   "outputs": [
    {
     "name": "stdout",
     "output_type": "stream",
     "text": [
      "model.embed_tokens.weight torch.Size([32000, 4096]) torch.float16\n",
      "model.layers.0.self_attn.q_proj.weight torch.Size([4096, 4096]) torch.int8\n",
      "model.layers.0.self_attn.k_proj.weight torch.Size([4096, 4096]) torch.int8\n",
      "model.layers.0.self_attn.v_proj.weight torch.Size([4096, 4096]) torch.int8\n",
      "model.layers.0.self_attn.o_proj.weight torch.Size([4096, 4096]) torch.int8\n",
      "model.layers.0.mlp.gate_proj.weight torch.Size([11008, 4096]) torch.int8\n",
      "model.layers.0.mlp.up_proj.weight torch.Size([11008, 4096]) torch.int8\n",
      "model.layers.0.mlp.down_proj.weight torch.Size([4096, 11008]) torch.int8\n",
      "model.layers.0.input_layernorm.weight torch.Size([4096]) torch.float16\n",
      "model.layers.0.post_attention_layernorm.weight torch.Size([4096]) torch.float16\n",
      "model.layers.1.self_attn.q_proj.weight torch.Size([4096, 4096]) torch.int8\n",
      "model.layers.1.self_attn.k_proj.weight torch.Size([4096, 4096]) torch.int8\n",
      "model.layers.1.self_attn.v_proj.weight torch.Size([4096, 4096]) torch.int8\n",
      "model.layers.1.self_attn.o_proj.weight torch.Size([4096, 4096]) torch.int8\n",
      "model.layers.1.mlp.gate_proj.weight torch.Size([11008, 4096]) torch.int8\n",
      "model.layers.1.mlp.up_proj.weight torch.Size([11008, 4096]) torch.int8\n",
      "model.layers.1.mlp.down_proj.weight torch.Size([4096, 11008]) torch.int8\n",
      "model.layers.1.input_layernorm.weight torch.Size([4096]) torch.float16\n",
      "model.layers.1.post_attention_layernorm.weight torch.Size([4096]) torch.float16\n",
      "model.layers.2.self_attn.q_proj.weight torch.Size([4096, 4096]) torch.int8\n",
      "model.layers.2.self_attn.k_proj.weight torch.Size([4096, 4096]) torch.int8\n",
      "model.layers.2.self_attn.v_proj.weight torch.Size([4096, 4096]) torch.int8\n",
      "model.layers.2.self_attn.o_proj.weight torch.Size([4096, 4096]) torch.int8\n",
      "model.layers.2.mlp.gate_proj.weight torch.Size([11008, 4096]) torch.int8\n",
      "model.layers.2.mlp.up_proj.weight torch.Size([11008, 4096]) torch.int8\n",
      "model.layers.2.mlp.down_proj.weight torch.Size([4096, 11008]) torch.int8\n",
      "model.layers.2.input_layernorm.weight torch.Size([4096]) torch.float16\n",
      "model.layers.2.post_attention_layernorm.weight torch.Size([4096]) torch.float16\n",
      "model.layers.3.self_attn.q_proj.weight torch.Size([4096, 4096]) torch.int8\n",
      "model.layers.3.self_attn.k_proj.weight torch.Size([4096, 4096]) torch.int8\n",
      "model.layers.3.self_attn.v_proj.weight torch.Size([4096, 4096]) torch.int8\n",
      "model.layers.3.self_attn.o_proj.weight torch.Size([4096, 4096]) torch.int8\n",
      "model.layers.3.mlp.gate_proj.weight torch.Size([11008, 4096]) torch.int8\n",
      "model.layers.3.mlp.up_proj.weight torch.Size([11008, 4096]) torch.int8\n",
      "model.layers.3.mlp.down_proj.weight torch.Size([4096, 11008]) torch.int8\n",
      "model.layers.3.input_layernorm.weight torch.Size([4096]) torch.float16\n",
      "model.layers.3.post_attention_layernorm.weight torch.Size([4096]) torch.float16\n",
      "model.layers.4.self_attn.q_proj.weight torch.Size([4096, 4096]) torch.int8\n",
      "model.layers.4.self_attn.k_proj.weight torch.Size([4096, 4096]) torch.int8\n",
      "model.layers.4.self_attn.v_proj.weight torch.Size([4096, 4096]) torch.int8\n",
      "model.layers.4.self_attn.o_proj.weight torch.Size([4096, 4096]) torch.int8\n",
      "model.layers.4.mlp.gate_proj.weight torch.Size([11008, 4096]) torch.int8\n",
      "model.layers.4.mlp.up_proj.weight torch.Size([11008, 4096]) torch.int8\n",
      "model.layers.4.mlp.down_proj.weight torch.Size([4096, 11008]) torch.int8\n",
      "model.layers.4.input_layernorm.weight torch.Size([4096]) torch.float16\n",
      "model.layers.4.post_attention_layernorm.weight torch.Size([4096]) torch.float16\n",
      "model.layers.5.self_attn.q_proj.weight torch.Size([4096, 4096]) torch.int8\n",
      "model.layers.5.self_attn.k_proj.weight torch.Size([4096, 4096]) torch.int8\n",
      "model.layers.5.self_attn.v_proj.weight torch.Size([4096, 4096]) torch.int8\n",
      "model.layers.5.self_attn.o_proj.weight torch.Size([4096, 4096]) torch.int8\n",
      "model.layers.5.mlp.gate_proj.weight torch.Size([11008, 4096]) torch.int8\n",
      "model.layers.5.mlp.up_proj.weight torch.Size([11008, 4096]) torch.int8\n",
      "model.layers.5.mlp.down_proj.weight torch.Size([4096, 11008]) torch.int8\n",
      "model.layers.5.input_layernorm.weight torch.Size([4096]) torch.float16\n",
      "model.layers.5.post_attention_layernorm.weight torch.Size([4096]) torch.float16\n",
      "model.layers.6.self_attn.q_proj.weight torch.Size([4096, 4096]) torch.int8\n",
      "model.layers.6.self_attn.k_proj.weight torch.Size([4096, 4096]) torch.int8\n",
      "model.layers.6.self_attn.v_proj.weight torch.Size([4096, 4096]) torch.int8\n",
      "model.layers.6.self_attn.o_proj.weight torch.Size([4096, 4096]) torch.int8\n",
      "model.layers.6.mlp.gate_proj.weight torch.Size([11008, 4096]) torch.int8\n",
      "model.layers.6.mlp.up_proj.weight torch.Size([11008, 4096]) torch.int8\n",
      "model.layers.6.mlp.down_proj.weight torch.Size([4096, 11008]) torch.int8\n",
      "model.layers.6.input_layernorm.weight torch.Size([4096]) torch.float16\n",
      "model.layers.6.post_attention_layernorm.weight torch.Size([4096]) torch.float16\n",
      "model.layers.7.self_attn.q_proj.weight torch.Size([4096, 4096]) torch.int8\n",
      "model.layers.7.self_attn.k_proj.weight torch.Size([4096, 4096]) torch.int8\n",
      "model.layers.7.self_attn.v_proj.weight torch.Size([4096, 4096]) torch.int8\n",
      "model.layers.7.self_attn.o_proj.weight torch.Size([4096, 4096]) torch.int8\n",
      "model.layers.7.mlp.gate_proj.weight torch.Size([11008, 4096]) torch.int8\n",
      "model.layers.7.mlp.up_proj.weight torch.Size([11008, 4096]) torch.int8\n",
      "model.layers.7.mlp.down_proj.weight torch.Size([4096, 11008]) torch.int8\n",
      "model.layers.7.input_layernorm.weight torch.Size([4096]) torch.float16\n",
      "model.layers.7.post_attention_layernorm.weight torch.Size([4096]) torch.float16\n",
      "model.layers.8.self_attn.q_proj.weight torch.Size([4096, 4096]) torch.int8\n",
      "model.layers.8.self_attn.k_proj.weight torch.Size([4096, 4096]) torch.int8\n",
      "model.layers.8.self_attn.v_proj.weight torch.Size([4096, 4096]) torch.int8\n",
      "model.layers.8.self_attn.o_proj.weight torch.Size([4096, 4096]) torch.int8\n",
      "model.layers.8.mlp.gate_proj.weight torch.Size([11008, 4096]) torch.int8\n",
      "model.layers.8.mlp.up_proj.weight torch.Size([11008, 4096]) torch.int8\n",
      "model.layers.8.mlp.down_proj.weight torch.Size([4096, 11008]) torch.int8\n",
      "model.layers.8.input_layernorm.weight torch.Size([4096]) torch.float16\n",
      "model.layers.8.post_attention_layernorm.weight torch.Size([4096]) torch.float16\n",
      "model.layers.9.self_attn.q_proj.weight torch.Size([4096, 4096]) torch.int8\n",
      "model.layers.9.self_attn.k_proj.weight torch.Size([4096, 4096]) torch.int8\n",
      "model.layers.9.self_attn.v_proj.weight torch.Size([4096, 4096]) torch.int8\n",
      "model.layers.9.self_attn.o_proj.weight torch.Size([4096, 4096]) torch.int8\n",
      "model.layers.9.mlp.gate_proj.weight torch.Size([11008, 4096]) torch.int8\n",
      "model.layers.9.mlp.up_proj.weight torch.Size([11008, 4096]) torch.int8\n",
      "model.layers.9.mlp.down_proj.weight torch.Size([4096, 11008]) torch.int8\n",
      "model.layers.9.input_layernorm.weight torch.Size([4096]) torch.float16\n",
      "model.layers.9.post_attention_layernorm.weight torch.Size([4096]) torch.float16\n",
      "model.layers.10.self_attn.q_proj.weight torch.Size([4096, 4096]) torch.int8\n",
      "model.layers.10.self_attn.k_proj.weight torch.Size([4096, 4096]) torch.int8\n",
      "model.layers.10.self_attn.v_proj.weight torch.Size([4096, 4096]) torch.int8\n",
      "model.layers.10.self_attn.o_proj.weight torch.Size([4096, 4096]) torch.int8\n",
      "model.layers.10.mlp.gate_proj.weight torch.Size([11008, 4096]) torch.int8\n",
      "model.layers.10.mlp.up_proj.weight torch.Size([11008, 4096]) torch.int8\n",
      "model.layers.10.mlp.down_proj.weight torch.Size([4096, 11008]) torch.int8\n",
      "model.layers.10.input_layernorm.weight torch.Size([4096]) torch.float16\n",
      "model.layers.10.post_attention_layernorm.weight torch.Size([4096]) torch.float16\n",
      "model.layers.11.self_attn.q_proj.weight torch.Size([4096, 4096]) torch.int8\n",
      "model.layers.11.self_attn.k_proj.weight torch.Size([4096, 4096]) torch.int8\n",
      "model.layers.11.self_attn.v_proj.weight torch.Size([4096, 4096]) torch.int8\n",
      "model.layers.11.self_attn.o_proj.weight torch.Size([4096, 4096]) torch.int8\n",
      "model.layers.11.mlp.gate_proj.weight torch.Size([11008, 4096]) torch.int8\n",
      "model.layers.11.mlp.up_proj.weight torch.Size([11008, 4096]) torch.int8\n",
      "model.layers.11.mlp.down_proj.weight torch.Size([4096, 11008]) torch.int8\n",
      "model.layers.11.input_layernorm.weight torch.Size([4096]) torch.float16\n",
      "model.layers.11.post_attention_layernorm.weight torch.Size([4096]) torch.float16\n",
      "model.layers.12.self_attn.q_proj.weight torch.Size([4096, 4096]) torch.int8\n",
      "model.layers.12.self_attn.k_proj.weight torch.Size([4096, 4096]) torch.int8\n",
      "model.layers.12.self_attn.v_proj.weight torch.Size([4096, 4096]) torch.int8\n",
      "model.layers.12.self_attn.o_proj.weight torch.Size([4096, 4096]) torch.int8\n",
      "model.layers.12.mlp.gate_proj.weight torch.Size([11008, 4096]) torch.int8\n",
      "model.layers.12.mlp.up_proj.weight torch.Size([11008, 4096]) torch.int8\n",
      "model.layers.12.mlp.down_proj.weight torch.Size([4096, 11008]) torch.int8\n",
      "model.layers.12.input_layernorm.weight torch.Size([4096]) torch.float16\n",
      "model.layers.12.post_attention_layernorm.weight torch.Size([4096]) torch.float16\n",
      "model.layers.13.self_attn.q_proj.weight torch.Size([4096, 4096]) torch.int8\n",
      "model.layers.13.self_attn.k_proj.weight torch.Size([4096, 4096]) torch.int8\n",
      "model.layers.13.self_attn.v_proj.weight torch.Size([4096, 4096]) torch.int8\n",
      "model.layers.13.self_attn.o_proj.weight torch.Size([4096, 4096]) torch.int8\n",
      "model.layers.13.mlp.gate_proj.weight torch.Size([11008, 4096]) torch.int8\n",
      "model.layers.13.mlp.up_proj.weight torch.Size([11008, 4096]) torch.int8\n",
      "model.layers.13.mlp.down_proj.weight torch.Size([4096, 11008]) torch.int8\n",
      "model.layers.13.input_layernorm.weight torch.Size([4096]) torch.float16\n",
      "model.layers.13.post_attention_layernorm.weight torch.Size([4096]) torch.float16\n",
      "model.layers.14.self_attn.q_proj.weight torch.Size([4096, 4096]) torch.int8\n",
      "model.layers.14.self_attn.k_proj.weight torch.Size([4096, 4096]) torch.int8\n",
      "model.layers.14.self_attn.v_proj.weight torch.Size([4096, 4096]) torch.int8\n",
      "model.layers.14.self_attn.o_proj.weight torch.Size([4096, 4096]) torch.int8\n",
      "model.layers.14.mlp.gate_proj.weight torch.Size([11008, 4096]) torch.int8\n",
      "model.layers.14.mlp.up_proj.weight torch.Size([11008, 4096]) torch.int8\n",
      "model.layers.14.mlp.down_proj.weight torch.Size([4096, 11008]) torch.int8\n",
      "model.layers.14.input_layernorm.weight torch.Size([4096]) torch.float16\n",
      "model.layers.14.post_attention_layernorm.weight torch.Size([4096]) torch.float16\n",
      "model.layers.15.self_attn.q_proj.weight torch.Size([4096, 4096]) torch.int8\n",
      "model.layers.15.self_attn.k_proj.weight torch.Size([4096, 4096]) torch.int8\n",
      "model.layers.15.self_attn.v_proj.weight torch.Size([4096, 4096]) torch.int8\n",
      "model.layers.15.self_attn.o_proj.weight torch.Size([4096, 4096]) torch.int8\n",
      "model.layers.15.mlp.gate_proj.weight torch.Size([11008, 4096]) torch.int8\n",
      "model.layers.15.mlp.up_proj.weight torch.Size([11008, 4096]) torch.int8\n",
      "model.layers.15.mlp.down_proj.weight torch.Size([4096, 11008]) torch.int8\n",
      "model.layers.15.input_layernorm.weight torch.Size([4096]) torch.float16\n",
      "model.layers.15.post_attention_layernorm.weight torch.Size([4096]) torch.float16\n",
      "model.layers.16.self_attn.q_proj.weight torch.Size([4096, 4096]) torch.int8\n",
      "model.layers.16.self_attn.k_proj.weight torch.Size([4096, 4096]) torch.int8\n",
      "model.layers.16.self_attn.v_proj.weight torch.Size([4096, 4096]) torch.int8\n",
      "model.layers.16.self_attn.o_proj.weight torch.Size([4096, 4096]) torch.int8\n",
      "model.layers.16.mlp.gate_proj.weight torch.Size([11008, 4096]) torch.int8\n",
      "model.layers.16.mlp.up_proj.weight torch.Size([11008, 4096]) torch.int8\n",
      "model.layers.16.mlp.down_proj.weight torch.Size([4096, 11008]) torch.int8\n",
      "model.layers.16.input_layernorm.weight torch.Size([4096]) torch.float16\n",
      "model.layers.16.post_attention_layernorm.weight torch.Size([4096]) torch.float16\n",
      "model.layers.17.self_attn.q_proj.weight torch.Size([4096, 4096]) torch.int8\n",
      "model.layers.17.self_attn.k_proj.weight torch.Size([4096, 4096]) torch.int8\n",
      "model.layers.17.self_attn.v_proj.weight torch.Size([4096, 4096]) torch.int8\n",
      "model.layers.17.self_attn.o_proj.weight torch.Size([4096, 4096]) torch.int8\n",
      "model.layers.17.mlp.gate_proj.weight torch.Size([11008, 4096]) torch.int8\n",
      "model.layers.17.mlp.up_proj.weight torch.Size([11008, 4096]) torch.int8\n",
      "model.layers.17.mlp.down_proj.weight torch.Size([4096, 11008]) torch.int8\n",
      "model.layers.17.input_layernorm.weight torch.Size([4096]) torch.float16\n",
      "model.layers.17.post_attention_layernorm.weight torch.Size([4096]) torch.float16\n",
      "model.layers.18.self_attn.q_proj.weight torch.Size([4096, 4096]) torch.int8\n",
      "model.layers.18.self_attn.k_proj.weight torch.Size([4096, 4096]) torch.int8\n",
      "model.layers.18.self_attn.v_proj.weight torch.Size([4096, 4096]) torch.int8\n",
      "model.layers.18.self_attn.o_proj.weight torch.Size([4096, 4096]) torch.int8\n",
      "model.layers.18.mlp.gate_proj.weight torch.Size([11008, 4096]) torch.int8\n",
      "model.layers.18.mlp.up_proj.weight torch.Size([11008, 4096]) torch.int8\n",
      "model.layers.18.mlp.down_proj.weight torch.Size([4096, 11008]) torch.int8\n",
      "model.layers.18.input_layernorm.weight torch.Size([4096]) torch.float16\n",
      "model.layers.18.post_attention_layernorm.weight torch.Size([4096]) torch.float16\n",
      "model.layers.19.self_attn.q_proj.weight torch.Size([4096, 4096]) torch.int8\n",
      "model.layers.19.self_attn.k_proj.weight torch.Size([4096, 4096]) torch.int8\n",
      "model.layers.19.self_attn.v_proj.weight torch.Size([4096, 4096]) torch.int8\n",
      "model.layers.19.self_attn.o_proj.weight torch.Size([4096, 4096]) torch.int8\n",
      "model.layers.19.mlp.gate_proj.weight torch.Size([11008, 4096]) torch.int8\n",
      "model.layers.19.mlp.up_proj.weight torch.Size([11008, 4096]) torch.int8\n",
      "model.layers.19.mlp.down_proj.weight torch.Size([4096, 11008]) torch.int8\n",
      "model.layers.19.input_layernorm.weight torch.Size([4096]) torch.float16\n",
      "model.layers.19.post_attention_layernorm.weight torch.Size([4096]) torch.float16\n",
      "model.layers.20.self_attn.q_proj.weight torch.Size([4096, 4096]) torch.int8\n",
      "model.layers.20.self_attn.k_proj.weight torch.Size([4096, 4096]) torch.int8\n",
      "model.layers.20.self_attn.v_proj.weight torch.Size([4096, 4096]) torch.int8\n",
      "model.layers.20.self_attn.o_proj.weight torch.Size([4096, 4096]) torch.int8\n",
      "model.layers.20.mlp.gate_proj.weight torch.Size([11008, 4096]) torch.int8\n",
      "model.layers.20.mlp.up_proj.weight torch.Size([11008, 4096]) torch.int8\n",
      "model.layers.20.mlp.down_proj.weight torch.Size([4096, 11008]) torch.int8\n",
      "model.layers.20.input_layernorm.weight torch.Size([4096]) torch.float16\n",
      "model.layers.20.post_attention_layernorm.weight torch.Size([4096]) torch.float16\n",
      "model.layers.21.self_attn.q_proj.weight torch.Size([4096, 4096]) torch.int8\n",
      "model.layers.21.self_attn.k_proj.weight torch.Size([4096, 4096]) torch.int8\n",
      "model.layers.21.self_attn.v_proj.weight torch.Size([4096, 4096]) torch.int8\n",
      "model.layers.21.self_attn.o_proj.weight torch.Size([4096, 4096]) torch.int8\n",
      "model.layers.21.mlp.gate_proj.weight torch.Size([11008, 4096]) torch.int8\n",
      "model.layers.21.mlp.up_proj.weight torch.Size([11008, 4096]) torch.int8\n",
      "model.layers.21.mlp.down_proj.weight torch.Size([4096, 11008]) torch.int8\n",
      "model.layers.21.input_layernorm.weight torch.Size([4096]) torch.float16\n",
      "model.layers.21.post_attention_layernorm.weight torch.Size([4096]) torch.float16\n",
      "model.layers.22.self_attn.q_proj.weight torch.Size([4096, 4096]) torch.int8\n",
      "model.layers.22.self_attn.k_proj.weight torch.Size([4096, 4096]) torch.int8\n",
      "model.layers.22.self_attn.v_proj.weight torch.Size([4096, 4096]) torch.int8\n",
      "model.layers.22.self_attn.o_proj.weight torch.Size([4096, 4096]) torch.int8\n",
      "model.layers.22.mlp.gate_proj.weight torch.Size([11008, 4096]) torch.int8\n",
      "model.layers.22.mlp.up_proj.weight torch.Size([11008, 4096]) torch.int8\n",
      "model.layers.22.mlp.down_proj.weight torch.Size([4096, 11008]) torch.int8\n",
      "model.layers.22.input_layernorm.weight torch.Size([4096]) torch.float16\n",
      "model.layers.22.post_attention_layernorm.weight torch.Size([4096]) torch.float16\n",
      "model.layers.23.self_attn.q_proj.weight torch.Size([4096, 4096]) torch.int8\n",
      "model.layers.23.self_attn.k_proj.weight torch.Size([4096, 4096]) torch.int8\n",
      "model.layers.23.self_attn.v_proj.weight torch.Size([4096, 4096]) torch.int8\n",
      "model.layers.23.self_attn.o_proj.weight torch.Size([4096, 4096]) torch.int8\n",
      "model.layers.23.mlp.gate_proj.weight torch.Size([11008, 4096]) torch.int8\n",
      "model.layers.23.mlp.up_proj.weight torch.Size([11008, 4096]) torch.int8\n",
      "model.layers.23.mlp.down_proj.weight torch.Size([4096, 11008]) torch.int8\n",
      "model.layers.23.input_layernorm.weight torch.Size([4096]) torch.float16\n",
      "model.layers.23.post_attention_layernorm.weight torch.Size([4096]) torch.float16\n",
      "model.layers.24.self_attn.q_proj.weight torch.Size([4096, 4096]) torch.int8\n",
      "model.layers.24.self_attn.k_proj.weight torch.Size([4096, 4096]) torch.int8\n",
      "model.layers.24.self_attn.v_proj.weight torch.Size([4096, 4096]) torch.int8\n",
      "model.layers.24.self_attn.o_proj.weight torch.Size([4096, 4096]) torch.int8\n",
      "model.layers.24.mlp.gate_proj.weight torch.Size([11008, 4096]) torch.int8\n",
      "model.layers.24.mlp.up_proj.weight torch.Size([11008, 4096]) torch.int8\n",
      "model.layers.24.mlp.down_proj.weight torch.Size([4096, 11008]) torch.int8\n",
      "model.layers.24.input_layernorm.weight torch.Size([4096]) torch.float16\n",
      "model.layers.24.post_attention_layernorm.weight torch.Size([4096]) torch.float16\n",
      "model.layers.25.self_attn.q_proj.weight torch.Size([4096, 4096]) torch.int8\n",
      "model.layers.25.self_attn.k_proj.weight torch.Size([4096, 4096]) torch.int8\n",
      "model.layers.25.self_attn.v_proj.weight torch.Size([4096, 4096]) torch.int8\n",
      "model.layers.25.self_attn.o_proj.weight torch.Size([4096, 4096]) torch.int8\n",
      "model.layers.25.mlp.gate_proj.weight torch.Size([11008, 4096]) torch.int8\n",
      "model.layers.25.mlp.up_proj.weight torch.Size([11008, 4096]) torch.int8\n",
      "model.layers.25.mlp.down_proj.weight torch.Size([4096, 11008]) torch.int8\n",
      "model.layers.25.input_layernorm.weight torch.Size([4096]) torch.float16\n",
      "model.layers.25.post_attention_layernorm.weight torch.Size([4096]) torch.float16\n",
      "model.layers.26.self_attn.q_proj.weight torch.Size([4096, 4096]) torch.int8\n",
      "model.layers.26.self_attn.k_proj.weight torch.Size([4096, 4096]) torch.int8\n",
      "model.layers.26.self_attn.v_proj.weight torch.Size([4096, 4096]) torch.int8\n",
      "model.layers.26.self_attn.o_proj.weight torch.Size([4096, 4096]) torch.int8\n",
      "model.layers.26.mlp.gate_proj.weight torch.Size([11008, 4096]) torch.int8\n",
      "model.layers.26.mlp.up_proj.weight torch.Size([11008, 4096]) torch.int8\n",
      "model.layers.26.mlp.down_proj.weight torch.Size([4096, 11008]) torch.int8\n",
      "model.layers.26.input_layernorm.weight torch.Size([4096]) torch.float16\n",
      "model.layers.26.post_attention_layernorm.weight torch.Size([4096]) torch.float16\n",
      "model.layers.27.self_attn.q_proj.weight torch.Size([4096, 4096]) torch.int8\n",
      "model.layers.27.self_attn.k_proj.weight torch.Size([4096, 4096]) torch.int8\n",
      "model.layers.27.self_attn.v_proj.weight torch.Size([4096, 4096]) torch.int8\n",
      "model.layers.27.self_attn.o_proj.weight torch.Size([4096, 4096]) torch.int8\n",
      "model.layers.27.mlp.gate_proj.weight torch.Size([11008, 4096]) torch.int8\n",
      "model.layers.27.mlp.up_proj.weight torch.Size([11008, 4096]) torch.int8\n",
      "model.layers.27.mlp.down_proj.weight torch.Size([4096, 11008]) torch.int8\n",
      "model.layers.27.input_layernorm.weight torch.Size([4096]) torch.float16\n",
      "model.layers.27.post_attention_layernorm.weight torch.Size([4096]) torch.float16\n",
      "model.layers.28.self_attn.q_proj.weight torch.Size([4096, 4096]) torch.int8\n",
      "model.layers.28.self_attn.k_proj.weight torch.Size([4096, 4096]) torch.int8\n",
      "model.layers.28.self_attn.v_proj.weight torch.Size([4096, 4096]) torch.int8\n",
      "model.layers.28.self_attn.o_proj.weight torch.Size([4096, 4096]) torch.int8\n",
      "model.layers.28.mlp.gate_proj.weight torch.Size([11008, 4096]) torch.int8\n",
      "model.layers.28.mlp.up_proj.weight torch.Size([11008, 4096]) torch.int8\n",
      "model.layers.28.mlp.down_proj.weight torch.Size([4096, 11008]) torch.int8\n",
      "model.layers.28.input_layernorm.weight torch.Size([4096]) torch.float16\n",
      "model.layers.28.post_attention_layernorm.weight torch.Size([4096]) torch.float16\n",
      "model.layers.29.self_attn.q_proj.weight torch.Size([4096, 4096]) torch.int8\n",
      "model.layers.29.self_attn.k_proj.weight torch.Size([4096, 4096]) torch.int8\n",
      "model.layers.29.self_attn.v_proj.weight torch.Size([4096, 4096]) torch.int8\n",
      "model.layers.29.self_attn.o_proj.weight torch.Size([4096, 4096]) torch.int8\n",
      "model.layers.29.mlp.gate_proj.weight torch.Size([11008, 4096]) torch.int8\n",
      "model.layers.29.mlp.up_proj.weight torch.Size([11008, 4096]) torch.int8\n",
      "model.layers.29.mlp.down_proj.weight torch.Size([4096, 11008]) torch.int8\n",
      "model.layers.29.input_layernorm.weight torch.Size([4096]) torch.float16\n",
      "model.layers.29.post_attention_layernorm.weight torch.Size([4096]) torch.float16\n",
      "model.layers.30.self_attn.q_proj.weight torch.Size([4096, 4096]) torch.int8\n",
      "model.layers.30.self_attn.k_proj.weight torch.Size([4096, 4096]) torch.int8\n",
      "model.layers.30.self_attn.v_proj.weight torch.Size([4096, 4096]) torch.int8\n",
      "model.layers.30.self_attn.o_proj.weight torch.Size([4096, 4096]) torch.int8\n",
      "model.layers.30.mlp.gate_proj.weight torch.Size([11008, 4096]) torch.int8\n",
      "model.layers.30.mlp.up_proj.weight torch.Size([11008, 4096]) torch.int8\n",
      "model.layers.30.mlp.down_proj.weight torch.Size([4096, 11008]) torch.int8\n",
      "model.layers.30.input_layernorm.weight torch.Size([4096]) torch.float16\n",
      "model.layers.30.post_attention_layernorm.weight torch.Size([4096]) torch.float16\n",
      "model.layers.31.self_attn.q_proj.weight torch.Size([4096, 4096]) torch.int8\n",
      "model.layers.31.self_attn.k_proj.weight torch.Size([4096, 4096]) torch.int8\n",
      "model.layers.31.self_attn.v_proj.weight torch.Size([4096, 4096]) torch.int8\n",
      "model.layers.31.self_attn.o_proj.weight torch.Size([4096, 4096]) torch.int8\n",
      "model.layers.31.mlp.gate_proj.weight torch.Size([11008, 4096]) torch.int8\n",
      "model.layers.31.mlp.up_proj.weight torch.Size([11008, 4096]) torch.int8\n",
      "model.layers.31.mlp.down_proj.weight torch.Size([4096, 11008]) torch.int8\n",
      "model.layers.31.input_layernorm.weight torch.Size([4096]) torch.float16\n",
      "model.layers.31.post_attention_layernorm.weight torch.Size([4096]) torch.float16\n",
      "model.norm.weight torch.Size([4096]) torch.float16\n",
      "lm_head.weight torch.Size([32000, 4096]) torch.float16\n"
     ]
    }
   ],
   "source": [
    "for name, param in model.named_parameters():\n",
    "    print(name, param.shape, param.dtype) # 量化主要发生在需要矩阵乘法的那些层"
   ]
  },
  {
   "cell_type": "code",
   "execution_count": 19,
   "metadata": {},
   "outputs": [
    {
     "data": {
      "text/plain": [
       "LlamaConfig {\n",
       "  \"_name_or_path\": \"/data/PLM/Llama-2-7b-ms\",\n",
       "  \"architectures\": [\n",
       "    \"LlamaForCausalLM\"\n",
       "  ],\n",
       "  \"attention_bias\": false,\n",
       "  \"bos_token_id\": 1,\n",
       "  \"eos_token_id\": 2,\n",
       "  \"hidden_act\": \"silu\",\n",
       "  \"hidden_size\": 4096,\n",
       "  \"initializer_range\": 0.02,\n",
       "  \"intermediate_size\": 11008,\n",
       "  \"max_position_embeddings\": 4096,\n",
       "  \"model_type\": \"llama\",\n",
       "  \"num_attention_heads\": 32,\n",
       "  \"num_hidden_layers\": 32,\n",
       "  \"num_key_value_heads\": 32,\n",
       "  \"pad_token_id\": 0,\n",
       "  \"pretraining_tp\": 1,\n",
       "  \"quantization_config\": {\n",
       "    \"bnb_4bit_compute_dtype\": \"float32\",\n",
       "    \"bnb_4bit_quant_type\": \"fp4\",\n",
       "    \"bnb_4bit_use_double_quant\": false,\n",
       "    \"llm_int8_enable_fp32_cpu_offload\": false,\n",
       "    \"llm_int8_has_fp16_weight\": false,\n",
       "    \"llm_int8_skip_modules\": null,\n",
       "    \"llm_int8_threshold\": 6.0,\n",
       "    \"load_in_4bit\": false,\n",
       "    \"load_in_8bit\": true,\n",
       "    \"quant_method\": \"bitsandbytes\"\n",
       "  },\n",
       "  \"rms_norm_eps\": 1e-05,\n",
       "  \"rope_scaling\": null,\n",
       "  \"rope_theta\": 10000.0,\n",
       "  \"tie_word_embeddings\": false,\n",
       "  \"torch_dtype\": \"float16\",\n",
       "  \"transformers_version\": \"4.34.1\",\n",
       "  \"use_cache\": true,\n",
       "  \"vocab_size\": 32000\n",
       "}"
      ]
     },
     "execution_count": 19,
     "metadata": {},
     "output_type": "execute_result"
    }
   ],
   "source": [
    "model.config # 配置项中多了\"quantization_config\"的部分"
   ]
  },
  {
   "cell_type": "markdown",
   "metadata": {},
   "source": [
    "## Lora"
   ]
  },
  {
   "cell_type": "markdown",
   "metadata": {},
   "source": [
    "### PEFT Step1 配置文件"
   ]
  },
  {
   "cell_type": "code",
   "execution_count": 20,
   "metadata": {},
   "outputs": [
    {
     "data": {
      "text/plain": [
       "LoraConfig(peft_type=<PeftType.LORA: 'LORA'>, auto_mapping=None, base_model_name_or_path=None, revision=None, task_type=<TaskType.CAUSAL_LM: 'CAUSAL_LM'>, inference_mode=False, r=8, target_modules=None, lora_alpha=8, lora_dropout=0.0, fan_in_fan_out=False, bias='none', modules_to_save=None, init_lora_weights=True, layers_to_transform=None, layers_pattern=None, rank_pattern={}, alpha_pattern={})"
      ]
     },
     "execution_count": 20,
     "metadata": {},
     "output_type": "execute_result"
    }
   ],
   "source": [
    "from peft import LoraConfig, TaskType, get_peft_model\n",
    "\n",
    "config = LoraConfig(task_type=TaskType.CAUSAL_LM,)\n",
    "config"
   ]
  },
  {
   "cell_type": "markdown",
   "metadata": {},
   "source": [
    "### PEFT Step2 创建模型"
   ]
  },
  {
   "cell_type": "code",
   "execution_count": 21,
   "metadata": {},
   "outputs": [],
   "source": [
    "model = get_peft_model(model, config)"
   ]
  },
  {
   "cell_type": "code",
   "execution_count": 22,
   "metadata": {},
   "outputs": [
    {
     "data": {
      "text/plain": [
       "LoraConfig(peft_type=<PeftType.LORA: 'LORA'>, auto_mapping=None, base_model_name_or_path='/data/PLM/Llama-2-7b-ms', revision=None, task_type=<TaskType.CAUSAL_LM: 'CAUSAL_LM'>, inference_mode=False, r=8, target_modules={'v_proj', 'q_proj'}, lora_alpha=8, lora_dropout=0.0, fan_in_fan_out=False, bias='none', modules_to_save=None, init_lora_weights=True, layers_to_transform=None, layers_pattern=None, rank_pattern={}, alpha_pattern={})"
      ]
     },
     "execution_count": 22,
     "metadata": {},
     "output_type": "execute_result"
    }
   ],
   "source": [
    "config"
   ]
  },
  {
   "cell_type": "code",
   "execution_count": 23,
   "metadata": {},
   "outputs": [
    {
     "name": "stdout",
     "output_type": "stream",
     "text": [
      "base_model.model.model.embed_tokens.weight torch.float16\n",
      "base_model.model.model.layers.0.self_attn.q_proj.lora_A.default.weight torch.float32\n",
      "base_model.model.model.layers.0.self_attn.q_proj.lora_B.default.weight torch.float32\n",
      "base_model.model.model.layers.0.self_attn.q_proj.base_layer.weight torch.int8\n",
      "base_model.model.model.layers.0.self_attn.k_proj.weight torch.int8\n",
      "base_model.model.model.layers.0.self_attn.v_proj.lora_A.default.weight torch.float32\n",
      "base_model.model.model.layers.0.self_attn.v_proj.lora_B.default.weight torch.float32\n",
      "base_model.model.model.layers.0.self_attn.v_proj.base_layer.weight torch.int8\n",
      "base_model.model.model.layers.0.self_attn.o_proj.weight torch.int8\n",
      "base_model.model.model.layers.0.mlp.gate_proj.weight torch.int8\n",
      "base_model.model.model.layers.0.mlp.up_proj.weight torch.int8\n",
      "base_model.model.model.layers.0.mlp.down_proj.weight torch.int8\n",
      "base_model.model.model.layers.0.input_layernorm.weight torch.float16\n",
      "base_model.model.model.layers.0.post_attention_layernorm.weight torch.float16\n",
      "base_model.model.model.layers.1.self_attn.q_proj.lora_A.default.weight torch.float32\n",
      "base_model.model.model.layers.1.self_attn.q_proj.lora_B.default.weight torch.float32\n",
      "base_model.model.model.layers.1.self_attn.q_proj.base_layer.weight torch.int8\n",
      "base_model.model.model.layers.1.self_attn.k_proj.weight torch.int8\n",
      "base_model.model.model.layers.1.self_attn.v_proj.lora_A.default.weight torch.float32\n",
      "base_model.model.model.layers.1.self_attn.v_proj.lora_B.default.weight torch.float32\n",
      "base_model.model.model.layers.1.self_attn.v_proj.base_layer.weight torch.int8\n",
      "base_model.model.model.layers.1.self_attn.o_proj.weight torch.int8\n",
      "base_model.model.model.layers.1.mlp.gate_proj.weight torch.int8\n",
      "base_model.model.model.layers.1.mlp.up_proj.weight torch.int8\n",
      "base_model.model.model.layers.1.mlp.down_proj.weight torch.int8\n",
      "base_model.model.model.layers.1.input_layernorm.weight torch.float16\n",
      "base_model.model.model.layers.1.post_attention_layernorm.weight torch.float16\n",
      "base_model.model.model.layers.2.self_attn.q_proj.lora_A.default.weight torch.float32\n",
      "base_model.model.model.layers.2.self_attn.q_proj.lora_B.default.weight torch.float32\n",
      "base_model.model.model.layers.2.self_attn.q_proj.base_layer.weight torch.int8\n",
      "base_model.model.model.layers.2.self_attn.k_proj.weight torch.int8\n",
      "base_model.model.model.layers.2.self_attn.v_proj.lora_A.default.weight torch.float32\n",
      "base_model.model.model.layers.2.self_attn.v_proj.lora_B.default.weight torch.float32\n",
      "base_model.model.model.layers.2.self_attn.v_proj.base_layer.weight torch.int8\n",
      "base_model.model.model.layers.2.self_attn.o_proj.weight torch.int8\n",
      "base_model.model.model.layers.2.mlp.gate_proj.weight torch.int8\n",
      "base_model.model.model.layers.2.mlp.up_proj.weight torch.int8\n",
      "base_model.model.model.layers.2.mlp.down_proj.weight torch.int8\n",
      "base_model.model.model.layers.2.input_layernorm.weight torch.float16\n",
      "base_model.model.model.layers.2.post_attention_layernorm.weight torch.float16\n",
      "base_model.model.model.layers.3.self_attn.q_proj.lora_A.default.weight torch.float32\n",
      "base_model.model.model.layers.3.self_attn.q_proj.lora_B.default.weight torch.float32\n",
      "base_model.model.model.layers.3.self_attn.q_proj.base_layer.weight torch.int8\n",
      "base_model.model.model.layers.3.self_attn.k_proj.weight torch.int8\n",
      "base_model.model.model.layers.3.self_attn.v_proj.lora_A.default.weight torch.float32\n",
      "base_model.model.model.layers.3.self_attn.v_proj.lora_B.default.weight torch.float32\n",
      "base_model.model.model.layers.3.self_attn.v_proj.base_layer.weight torch.int8\n",
      "base_model.model.model.layers.3.self_attn.o_proj.weight torch.int8\n",
      "base_model.model.model.layers.3.mlp.gate_proj.weight torch.int8\n",
      "base_model.model.model.layers.3.mlp.up_proj.weight torch.int8\n",
      "base_model.model.model.layers.3.mlp.down_proj.weight torch.int8\n",
      "base_model.model.model.layers.3.input_layernorm.weight torch.float16\n",
      "base_model.model.model.layers.3.post_attention_layernorm.weight torch.float16\n",
      "base_model.model.model.layers.4.self_attn.q_proj.lora_A.default.weight torch.float32\n",
      "base_model.model.model.layers.4.self_attn.q_proj.lora_B.default.weight torch.float32\n",
      "base_model.model.model.layers.4.self_attn.q_proj.base_layer.weight torch.int8\n",
      "base_model.model.model.layers.4.self_attn.k_proj.weight torch.int8\n",
      "base_model.model.model.layers.4.self_attn.v_proj.lora_A.default.weight torch.float32\n",
      "base_model.model.model.layers.4.self_attn.v_proj.lora_B.default.weight torch.float32\n",
      "base_model.model.model.layers.4.self_attn.v_proj.base_layer.weight torch.int8\n",
      "base_model.model.model.layers.4.self_attn.o_proj.weight torch.int8\n",
      "base_model.model.model.layers.4.mlp.gate_proj.weight torch.int8\n",
      "base_model.model.model.layers.4.mlp.up_proj.weight torch.int8\n",
      "base_model.model.model.layers.4.mlp.down_proj.weight torch.int8\n",
      "base_model.model.model.layers.4.input_layernorm.weight torch.float16\n",
      "base_model.model.model.layers.4.post_attention_layernorm.weight torch.float16\n",
      "base_model.model.model.layers.5.self_attn.q_proj.lora_A.default.weight torch.float32\n",
      "base_model.model.model.layers.5.self_attn.q_proj.lora_B.default.weight torch.float32\n",
      "base_model.model.model.layers.5.self_attn.q_proj.base_layer.weight torch.int8\n",
      "base_model.model.model.layers.5.self_attn.k_proj.weight torch.int8\n",
      "base_model.model.model.layers.5.self_attn.v_proj.lora_A.default.weight torch.float32\n",
      "base_model.model.model.layers.5.self_attn.v_proj.lora_B.default.weight torch.float32\n",
      "base_model.model.model.layers.5.self_attn.v_proj.base_layer.weight torch.int8\n",
      "base_model.model.model.layers.5.self_attn.o_proj.weight torch.int8\n",
      "base_model.model.model.layers.5.mlp.gate_proj.weight torch.int8\n",
      "base_model.model.model.layers.5.mlp.up_proj.weight torch.int8\n",
      "base_model.model.model.layers.5.mlp.down_proj.weight torch.int8\n",
      "base_model.model.model.layers.5.input_layernorm.weight torch.float16\n",
      "base_model.model.model.layers.5.post_attention_layernorm.weight torch.float16\n",
      "base_model.model.model.layers.6.self_attn.q_proj.lora_A.default.weight torch.float32\n",
      "base_model.model.model.layers.6.self_attn.q_proj.lora_B.default.weight torch.float32\n",
      "base_model.model.model.layers.6.self_attn.q_proj.base_layer.weight torch.int8\n",
      "base_model.model.model.layers.6.self_attn.k_proj.weight torch.int8\n",
      "base_model.model.model.layers.6.self_attn.v_proj.lora_A.default.weight torch.float32\n",
      "base_model.model.model.layers.6.self_attn.v_proj.lora_B.default.weight torch.float32\n",
      "base_model.model.model.layers.6.self_attn.v_proj.base_layer.weight torch.int8\n",
      "base_model.model.model.layers.6.self_attn.o_proj.weight torch.int8\n",
      "base_model.model.model.layers.6.mlp.gate_proj.weight torch.int8\n",
      "base_model.model.model.layers.6.mlp.up_proj.weight torch.int8\n",
      "base_model.model.model.layers.6.mlp.down_proj.weight torch.int8\n",
      "base_model.model.model.layers.6.input_layernorm.weight torch.float16\n",
      "base_model.model.model.layers.6.post_attention_layernorm.weight torch.float16\n",
      "base_model.model.model.layers.7.self_attn.q_proj.lora_A.default.weight torch.float32\n",
      "base_model.model.model.layers.7.self_attn.q_proj.lora_B.default.weight torch.float32\n",
      "base_model.model.model.layers.7.self_attn.q_proj.base_layer.weight torch.int8\n",
      "base_model.model.model.layers.7.self_attn.k_proj.weight torch.int8\n",
      "base_model.model.model.layers.7.self_attn.v_proj.lora_A.default.weight torch.float32\n",
      "base_model.model.model.layers.7.self_attn.v_proj.lora_B.default.weight torch.float32\n",
      "base_model.model.model.layers.7.self_attn.v_proj.base_layer.weight torch.int8\n",
      "base_model.model.model.layers.7.self_attn.o_proj.weight torch.int8\n",
      "base_model.model.model.layers.7.mlp.gate_proj.weight torch.int8\n",
      "base_model.model.model.layers.7.mlp.up_proj.weight torch.int8\n",
      "base_model.model.model.layers.7.mlp.down_proj.weight torch.int8\n",
      "base_model.model.model.layers.7.input_layernorm.weight torch.float16\n",
      "base_model.model.model.layers.7.post_attention_layernorm.weight torch.float16\n",
      "base_model.model.model.layers.8.self_attn.q_proj.lora_A.default.weight torch.float32\n",
      "base_model.model.model.layers.8.self_attn.q_proj.lora_B.default.weight torch.float32\n",
      "base_model.model.model.layers.8.self_attn.q_proj.base_layer.weight torch.int8\n",
      "base_model.model.model.layers.8.self_attn.k_proj.weight torch.int8\n",
      "base_model.model.model.layers.8.self_attn.v_proj.lora_A.default.weight torch.float32\n",
      "base_model.model.model.layers.8.self_attn.v_proj.lora_B.default.weight torch.float32\n",
      "base_model.model.model.layers.8.self_attn.v_proj.base_layer.weight torch.int8\n",
      "base_model.model.model.layers.8.self_attn.o_proj.weight torch.int8\n",
      "base_model.model.model.layers.8.mlp.gate_proj.weight torch.int8\n",
      "base_model.model.model.layers.8.mlp.up_proj.weight torch.int8\n",
      "base_model.model.model.layers.8.mlp.down_proj.weight torch.int8\n",
      "base_model.model.model.layers.8.input_layernorm.weight torch.float16\n",
      "base_model.model.model.layers.8.post_attention_layernorm.weight torch.float16\n",
      "base_model.model.model.layers.9.self_attn.q_proj.lora_A.default.weight torch.float32\n",
      "base_model.model.model.layers.9.self_attn.q_proj.lora_B.default.weight torch.float32\n",
      "base_model.model.model.layers.9.self_attn.q_proj.base_layer.weight torch.int8\n",
      "base_model.model.model.layers.9.self_attn.k_proj.weight torch.int8\n",
      "base_model.model.model.layers.9.self_attn.v_proj.lora_A.default.weight torch.float32\n",
      "base_model.model.model.layers.9.self_attn.v_proj.lora_B.default.weight torch.float32\n",
      "base_model.model.model.layers.9.self_attn.v_proj.base_layer.weight torch.int8\n",
      "base_model.model.model.layers.9.self_attn.o_proj.weight torch.int8\n",
      "base_model.model.model.layers.9.mlp.gate_proj.weight torch.int8\n",
      "base_model.model.model.layers.9.mlp.up_proj.weight torch.int8\n",
      "base_model.model.model.layers.9.mlp.down_proj.weight torch.int8\n",
      "base_model.model.model.layers.9.input_layernorm.weight torch.float16\n",
      "base_model.model.model.layers.9.post_attention_layernorm.weight torch.float16\n",
      "base_model.model.model.layers.10.self_attn.q_proj.lora_A.default.weight torch.float32\n",
      "base_model.model.model.layers.10.self_attn.q_proj.lora_B.default.weight torch.float32\n",
      "base_model.model.model.layers.10.self_attn.q_proj.base_layer.weight torch.int8\n",
      "base_model.model.model.layers.10.self_attn.k_proj.weight torch.int8\n",
      "base_model.model.model.layers.10.self_attn.v_proj.lora_A.default.weight torch.float32\n",
      "base_model.model.model.layers.10.self_attn.v_proj.lora_B.default.weight torch.float32\n",
      "base_model.model.model.layers.10.self_attn.v_proj.base_layer.weight torch.int8\n",
      "base_model.model.model.layers.10.self_attn.o_proj.weight torch.int8\n",
      "base_model.model.model.layers.10.mlp.gate_proj.weight torch.int8\n",
      "base_model.model.model.layers.10.mlp.up_proj.weight torch.int8\n",
      "base_model.model.model.layers.10.mlp.down_proj.weight torch.int8\n",
      "base_model.model.model.layers.10.input_layernorm.weight torch.float16\n",
      "base_model.model.model.layers.10.post_attention_layernorm.weight torch.float16\n",
      "base_model.model.model.layers.11.self_attn.q_proj.lora_A.default.weight torch.float32\n",
      "base_model.model.model.layers.11.self_attn.q_proj.lora_B.default.weight torch.float32\n",
      "base_model.model.model.layers.11.self_attn.q_proj.base_layer.weight torch.int8\n",
      "base_model.model.model.layers.11.self_attn.k_proj.weight torch.int8\n",
      "base_model.model.model.layers.11.self_attn.v_proj.lora_A.default.weight torch.float32\n",
      "base_model.model.model.layers.11.self_attn.v_proj.lora_B.default.weight torch.float32\n",
      "base_model.model.model.layers.11.self_attn.v_proj.base_layer.weight torch.int8\n",
      "base_model.model.model.layers.11.self_attn.o_proj.weight torch.int8\n",
      "base_model.model.model.layers.11.mlp.gate_proj.weight torch.int8\n",
      "base_model.model.model.layers.11.mlp.up_proj.weight torch.int8\n",
      "base_model.model.model.layers.11.mlp.down_proj.weight torch.int8\n",
      "base_model.model.model.layers.11.input_layernorm.weight torch.float16\n",
      "base_model.model.model.layers.11.post_attention_layernorm.weight torch.float16\n",
      "base_model.model.model.layers.12.self_attn.q_proj.lora_A.default.weight torch.float32\n",
      "base_model.model.model.layers.12.self_attn.q_proj.lora_B.default.weight torch.float32\n",
      "base_model.model.model.layers.12.self_attn.q_proj.base_layer.weight torch.int8\n",
      "base_model.model.model.layers.12.self_attn.k_proj.weight torch.int8\n",
      "base_model.model.model.layers.12.self_attn.v_proj.lora_A.default.weight torch.float32\n",
      "base_model.model.model.layers.12.self_attn.v_proj.lora_B.default.weight torch.float32\n",
      "base_model.model.model.layers.12.self_attn.v_proj.base_layer.weight torch.int8\n",
      "base_model.model.model.layers.12.self_attn.o_proj.weight torch.int8\n",
      "base_model.model.model.layers.12.mlp.gate_proj.weight torch.int8\n",
      "base_model.model.model.layers.12.mlp.up_proj.weight torch.int8\n",
      "base_model.model.model.layers.12.mlp.down_proj.weight torch.int8\n",
      "base_model.model.model.layers.12.input_layernorm.weight torch.float16\n",
      "base_model.model.model.layers.12.post_attention_layernorm.weight torch.float16\n",
      "base_model.model.model.layers.13.self_attn.q_proj.lora_A.default.weight torch.float32\n",
      "base_model.model.model.layers.13.self_attn.q_proj.lora_B.default.weight torch.float32\n",
      "base_model.model.model.layers.13.self_attn.q_proj.base_layer.weight torch.int8\n",
      "base_model.model.model.layers.13.self_attn.k_proj.weight torch.int8\n",
      "base_model.model.model.layers.13.self_attn.v_proj.lora_A.default.weight torch.float32\n",
      "base_model.model.model.layers.13.self_attn.v_proj.lora_B.default.weight torch.float32\n",
      "base_model.model.model.layers.13.self_attn.v_proj.base_layer.weight torch.int8\n",
      "base_model.model.model.layers.13.self_attn.o_proj.weight torch.int8\n",
      "base_model.model.model.layers.13.mlp.gate_proj.weight torch.int8\n",
      "base_model.model.model.layers.13.mlp.up_proj.weight torch.int8\n",
      "base_model.model.model.layers.13.mlp.down_proj.weight torch.int8\n",
      "base_model.model.model.layers.13.input_layernorm.weight torch.float16\n",
      "base_model.model.model.layers.13.post_attention_layernorm.weight torch.float16\n",
      "base_model.model.model.layers.14.self_attn.q_proj.lora_A.default.weight torch.float32\n",
      "base_model.model.model.layers.14.self_attn.q_proj.lora_B.default.weight torch.float32\n",
      "base_model.model.model.layers.14.self_attn.q_proj.base_layer.weight torch.int8\n",
      "base_model.model.model.layers.14.self_attn.k_proj.weight torch.int8\n",
      "base_model.model.model.layers.14.self_attn.v_proj.lora_A.default.weight torch.float32\n",
      "base_model.model.model.layers.14.self_attn.v_proj.lora_B.default.weight torch.float32\n",
      "base_model.model.model.layers.14.self_attn.v_proj.base_layer.weight torch.int8\n",
      "base_model.model.model.layers.14.self_attn.o_proj.weight torch.int8\n",
      "base_model.model.model.layers.14.mlp.gate_proj.weight torch.int8\n",
      "base_model.model.model.layers.14.mlp.up_proj.weight torch.int8\n",
      "base_model.model.model.layers.14.mlp.down_proj.weight torch.int8\n",
      "base_model.model.model.layers.14.input_layernorm.weight torch.float16\n",
      "base_model.model.model.layers.14.post_attention_layernorm.weight torch.float16\n",
      "base_model.model.model.layers.15.self_attn.q_proj.lora_A.default.weight torch.float32\n",
      "base_model.model.model.layers.15.self_attn.q_proj.lora_B.default.weight torch.float32\n",
      "base_model.model.model.layers.15.self_attn.q_proj.base_layer.weight torch.int8\n",
      "base_model.model.model.layers.15.self_attn.k_proj.weight torch.int8\n",
      "base_model.model.model.layers.15.self_attn.v_proj.lora_A.default.weight torch.float32\n",
      "base_model.model.model.layers.15.self_attn.v_proj.lora_B.default.weight torch.float32\n",
      "base_model.model.model.layers.15.self_attn.v_proj.base_layer.weight torch.int8\n",
      "base_model.model.model.layers.15.self_attn.o_proj.weight torch.int8\n",
      "base_model.model.model.layers.15.mlp.gate_proj.weight torch.int8\n",
      "base_model.model.model.layers.15.mlp.up_proj.weight torch.int8\n",
      "base_model.model.model.layers.15.mlp.down_proj.weight torch.int8\n",
      "base_model.model.model.layers.15.input_layernorm.weight torch.float16\n",
      "base_model.model.model.layers.15.post_attention_layernorm.weight torch.float16\n",
      "base_model.model.model.layers.16.self_attn.q_proj.lora_A.default.weight torch.float32\n",
      "base_model.model.model.layers.16.self_attn.q_proj.lora_B.default.weight torch.float32\n",
      "base_model.model.model.layers.16.self_attn.q_proj.base_layer.weight torch.int8\n",
      "base_model.model.model.layers.16.self_attn.k_proj.weight torch.int8\n",
      "base_model.model.model.layers.16.self_attn.v_proj.lora_A.default.weight torch.float32\n",
      "base_model.model.model.layers.16.self_attn.v_proj.lora_B.default.weight torch.float32\n",
      "base_model.model.model.layers.16.self_attn.v_proj.base_layer.weight torch.int8\n",
      "base_model.model.model.layers.16.self_attn.o_proj.weight torch.int8\n",
      "base_model.model.model.layers.16.mlp.gate_proj.weight torch.int8\n",
      "base_model.model.model.layers.16.mlp.up_proj.weight torch.int8\n",
      "base_model.model.model.layers.16.mlp.down_proj.weight torch.int8\n",
      "base_model.model.model.layers.16.input_layernorm.weight torch.float16\n",
      "base_model.model.model.layers.16.post_attention_layernorm.weight torch.float16\n",
      "base_model.model.model.layers.17.self_attn.q_proj.lora_A.default.weight torch.float32\n",
      "base_model.model.model.layers.17.self_attn.q_proj.lora_B.default.weight torch.float32\n",
      "base_model.model.model.layers.17.self_attn.q_proj.base_layer.weight torch.int8\n",
      "base_model.model.model.layers.17.self_attn.k_proj.weight torch.int8\n",
      "base_model.model.model.layers.17.self_attn.v_proj.lora_A.default.weight torch.float32\n",
      "base_model.model.model.layers.17.self_attn.v_proj.lora_B.default.weight torch.float32\n",
      "base_model.model.model.layers.17.self_attn.v_proj.base_layer.weight torch.int8\n",
      "base_model.model.model.layers.17.self_attn.o_proj.weight torch.int8\n",
      "base_model.model.model.layers.17.mlp.gate_proj.weight torch.int8\n",
      "base_model.model.model.layers.17.mlp.up_proj.weight torch.int8\n",
      "base_model.model.model.layers.17.mlp.down_proj.weight torch.int8\n",
      "base_model.model.model.layers.17.input_layernorm.weight torch.float16\n",
      "base_model.model.model.layers.17.post_attention_layernorm.weight torch.float16\n",
      "base_model.model.model.layers.18.self_attn.q_proj.lora_A.default.weight torch.float32\n",
      "base_model.model.model.layers.18.self_attn.q_proj.lora_B.default.weight torch.float32\n",
      "base_model.model.model.layers.18.self_attn.q_proj.base_layer.weight torch.int8\n",
      "base_model.model.model.layers.18.self_attn.k_proj.weight torch.int8\n",
      "base_model.model.model.layers.18.self_attn.v_proj.lora_A.default.weight torch.float32\n",
      "base_model.model.model.layers.18.self_attn.v_proj.lora_B.default.weight torch.float32\n",
      "base_model.model.model.layers.18.self_attn.v_proj.base_layer.weight torch.int8\n",
      "base_model.model.model.layers.18.self_attn.o_proj.weight torch.int8\n",
      "base_model.model.model.layers.18.mlp.gate_proj.weight torch.int8\n",
      "base_model.model.model.layers.18.mlp.up_proj.weight torch.int8\n",
      "base_model.model.model.layers.18.mlp.down_proj.weight torch.int8\n",
      "base_model.model.model.layers.18.input_layernorm.weight torch.float16\n",
      "base_model.model.model.layers.18.post_attention_layernorm.weight torch.float16\n",
      "base_model.model.model.layers.19.self_attn.q_proj.lora_A.default.weight torch.float32\n",
      "base_model.model.model.layers.19.self_attn.q_proj.lora_B.default.weight torch.float32\n",
      "base_model.model.model.layers.19.self_attn.q_proj.base_layer.weight torch.int8\n",
      "base_model.model.model.layers.19.self_attn.k_proj.weight torch.int8\n",
      "base_model.model.model.layers.19.self_attn.v_proj.lora_A.default.weight torch.float32\n",
      "base_model.model.model.layers.19.self_attn.v_proj.lora_B.default.weight torch.float32\n",
      "base_model.model.model.layers.19.self_attn.v_proj.base_layer.weight torch.int8\n",
      "base_model.model.model.layers.19.self_attn.o_proj.weight torch.int8\n",
      "base_model.model.model.layers.19.mlp.gate_proj.weight torch.int8\n",
      "base_model.model.model.layers.19.mlp.up_proj.weight torch.int8\n",
      "base_model.model.model.layers.19.mlp.down_proj.weight torch.int8\n",
      "base_model.model.model.layers.19.input_layernorm.weight torch.float16\n",
      "base_model.model.model.layers.19.post_attention_layernorm.weight torch.float16\n",
      "base_model.model.model.layers.20.self_attn.q_proj.lora_A.default.weight torch.float32\n",
      "base_model.model.model.layers.20.self_attn.q_proj.lora_B.default.weight torch.float32\n",
      "base_model.model.model.layers.20.self_attn.q_proj.base_layer.weight torch.int8\n",
      "base_model.model.model.layers.20.self_attn.k_proj.weight torch.int8\n",
      "base_model.model.model.layers.20.self_attn.v_proj.lora_A.default.weight torch.float32\n",
      "base_model.model.model.layers.20.self_attn.v_proj.lora_B.default.weight torch.float32\n",
      "base_model.model.model.layers.20.self_attn.v_proj.base_layer.weight torch.int8\n",
      "base_model.model.model.layers.20.self_attn.o_proj.weight torch.int8\n",
      "base_model.model.model.layers.20.mlp.gate_proj.weight torch.int8\n",
      "base_model.model.model.layers.20.mlp.up_proj.weight torch.int8\n",
      "base_model.model.model.layers.20.mlp.down_proj.weight torch.int8\n",
      "base_model.model.model.layers.20.input_layernorm.weight torch.float16\n",
      "base_model.model.model.layers.20.post_attention_layernorm.weight torch.float16\n",
      "base_model.model.model.layers.21.self_attn.q_proj.lora_A.default.weight torch.float32\n",
      "base_model.model.model.layers.21.self_attn.q_proj.lora_B.default.weight torch.float32\n",
      "base_model.model.model.layers.21.self_attn.q_proj.base_layer.weight torch.int8\n",
      "base_model.model.model.layers.21.self_attn.k_proj.weight torch.int8\n",
      "base_model.model.model.layers.21.self_attn.v_proj.lora_A.default.weight torch.float32\n",
      "base_model.model.model.layers.21.self_attn.v_proj.lora_B.default.weight torch.float32\n",
      "base_model.model.model.layers.21.self_attn.v_proj.base_layer.weight torch.int8\n",
      "base_model.model.model.layers.21.self_attn.o_proj.weight torch.int8\n",
      "base_model.model.model.layers.21.mlp.gate_proj.weight torch.int8\n",
      "base_model.model.model.layers.21.mlp.up_proj.weight torch.int8\n",
      "base_model.model.model.layers.21.mlp.down_proj.weight torch.int8\n",
      "base_model.model.model.layers.21.input_layernorm.weight torch.float16\n",
      "base_model.model.model.layers.21.post_attention_layernorm.weight torch.float16\n",
      "base_model.model.model.layers.22.self_attn.q_proj.lora_A.default.weight torch.float32\n",
      "base_model.model.model.layers.22.self_attn.q_proj.lora_B.default.weight torch.float32\n",
      "base_model.model.model.layers.22.self_attn.q_proj.base_layer.weight torch.int8\n",
      "base_model.model.model.layers.22.self_attn.k_proj.weight torch.int8\n",
      "base_model.model.model.layers.22.self_attn.v_proj.lora_A.default.weight torch.float32\n",
      "base_model.model.model.layers.22.self_attn.v_proj.lora_B.default.weight torch.float32\n",
      "base_model.model.model.layers.22.self_attn.v_proj.base_layer.weight torch.int8\n",
      "base_model.model.model.layers.22.self_attn.o_proj.weight torch.int8\n",
      "base_model.model.model.layers.22.mlp.gate_proj.weight torch.int8\n",
      "base_model.model.model.layers.22.mlp.up_proj.weight torch.int8\n",
      "base_model.model.model.layers.22.mlp.down_proj.weight torch.int8\n",
      "base_model.model.model.layers.22.input_layernorm.weight torch.float16\n",
      "base_model.model.model.layers.22.post_attention_layernorm.weight torch.float16\n",
      "base_model.model.model.layers.23.self_attn.q_proj.lora_A.default.weight torch.float32\n",
      "base_model.model.model.layers.23.self_attn.q_proj.lora_B.default.weight torch.float32\n",
      "base_model.model.model.layers.23.self_attn.q_proj.base_layer.weight torch.int8\n",
      "base_model.model.model.layers.23.self_attn.k_proj.weight torch.int8\n",
      "base_model.model.model.layers.23.self_attn.v_proj.lora_A.default.weight torch.float32\n",
      "base_model.model.model.layers.23.self_attn.v_proj.lora_B.default.weight torch.float32\n",
      "base_model.model.model.layers.23.self_attn.v_proj.base_layer.weight torch.int8\n",
      "base_model.model.model.layers.23.self_attn.o_proj.weight torch.int8\n",
      "base_model.model.model.layers.23.mlp.gate_proj.weight torch.int8\n",
      "base_model.model.model.layers.23.mlp.up_proj.weight torch.int8\n",
      "base_model.model.model.layers.23.mlp.down_proj.weight torch.int8\n",
      "base_model.model.model.layers.23.input_layernorm.weight torch.float16\n",
      "base_model.model.model.layers.23.post_attention_layernorm.weight torch.float16\n",
      "base_model.model.model.layers.24.self_attn.q_proj.lora_A.default.weight torch.float32\n",
      "base_model.model.model.layers.24.self_attn.q_proj.lora_B.default.weight torch.float32\n",
      "base_model.model.model.layers.24.self_attn.q_proj.base_layer.weight torch.int8\n",
      "base_model.model.model.layers.24.self_attn.k_proj.weight torch.int8\n",
      "base_model.model.model.layers.24.self_attn.v_proj.lora_A.default.weight torch.float32\n",
      "base_model.model.model.layers.24.self_attn.v_proj.lora_B.default.weight torch.float32\n",
      "base_model.model.model.layers.24.self_attn.v_proj.base_layer.weight torch.int8\n",
      "base_model.model.model.layers.24.self_attn.o_proj.weight torch.int8\n",
      "base_model.model.model.layers.24.mlp.gate_proj.weight torch.int8\n",
      "base_model.model.model.layers.24.mlp.up_proj.weight torch.int8\n",
      "base_model.model.model.layers.24.mlp.down_proj.weight torch.int8\n",
      "base_model.model.model.layers.24.input_layernorm.weight torch.float16\n",
      "base_model.model.model.layers.24.post_attention_layernorm.weight torch.float16\n",
      "base_model.model.model.layers.25.self_attn.q_proj.lora_A.default.weight torch.float32\n",
      "base_model.model.model.layers.25.self_attn.q_proj.lora_B.default.weight torch.float32\n",
      "base_model.model.model.layers.25.self_attn.q_proj.base_layer.weight torch.int8\n",
      "base_model.model.model.layers.25.self_attn.k_proj.weight torch.int8\n",
      "base_model.model.model.layers.25.self_attn.v_proj.lora_A.default.weight torch.float32\n",
      "base_model.model.model.layers.25.self_attn.v_proj.lora_B.default.weight torch.float32\n",
      "base_model.model.model.layers.25.self_attn.v_proj.base_layer.weight torch.int8\n",
      "base_model.model.model.layers.25.self_attn.o_proj.weight torch.int8\n",
      "base_model.model.model.layers.25.mlp.gate_proj.weight torch.int8\n",
      "base_model.model.model.layers.25.mlp.up_proj.weight torch.int8\n",
      "base_model.model.model.layers.25.mlp.down_proj.weight torch.int8\n",
      "base_model.model.model.layers.25.input_layernorm.weight torch.float16\n",
      "base_model.model.model.layers.25.post_attention_layernorm.weight torch.float16\n",
      "base_model.model.model.layers.26.self_attn.q_proj.lora_A.default.weight torch.float32\n",
      "base_model.model.model.layers.26.self_attn.q_proj.lora_B.default.weight torch.float32\n",
      "base_model.model.model.layers.26.self_attn.q_proj.base_layer.weight torch.int8\n",
      "base_model.model.model.layers.26.self_attn.k_proj.weight torch.int8\n",
      "base_model.model.model.layers.26.self_attn.v_proj.lora_A.default.weight torch.float32\n",
      "base_model.model.model.layers.26.self_attn.v_proj.lora_B.default.weight torch.float32\n",
      "base_model.model.model.layers.26.self_attn.v_proj.base_layer.weight torch.int8\n",
      "base_model.model.model.layers.26.self_attn.o_proj.weight torch.int8\n",
      "base_model.model.model.layers.26.mlp.gate_proj.weight torch.int8\n",
      "base_model.model.model.layers.26.mlp.up_proj.weight torch.int8\n",
      "base_model.model.model.layers.26.mlp.down_proj.weight torch.int8\n",
      "base_model.model.model.layers.26.input_layernorm.weight torch.float16\n",
      "base_model.model.model.layers.26.post_attention_layernorm.weight torch.float16\n",
      "base_model.model.model.layers.27.self_attn.q_proj.lora_A.default.weight torch.float32\n",
      "base_model.model.model.layers.27.self_attn.q_proj.lora_B.default.weight torch.float32\n",
      "base_model.model.model.layers.27.self_attn.q_proj.base_layer.weight torch.int8\n",
      "base_model.model.model.layers.27.self_attn.k_proj.weight torch.int8\n",
      "base_model.model.model.layers.27.self_attn.v_proj.lora_A.default.weight torch.float32\n",
      "base_model.model.model.layers.27.self_attn.v_proj.lora_B.default.weight torch.float32\n",
      "base_model.model.model.layers.27.self_attn.v_proj.base_layer.weight torch.int8\n",
      "base_model.model.model.layers.27.self_attn.o_proj.weight torch.int8\n",
      "base_model.model.model.layers.27.mlp.gate_proj.weight torch.int8\n",
      "base_model.model.model.layers.27.mlp.up_proj.weight torch.int8\n",
      "base_model.model.model.layers.27.mlp.down_proj.weight torch.int8\n",
      "base_model.model.model.layers.27.input_layernorm.weight torch.float16\n",
      "base_model.model.model.layers.27.post_attention_layernorm.weight torch.float16\n",
      "base_model.model.model.layers.28.self_attn.q_proj.lora_A.default.weight torch.float32\n",
      "base_model.model.model.layers.28.self_attn.q_proj.lora_B.default.weight torch.float32\n",
      "base_model.model.model.layers.28.self_attn.q_proj.base_layer.weight torch.int8\n",
      "base_model.model.model.layers.28.self_attn.k_proj.weight torch.int8\n",
      "base_model.model.model.layers.28.self_attn.v_proj.lora_A.default.weight torch.float32\n",
      "base_model.model.model.layers.28.self_attn.v_proj.lora_B.default.weight torch.float32\n",
      "base_model.model.model.layers.28.self_attn.v_proj.base_layer.weight torch.int8\n",
      "base_model.model.model.layers.28.self_attn.o_proj.weight torch.int8\n",
      "base_model.model.model.layers.28.mlp.gate_proj.weight torch.int8\n",
      "base_model.model.model.layers.28.mlp.up_proj.weight torch.int8\n",
      "base_model.model.model.layers.28.mlp.down_proj.weight torch.int8\n",
      "base_model.model.model.layers.28.input_layernorm.weight torch.float16\n",
      "base_model.model.model.layers.28.post_attention_layernorm.weight torch.float16\n",
      "base_model.model.model.layers.29.self_attn.q_proj.lora_A.default.weight torch.float32\n",
      "base_model.model.model.layers.29.self_attn.q_proj.lora_B.default.weight torch.float32\n",
      "base_model.model.model.layers.29.self_attn.q_proj.base_layer.weight torch.int8\n",
      "base_model.model.model.layers.29.self_attn.k_proj.weight torch.int8\n",
      "base_model.model.model.layers.29.self_attn.v_proj.lora_A.default.weight torch.float32\n",
      "base_model.model.model.layers.29.self_attn.v_proj.lora_B.default.weight torch.float32\n",
      "base_model.model.model.layers.29.self_attn.v_proj.base_layer.weight torch.int8\n",
      "base_model.model.model.layers.29.self_attn.o_proj.weight torch.int8\n",
      "base_model.model.model.layers.29.mlp.gate_proj.weight torch.int8\n",
      "base_model.model.model.layers.29.mlp.up_proj.weight torch.int8\n",
      "base_model.model.model.layers.29.mlp.down_proj.weight torch.int8\n",
      "base_model.model.model.layers.29.input_layernorm.weight torch.float16\n",
      "base_model.model.model.layers.29.post_attention_layernorm.weight torch.float16\n",
      "base_model.model.model.layers.30.self_attn.q_proj.lora_A.default.weight torch.float32\n",
      "base_model.model.model.layers.30.self_attn.q_proj.lora_B.default.weight torch.float32\n",
      "base_model.model.model.layers.30.self_attn.q_proj.base_layer.weight torch.int8\n",
      "base_model.model.model.layers.30.self_attn.k_proj.weight torch.int8\n",
      "base_model.model.model.layers.30.self_attn.v_proj.lora_A.default.weight torch.float32\n",
      "base_model.model.model.layers.30.self_attn.v_proj.lora_B.default.weight torch.float32\n",
      "base_model.model.model.layers.30.self_attn.v_proj.base_layer.weight torch.int8\n",
      "base_model.model.model.layers.30.self_attn.o_proj.weight torch.int8\n",
      "base_model.model.model.layers.30.mlp.gate_proj.weight torch.int8\n",
      "base_model.model.model.layers.30.mlp.up_proj.weight torch.int8\n",
      "base_model.model.model.layers.30.mlp.down_proj.weight torch.int8\n",
      "base_model.model.model.layers.30.input_layernorm.weight torch.float16\n",
      "base_model.model.model.layers.30.post_attention_layernorm.weight torch.float16\n",
      "base_model.model.model.layers.31.self_attn.q_proj.lora_A.default.weight torch.float32\n",
      "base_model.model.model.layers.31.self_attn.q_proj.lora_B.default.weight torch.float32\n",
      "base_model.model.model.layers.31.self_attn.q_proj.base_layer.weight torch.int8\n",
      "base_model.model.model.layers.31.self_attn.k_proj.weight torch.int8\n",
      "base_model.model.model.layers.31.self_attn.v_proj.lora_A.default.weight torch.float32\n",
      "base_model.model.model.layers.31.self_attn.v_proj.lora_B.default.weight torch.float32\n",
      "base_model.model.model.layers.31.self_attn.v_proj.base_layer.weight torch.int8\n",
      "base_model.model.model.layers.31.self_attn.o_proj.weight torch.int8\n",
      "base_model.model.model.layers.31.mlp.gate_proj.weight torch.int8\n",
      "base_model.model.model.layers.31.mlp.up_proj.weight torch.int8\n",
      "base_model.model.model.layers.31.mlp.down_proj.weight torch.int8\n",
      "base_model.model.model.layers.31.input_layernorm.weight torch.float16\n",
      "base_model.model.model.layers.31.post_attention_layernorm.weight torch.float16\n",
      "base_model.model.model.norm.weight torch.float16\n",
      "base_model.model.lm_head.weight torch.float16\n"
     ]
    }
   ],
   "source": [
    "for name, parameter in model.named_parameters(): # 即使模型经过了量化，Lora还是fp32的！\n",
    "    print(name, parameter.dtype)"
   ]
  },
  {
   "cell_type": "code",
   "execution_count": 24,
   "metadata": {},
   "outputs": [
    {
     "name": "stdout",
     "output_type": "stream",
     "text": [
      "trainable params: 4,194,304 || all params: 6,742,609,920 || trainable%: 0.06220594176090199\n"
     ]
    }
   ],
   "source": [
    "model.print_trainable_parameters()"
   ]
  },
  {
   "cell_type": "code",
   "execution_count": 25,
   "metadata": {},
   "outputs": [],
   "source": [
    "model.enable_input_require_grads() # 开启梯度检查点时，要执行该方法"
   ]
  },
  {
   "cell_type": "code",
   "execution_count": 26,
   "metadata": {},
   "outputs": [],
   "source": [
    "# model = model.half()  # 当整个模型都是半精度时，需要将adam_epsilon调大\n",
    "# torch.tensor(1e-8).half() "
   ]
  },
  {
   "cell_type": "markdown",
   "metadata": {},
   "source": [
    "## Step5 配置训练参数"
   ]
  },
  {
   "cell_type": "code",
   "execution_count": 27,
   "metadata": {},
   "outputs": [],
   "source": [
    "args = TrainingArguments(\n",
    "    output_dir=\"./chatbot\",\n",
    "    per_device_train_batch_size=1,\n",
    "    gradient_accumulation_steps=32,\n",
    "    logging_steps=10,\n",
    "    num_train_epochs=1,\n",
    "    gradient_checkpointing=True\n",
    ")"
   ]
  },
  {
   "cell_type": "markdown",
   "metadata": {},
   "source": [
    "## Step6 创建训练器"
   ]
  },
  {
   "cell_type": "code",
   "execution_count": 28,
   "metadata": {},
   "outputs": [
    {
     "name": "stderr",
     "output_type": "stream",
     "text": [
      "Detected kernel version 4.15.0, which is below the recommended minimum of 5.5.0; this can cause the process to hang. It is recommended to upgrade the kernel to the minimum version or higher.\n"
     ]
    }
   ],
   "source": [
    "trainer = Trainer(\n",
    "    model=model,\n",
    "    args=args,\n",
    "    train_dataset=tokenized_ds.select(range(6000)),\n",
    "    data_collator=DataCollatorForSeq2Seq(tokenizer=tokenizer, padding=True),\n",
    ")"
   ]
  },
  {
   "cell_type": "markdown",
   "metadata": {},
   "source": [
    "## Step7 模型训练"
   ]
  },
  {
   "cell_type": "code",
   "execution_count": 29,
   "metadata": {},
   "outputs": [
    {
     "name": "stderr",
     "output_type": "stream",
     "text": [
      "You're using a LlamaTokenizerFast tokenizer. Please note that with a fast tokenizer, using the `__call__` method is faster than using a method to encode the text followed by a call to the `pad` method to get a padded encoding.\n",
      "`use_cache=True` is incompatible with gradient checkpointing. Setting `use_cache=False`...\n"
     ]
    },
    {
     "data": {
      "text/html": [
       "\n",
       "    <div>\n",
       "      \n",
       "      <progress value='187' max='187' style='width:300px; height:20px; vertical-align: middle;'></progress>\n",
       "      [187/187 1:23:56, Epoch 0/1]\n",
       "    </div>\n",
       "    <table border=\"1\" class=\"dataframe\">\n",
       "  <thead>\n",
       " <tr style=\"text-align: left;\">\n",
       "      <th>Step</th>\n",
       "      <th>Training Loss</th>\n",
       "    </tr>\n",
       "  </thead>\n",
       "  <tbody>\n",
       "    <tr>\n",
       "      <td>10</td>\n",
       "      <td>1.450200</td>\n",
       "    </tr>\n",
       "    <tr>\n",
       "      <td>20</td>\n",
       "      <td>1.417000</td>\n",
       "    </tr>\n",
       "    <tr>\n",
       "      <td>30</td>\n",
       "      <td>1.289100</td>\n",
       "    </tr>\n",
       "    <tr>\n",
       "      <td>40</td>\n",
       "      <td>1.267400</td>\n",
       "    </tr>\n",
       "    <tr>\n",
       "      <td>50</td>\n",
       "      <td>1.137900</td>\n",
       "    </tr>\n",
       "    <tr>\n",
       "      <td>60</td>\n",
       "      <td>1.074000</td>\n",
       "    </tr>\n",
       "    <tr>\n",
       "      <td>70</td>\n",
       "      <td>1.049100</td>\n",
       "    </tr>\n",
       "    <tr>\n",
       "      <td>80</td>\n",
       "      <td>1.092800</td>\n",
       "    </tr>\n",
       "    <tr>\n",
       "      <td>90</td>\n",
       "      <td>1.083000</td>\n",
       "    </tr>\n",
       "    <tr>\n",
       "      <td>100</td>\n",
       "      <td>1.088100</td>\n",
       "    </tr>\n",
       "    <tr>\n",
       "      <td>110</td>\n",
       "      <td>1.023300</td>\n",
       "    </tr>\n",
       "    <tr>\n",
       "      <td>120</td>\n",
       "      <td>1.023600</td>\n",
       "    </tr>\n",
       "    <tr>\n",
       "      <td>130</td>\n",
       "      <td>1.039500</td>\n",
       "    </tr>\n",
       "    <tr>\n",
       "      <td>140</td>\n",
       "      <td>1.021000</td>\n",
       "    </tr>\n",
       "    <tr>\n",
       "      <td>150</td>\n",
       "      <td>1.060200</td>\n",
       "    </tr>\n",
       "    <tr>\n",
       "      <td>160</td>\n",
       "      <td>1.034300</td>\n",
       "    </tr>\n",
       "    <tr>\n",
       "      <td>170</td>\n",
       "      <td>0.981400</td>\n",
       "    </tr>\n",
       "    <tr>\n",
       "      <td>180</td>\n",
       "      <td>1.025100</td>\n",
       "    </tr>\n",
       "  </tbody>\n",
       "</table><p>"
      ],
      "text/plain": [
       "<IPython.core.display.HTML object>"
      ]
     },
     "metadata": {},
     "output_type": "display_data"
    },
    {
     "data": {
      "text/plain": [
       "TrainOutput(global_step=187, training_loss=1.1161133057293406, metrics={'train_runtime': 5066.2381, 'train_samples_per_second': 1.184, 'train_steps_per_second': 0.037, 'total_flos': 3.801632981692416e+16, 'train_loss': 1.1161133057293406, 'epoch': 1.0})"
      ]
     },
     "execution_count": 29,
     "metadata": {},
     "output_type": "execute_result"
    }
   ],
   "source": [
    "trainer.train()"
   ]
  },
  {
   "cell_type": "markdown",
   "metadata": {},
   "source": [
    "## Step8 模型推理"
   ]
  },
  {
   "cell_type": "code",
   "execution_count": 30,
   "metadata": {},
   "outputs": [
    {
     "name": "stderr",
     "output_type": "stream",
     "text": [
      "/home/ubuntu/anaconda3/envs/py38/lib/python3.8/site-packages/transformers/generation/utils.py:1421: UserWarning: You have modified the pretrained model configuration to control generation. This is a deprecated strategy to control generation and will be removed soon, in a future version. Please use and modify the model generation configuration (see https://huggingface.co/docs/transformers/generation_strategies#default-text-generation-configuration )\n",
      "  warnings.warn(\n"
     ]
    },
    {
     "data": {
      "text/plain": [
       "'Human: 你好\\n\\nAssistant:  您好。我现在正努力获得熟悉你。'"
      ]
     },
     "execution_count": 30,
     "metadata": {},
     "output_type": "execute_result"
    }
   ],
   "source": [
    "model.eval()\n",
    "ipt = tokenizer(\"Human: {}\\n{}\".format(\"你好\", \"\").strip() + \"\\n\\nAssistant: \", return_tensors=\"pt\").to(model.device)\n",
    "tokenizer.decode(model.generate(**ipt, max_length=128, do_sample=True, eos_token_id=tokenizer.eos_token_id)[0], skip_special_tokens=True)"
   ]
  },
  {
   "cell_type": "code",
   "execution_count": 31,
   "metadata": {},
   "outputs": [
    {
     "ename": "",
     "evalue": "",
     "output_type": "error",
     "traceback": [
      "\u001b[1;31mThe Kernel crashed while executing code in the the current cell or a previous cell. Please review the code in the cell(s) to identify a possible cause of the failure. Click <a href='https://aka.ms/vscodeJupyterKernelCrash'>here</a> for more info. View Jupyter <a href='command:jupyter.viewOutput'>log</a> for further details."
     ]
    }
   ],
   "source": [
    "model.merge_and_unload() # 为消除延迟，将Lora权重与基本模型合并，从而有效地将新合并的模型用作独立模型"
   ]
  }
 ],
 "metadata": {
  "kernelspec": {
   "display_name": "transformers",
   "language": "python",
   "name": "python3"
  },
  "language_info": {
   "codemirror_mode": {
    "name": "ipython",
    "version": 3
   },
   "file_extension": ".py",
   "mimetype": "text/x-python",
   "name": "python",
   "nbconvert_exporter": "python",
   "pygments_lexer": "ipython3",
   "version": "3.8.18"
  },
  "orig_nbformat": 4
 },
 "nbformat": 4,
 "nbformat_minor": 2
}
