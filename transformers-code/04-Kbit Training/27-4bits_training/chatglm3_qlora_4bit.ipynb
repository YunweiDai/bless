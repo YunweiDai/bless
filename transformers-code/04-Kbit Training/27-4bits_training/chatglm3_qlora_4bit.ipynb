{
 "cells": [
  {
   "cell_type": "markdown",
   "metadata": {},
   "source": [
    "# ChatGLM3 Lora 实战"
   ]
  },
  {
   "cell_type": "code",
   "execution_count": 1,
   "metadata": {},
   "outputs": [],
   "source": [
    "import os\n",
    "os.environ['CUDA_VISIBLE_DEVICES'] = \"7\""
   ]
  },
  {
   "cell_type": "markdown",
   "metadata": {},
   "source": [
    "## Step1 导入相关包"
   ]
  },
  {
   "cell_type": "code",
   "execution_count": 2,
   "metadata": {},
   "outputs": [
    {
     "name": "stderr",
     "output_type": "stream",
     "text": [
      "/home/ubuntu/anaconda3/envs/py38/lib/python3.8/site-packages/tqdm/auto.py:21: TqdmWarning: IProgress not found. Please update jupyter and ipywidgets. See https://ipywidgets.readthedocs.io/en/stable/user_install.html\n",
      "  from .autonotebook import tqdm as notebook_tqdm\n"
     ]
    }
   ],
   "source": [
    "from datasets import Dataset\n",
    "from transformers import AutoTokenizer, AutoModelForCausalLM, DataCollatorForSeq2Seq, TrainingArguments, Trainer"
   ]
  },
  {
   "cell_type": "markdown",
   "metadata": {},
   "source": [
    "## Step2 加载数据集"
   ]
  },
  {
   "cell_type": "code",
   "execution_count": 3,
   "metadata": {},
   "outputs": [
    {
     "data": {
      "text/plain": [
       "Dataset({\n",
       "    features: ['output', 'input', 'instruction'],\n",
       "    num_rows: 26858\n",
       "})"
      ]
     },
     "execution_count": 3,
     "metadata": {},
     "output_type": "execute_result"
    }
   ],
   "source": [
    "ds = Dataset.load_from_disk(\"../data/alpaca_data_zh/\")\n",
    "ds"
   ]
  },
  {
   "cell_type": "code",
   "execution_count": 4,
   "metadata": {},
   "outputs": [
    {
     "data": {
      "text/plain": [
       "{'output': ['以下是保持健康的三个提示：\\n\\n1. 保持身体活动。每天做适当的身体运动，如散步、跑步或游泳，能促进心血管健康，增强肌肉力量，并有助于减少体重。\\n\\n2. 均衡饮食。每天食用新鲜的蔬菜、水果、全谷物和脂肪含量低的蛋白质食物，避免高糖、高脂肪和加工食品，以保持健康的饮食习惯。\\n\\n3. 睡眠充足。睡眠对人体健康至关重要，成年人每天应保证 7-8 小时的睡眠。良好的睡眠有助于减轻压力，促进身体恢复，并提高注意力和记忆力。',\n",
       "  '4/16等于1/4是因为我们可以约分分子分母都除以他们的最大公约数4，得到（4÷4）/ (16÷4）=1/4。分数的约分是用分子和分母除以相同的非零整数，来表示分数的一个相同的值，这因为分数实际上表示了分子除以分母，所以即使两个数同时除以同一个非零整数，分数的值也不会改变。所以4/16 和1/4是两种不同的书写形式，但它们的值相等。',\n",
       "  '朱利叶斯·凯撒，又称尤利乌斯·恺撒（Julius Caesar）是古罗马的政治家、军事家和作家。他于公元前44年3月15日被刺杀。 \\n\\n根据历史记载，当时罗马元老院里一些参议员联合起来策划了对恺撒的刺杀行动，因为他们担心恺撒的统治将给罗马共和制带来威胁。在公元前44年3月15日（又称“3月的艾达之日”），恺撒去参加元老院会议时，被一群参议员包围并被攻击致死。据记载，他身中23刀，其中一刀最终致命。'],\n",
       " 'input': ['', '输入：4/16', ''],\n",
       " 'instruction': ['保持健康的三个提示。', '解释为什么以下分数等同于1/4', '朱利叶斯·凯撒是如何死亡的？']}"
      ]
     },
     "execution_count": 4,
     "metadata": {},
     "output_type": "execute_result"
    }
   ],
   "source": [
    "ds[:3]"
   ]
  },
  {
   "cell_type": "markdown",
   "metadata": {},
   "source": [
    "## Step3 数据集预处理"
   ]
  },
  {
   "cell_type": "code",
   "execution_count": 5,
   "metadata": {},
   "outputs": [
    {
     "data": {
      "text/plain": [
       "ChatGLMTokenizer(name_or_path='/data/PLM/chatglm3-6b-base/', vocab_size=64798, model_max_length=1000000000000000019884624838656, is_fast=False, padding_side='left', truncation_side='right', special_tokens={'eos_token': '</s>', 'unk_token': '<unk>', 'pad_token': '<unk>'}, clean_up_tokenization_spaces=False),  added_tokens_decoder={\n",
       "\t\n",
       "}"
      ]
     },
     "execution_count": 5,
     "metadata": {},
     "output_type": "execute_result"
    }
   ],
   "source": [
    "tokenizer = AutoTokenizer.from_pretrained(\"/data/PLM/chatglm3-6b-base/\", trust_remote_code=True)\n",
    "tokenizer"
   ]
  },
  {
   "cell_type": "code",
   "execution_count": 6,
   "metadata": {},
   "outputs": [
    {
     "data": {
      "text/plain": [
       "({'input_ids': [64790, 64792, 2893, 30917, 30994], 'attention_mask': [1, 1, 1, 1, 1], 'position_ids': [0, 1, 2, 3, 4]},\n",
       " 2)"
      ]
     },
     "execution_count": 6,
     "metadata": {},
     "output_type": "execute_result"
    }
   ],
   "source": [
    "tokenizer(tokenizer.eos_token), tokenizer.eos_token_id"
   ]
  },
  {
   "cell_type": "code",
   "execution_count": 7,
   "metadata": {},
   "outputs": [],
   "source": [
    "def process_func(example):\n",
    "    MAX_LENGTH = 256\n",
    "    input_ids, attention_mask, labels = [], [], []\n",
    "    instruction = \"\\n\".join([example[\"instruction\"], example[\"input\"]]).strip()     # query\n",
    "    # tokenizer.build_chat_input()自带[gMASK]sop的前缀，decode时也会显示出来\n",
    "    instruction = tokenizer.build_chat_input(instruction, history=[], role=\"user\")  # [gMASK]sop<|user|> \\n query<|assistant|>\n",
    "    # [EOS]在chatglm分词器中也不会自带，即使add_special_tokens=True，必须手动添加，且decode时不会显示出来，即使skip_special_tokens=False\n",
    "    response = tokenizer(\"\\n\" + example[\"output\"], add_special_tokens=False)        # \\n response, 缺少eos token。这里必须把add_special_tokens设置成False，不然会把[gMASK]sop等前缀也加进来！\n",
    "    # 注意tokenizer.build_chat_input()返回的是tensor而非list，所以需要转换成list再相加！\n",
    "    input_ids = instruction[\"input_ids\"][0].numpy().tolist() + response[\"input_ids\"] + [tokenizer.eos_token_id]\n",
    "    attention_mask = instruction[\"attention_mask\"][0].numpy().tolist() + response[\"attention_mask\"] + [1]\n",
    "    labels = [-100] * len(instruction[\"input_ids\"][0].numpy().tolist()) + response[\"input_ids\"] + [tokenizer.eos_token_id]\n",
    "    if len(input_ids) > MAX_LENGTH:\n",
    "        input_ids = input_ids[:MAX_LENGTH]\n",
    "        attention_mask = attention_mask[:MAX_LENGTH]\n",
    "        labels = labels[:MAX_LENGTH]\n",
    "    return {\n",
    "        \"input_ids\": input_ids,\n",
    "        \"attention_mask\": attention_mask,\n",
    "        \"labels\": labels\n",
    "    }"
   ]
  },
  {
   "cell_type": "code",
   "execution_count": 8,
   "metadata": {},
   "outputs": [
    {
     "data": {
      "text/plain": [
       "Dataset({\n",
       "    features: ['input_ids', 'attention_mask', 'labels'],\n",
       "    num_rows: 26858\n",
       "})"
      ]
     },
     "execution_count": 8,
     "metadata": {},
     "output_type": "execute_result"
    }
   ],
   "source": [
    "tokenized_ds = ds.map(process_func, remove_columns=ds.column_names)\n",
    "tokenized_ds"
   ]
  },
  {
   "cell_type": "code",
   "execution_count": 9,
   "metadata": {},
   "outputs": [
    {
     "data": {
      "text/plain": [
       "'[gMASK]sop<|user|> \\n 解释为什么以下分数等同于1/4\\n输入：4/16<|assistant|> \\n4/16等于1/4是因为我们可以约分分子分母都除以他们的最大公约数4，得到（4÷4）/ (16÷4）=1/4。分数的约分是用分子和分母除以相同的非零整数，来表示分数的一个相同的值，这因为分数实际上表示了分子除以分母，所以即使两个数同时除以同一个非零整数，分数的值也不会改变。所以4/16 和1/4是两种不同的书写形式，但它们的值相等。'"
      ]
     },
     "execution_count": 9,
     "metadata": {},
     "output_type": "execute_result"
    }
   ],
   "source": [
    "tokenizer.decode(tokenized_ds[1][\"input_ids\"])"
   ]
  },
  {
   "cell_type": "code",
   "execution_count": 10,
   "metadata": {},
   "outputs": [
    {
     "data": {
      "text/plain": [
       "'\\n4/16等于1/4是因为我们可以约分分子分母都除以他们的最大公约数4，得到（4÷4）/ (16÷4）=1/4。分数的约分是用分子和分母除以相同的非零整数，来表示分数的一个相同的值，这因为分数实际上表示了分子除以分母，所以即使两个数同时除以同一个非零整数，分数的值也不会改变。所以4/16 和1/4是两种不同的书写形式，但它们的值相等。'"
      ]
     },
     "execution_count": 10,
     "metadata": {},
     "output_type": "execute_result"
    }
   ],
   "source": [
    "tokenizer.decode(list(filter(lambda x: x != -100, tokenized_ds[1][\"labels\"])))"
   ]
  },
  {
   "cell_type": "markdown",
   "metadata": {},
   "source": [
    "## Step4 创建模型"
   ]
  },
  {
   "cell_type": "code",
   "execution_count": 11,
   "metadata": {},
   "outputs": [
    {
     "name": "stderr",
     "output_type": "stream",
     "text": [
      "Loading checkpoint shards: 100%|██████████| 7/7 [00:09<00:00,  1.37s/it]\n"
     ]
    }
   ],
   "source": [
    "import torch\n",
    "model = AutoModelForCausalLM.from_pretrained(\"/data/PLM/chatglm3-6b-base/\", trust_remote_code=True, low_cpu_mem_usage=True, \n",
    "                                             torch_dtype=torch.half, device_map=\"auto\", load_in_4bit=True, bnb_4bit_compute_dtype=torch.half,\n",
    "                                             bnb_4bit_quant_type=\"nf4\", bnb_4bit_use_double_quant=True)"
   ]
  },
  {
   "cell_type": "code",
   "execution_count": 12,
   "metadata": {},
   "outputs": [
    {
     "name": "stdout",
     "output_type": "stream",
     "text": [
      "transformer.embedding.word_embeddings.weight torch.Size([65024, 4096]) torch.float16\n",
      "transformer.encoder.layers.0.input_layernorm.weight torch.Size([4096]) torch.float16\n",
      "transformer.encoder.layers.0.self_attention.query_key_value.weight torch.Size([9437184, 1]) torch.uint8\n",
      "transformer.encoder.layers.0.self_attention.query_key_value.bias torch.Size([4608]) torch.float16\n",
      "transformer.encoder.layers.0.self_attention.dense.weight torch.Size([8388608, 1]) torch.uint8\n",
      "transformer.encoder.layers.0.post_attention_layernorm.weight torch.Size([4096]) torch.float16\n",
      "transformer.encoder.layers.0.mlp.dense_h_to_4h.weight torch.Size([56098816, 1]) torch.uint8\n",
      "transformer.encoder.layers.0.mlp.dense_4h_to_h.weight torch.Size([28049408, 1]) torch.uint8\n",
      "transformer.encoder.layers.1.input_layernorm.weight torch.Size([4096]) torch.float16\n",
      "transformer.encoder.layers.1.self_attention.query_key_value.weight torch.Size([9437184, 1]) torch.uint8\n",
      "transformer.encoder.layers.1.self_attention.query_key_value.bias torch.Size([4608]) torch.float16\n",
      "transformer.encoder.layers.1.self_attention.dense.weight torch.Size([8388608, 1]) torch.uint8\n",
      "transformer.encoder.layers.1.post_attention_layernorm.weight torch.Size([4096]) torch.float16\n",
      "transformer.encoder.layers.1.mlp.dense_h_to_4h.weight torch.Size([56098816, 1]) torch.uint8\n",
      "transformer.encoder.layers.1.mlp.dense_4h_to_h.weight torch.Size([28049408, 1]) torch.uint8\n",
      "transformer.encoder.layers.2.input_layernorm.weight torch.Size([4096]) torch.float16\n",
      "transformer.encoder.layers.2.self_attention.query_key_value.weight torch.Size([9437184, 1]) torch.uint8\n",
      "transformer.encoder.layers.2.self_attention.query_key_value.bias torch.Size([4608]) torch.float16\n",
      "transformer.encoder.layers.2.self_attention.dense.weight torch.Size([8388608, 1]) torch.uint8\n",
      "transformer.encoder.layers.2.post_attention_layernorm.weight torch.Size([4096]) torch.float16\n",
      "transformer.encoder.layers.2.mlp.dense_h_to_4h.weight torch.Size([56098816, 1]) torch.uint8\n",
      "transformer.encoder.layers.2.mlp.dense_4h_to_h.weight torch.Size([28049408, 1]) torch.uint8\n",
      "transformer.encoder.layers.3.input_layernorm.weight torch.Size([4096]) torch.float16\n",
      "transformer.encoder.layers.3.self_attention.query_key_value.weight torch.Size([9437184, 1]) torch.uint8\n",
      "transformer.encoder.layers.3.self_attention.query_key_value.bias torch.Size([4608]) torch.float16\n",
      "transformer.encoder.layers.3.self_attention.dense.weight torch.Size([8388608, 1]) torch.uint8\n",
      "transformer.encoder.layers.3.post_attention_layernorm.weight torch.Size([4096]) torch.float16\n",
      "transformer.encoder.layers.3.mlp.dense_h_to_4h.weight torch.Size([56098816, 1]) torch.uint8\n",
      "transformer.encoder.layers.3.mlp.dense_4h_to_h.weight torch.Size([28049408, 1]) torch.uint8\n",
      "transformer.encoder.layers.4.input_layernorm.weight torch.Size([4096]) torch.float16\n",
      "transformer.encoder.layers.4.self_attention.query_key_value.weight torch.Size([9437184, 1]) torch.uint8\n",
      "transformer.encoder.layers.4.self_attention.query_key_value.bias torch.Size([4608]) torch.float16\n",
      "transformer.encoder.layers.4.self_attention.dense.weight torch.Size([8388608, 1]) torch.uint8\n",
      "transformer.encoder.layers.4.post_attention_layernorm.weight torch.Size([4096]) torch.float16\n",
      "transformer.encoder.layers.4.mlp.dense_h_to_4h.weight torch.Size([56098816, 1]) torch.uint8\n",
      "transformer.encoder.layers.4.mlp.dense_4h_to_h.weight torch.Size([28049408, 1]) torch.uint8\n",
      "transformer.encoder.layers.5.input_layernorm.weight torch.Size([4096]) torch.float16\n",
      "transformer.encoder.layers.5.self_attention.query_key_value.weight torch.Size([9437184, 1]) torch.uint8\n",
      "transformer.encoder.layers.5.self_attention.query_key_value.bias torch.Size([4608]) torch.float16\n",
      "transformer.encoder.layers.5.self_attention.dense.weight torch.Size([8388608, 1]) torch.uint8\n",
      "transformer.encoder.layers.5.post_attention_layernorm.weight torch.Size([4096]) torch.float16\n",
      "transformer.encoder.layers.5.mlp.dense_h_to_4h.weight torch.Size([56098816, 1]) torch.uint8\n",
      "transformer.encoder.layers.5.mlp.dense_4h_to_h.weight torch.Size([28049408, 1]) torch.uint8\n",
      "transformer.encoder.layers.6.input_layernorm.weight torch.Size([4096]) torch.float16\n",
      "transformer.encoder.layers.6.self_attention.query_key_value.weight torch.Size([9437184, 1]) torch.uint8\n",
      "transformer.encoder.layers.6.self_attention.query_key_value.bias torch.Size([4608]) torch.float16\n",
      "transformer.encoder.layers.6.self_attention.dense.weight torch.Size([8388608, 1]) torch.uint8\n",
      "transformer.encoder.layers.6.post_attention_layernorm.weight torch.Size([4096]) torch.float16\n",
      "transformer.encoder.layers.6.mlp.dense_h_to_4h.weight torch.Size([56098816, 1]) torch.uint8\n",
      "transformer.encoder.layers.6.mlp.dense_4h_to_h.weight torch.Size([28049408, 1]) torch.uint8\n",
      "transformer.encoder.layers.7.input_layernorm.weight torch.Size([4096]) torch.float16\n",
      "transformer.encoder.layers.7.self_attention.query_key_value.weight torch.Size([9437184, 1]) torch.uint8\n",
      "transformer.encoder.layers.7.self_attention.query_key_value.bias torch.Size([4608]) torch.float16\n",
      "transformer.encoder.layers.7.self_attention.dense.weight torch.Size([8388608, 1]) torch.uint8\n",
      "transformer.encoder.layers.7.post_attention_layernorm.weight torch.Size([4096]) torch.float16\n",
      "transformer.encoder.layers.7.mlp.dense_h_to_4h.weight torch.Size([56098816, 1]) torch.uint8\n",
      "transformer.encoder.layers.7.mlp.dense_4h_to_h.weight torch.Size([28049408, 1]) torch.uint8\n",
      "transformer.encoder.layers.8.input_layernorm.weight torch.Size([4096]) torch.float16\n",
      "transformer.encoder.layers.8.self_attention.query_key_value.weight torch.Size([9437184, 1]) torch.uint8\n",
      "transformer.encoder.layers.8.self_attention.query_key_value.bias torch.Size([4608]) torch.float16\n",
      "transformer.encoder.layers.8.self_attention.dense.weight torch.Size([8388608, 1]) torch.uint8\n",
      "transformer.encoder.layers.8.post_attention_layernorm.weight torch.Size([4096]) torch.float16\n",
      "transformer.encoder.layers.8.mlp.dense_h_to_4h.weight torch.Size([56098816, 1]) torch.uint8\n",
      "transformer.encoder.layers.8.mlp.dense_4h_to_h.weight torch.Size([28049408, 1]) torch.uint8\n",
      "transformer.encoder.layers.9.input_layernorm.weight torch.Size([4096]) torch.float16\n",
      "transformer.encoder.layers.9.self_attention.query_key_value.weight torch.Size([9437184, 1]) torch.uint8\n",
      "transformer.encoder.layers.9.self_attention.query_key_value.bias torch.Size([4608]) torch.float16\n",
      "transformer.encoder.layers.9.self_attention.dense.weight torch.Size([8388608, 1]) torch.uint8\n",
      "transformer.encoder.layers.9.post_attention_layernorm.weight torch.Size([4096]) torch.float16\n",
      "transformer.encoder.layers.9.mlp.dense_h_to_4h.weight torch.Size([56098816, 1]) torch.uint8\n",
      "transformer.encoder.layers.9.mlp.dense_4h_to_h.weight torch.Size([28049408, 1]) torch.uint8\n",
      "transformer.encoder.layers.10.input_layernorm.weight torch.Size([4096]) torch.float16\n",
      "transformer.encoder.layers.10.self_attention.query_key_value.weight torch.Size([9437184, 1]) torch.uint8\n",
      "transformer.encoder.layers.10.self_attention.query_key_value.bias torch.Size([4608]) torch.float16\n",
      "transformer.encoder.layers.10.self_attention.dense.weight torch.Size([8388608, 1]) torch.uint8\n",
      "transformer.encoder.layers.10.post_attention_layernorm.weight torch.Size([4096]) torch.float16\n",
      "transformer.encoder.layers.10.mlp.dense_h_to_4h.weight torch.Size([56098816, 1]) torch.uint8\n",
      "transformer.encoder.layers.10.mlp.dense_4h_to_h.weight torch.Size([28049408, 1]) torch.uint8\n",
      "transformer.encoder.layers.11.input_layernorm.weight torch.Size([4096]) torch.float16\n",
      "transformer.encoder.layers.11.self_attention.query_key_value.weight torch.Size([9437184, 1]) torch.uint8\n",
      "transformer.encoder.layers.11.self_attention.query_key_value.bias torch.Size([4608]) torch.float16\n",
      "transformer.encoder.layers.11.self_attention.dense.weight torch.Size([8388608, 1]) torch.uint8\n",
      "transformer.encoder.layers.11.post_attention_layernorm.weight torch.Size([4096]) torch.float16\n",
      "transformer.encoder.layers.11.mlp.dense_h_to_4h.weight torch.Size([56098816, 1]) torch.uint8\n",
      "transformer.encoder.layers.11.mlp.dense_4h_to_h.weight torch.Size([28049408, 1]) torch.uint8\n",
      "transformer.encoder.layers.12.input_layernorm.weight torch.Size([4096]) torch.float16\n",
      "transformer.encoder.layers.12.self_attention.query_key_value.weight torch.Size([9437184, 1]) torch.uint8\n",
      "transformer.encoder.layers.12.self_attention.query_key_value.bias torch.Size([4608]) torch.float16\n",
      "transformer.encoder.layers.12.self_attention.dense.weight torch.Size([8388608, 1]) torch.uint8\n",
      "transformer.encoder.layers.12.post_attention_layernorm.weight torch.Size([4096]) torch.float16\n",
      "transformer.encoder.layers.12.mlp.dense_h_to_4h.weight torch.Size([56098816, 1]) torch.uint8\n",
      "transformer.encoder.layers.12.mlp.dense_4h_to_h.weight torch.Size([28049408, 1]) torch.uint8\n",
      "transformer.encoder.layers.13.input_layernorm.weight torch.Size([4096]) torch.float16\n",
      "transformer.encoder.layers.13.self_attention.query_key_value.weight torch.Size([9437184, 1]) torch.uint8\n",
      "transformer.encoder.layers.13.self_attention.query_key_value.bias torch.Size([4608]) torch.float16\n",
      "transformer.encoder.layers.13.self_attention.dense.weight torch.Size([8388608, 1]) torch.uint8\n",
      "transformer.encoder.layers.13.post_attention_layernorm.weight torch.Size([4096]) torch.float16\n",
      "transformer.encoder.layers.13.mlp.dense_h_to_4h.weight torch.Size([56098816, 1]) torch.uint8\n",
      "transformer.encoder.layers.13.mlp.dense_4h_to_h.weight torch.Size([28049408, 1]) torch.uint8\n",
      "transformer.encoder.layers.14.input_layernorm.weight torch.Size([4096]) torch.float16\n",
      "transformer.encoder.layers.14.self_attention.query_key_value.weight torch.Size([9437184, 1]) torch.uint8\n",
      "transformer.encoder.layers.14.self_attention.query_key_value.bias torch.Size([4608]) torch.float16\n",
      "transformer.encoder.layers.14.self_attention.dense.weight torch.Size([8388608, 1]) torch.uint8\n",
      "transformer.encoder.layers.14.post_attention_layernorm.weight torch.Size([4096]) torch.float16\n",
      "transformer.encoder.layers.14.mlp.dense_h_to_4h.weight torch.Size([56098816, 1]) torch.uint8\n",
      "transformer.encoder.layers.14.mlp.dense_4h_to_h.weight torch.Size([28049408, 1]) torch.uint8\n",
      "transformer.encoder.layers.15.input_layernorm.weight torch.Size([4096]) torch.float16\n",
      "transformer.encoder.layers.15.self_attention.query_key_value.weight torch.Size([9437184, 1]) torch.uint8\n",
      "transformer.encoder.layers.15.self_attention.query_key_value.bias torch.Size([4608]) torch.float16\n",
      "transformer.encoder.layers.15.self_attention.dense.weight torch.Size([8388608, 1]) torch.uint8\n",
      "transformer.encoder.layers.15.post_attention_layernorm.weight torch.Size([4096]) torch.float16\n",
      "transformer.encoder.layers.15.mlp.dense_h_to_4h.weight torch.Size([56098816, 1]) torch.uint8\n",
      "transformer.encoder.layers.15.mlp.dense_4h_to_h.weight torch.Size([28049408, 1]) torch.uint8\n",
      "transformer.encoder.layers.16.input_layernorm.weight torch.Size([4096]) torch.float16\n",
      "transformer.encoder.layers.16.self_attention.query_key_value.weight torch.Size([9437184, 1]) torch.uint8\n",
      "transformer.encoder.layers.16.self_attention.query_key_value.bias torch.Size([4608]) torch.float16\n",
      "transformer.encoder.layers.16.self_attention.dense.weight torch.Size([8388608, 1]) torch.uint8\n",
      "transformer.encoder.layers.16.post_attention_layernorm.weight torch.Size([4096]) torch.float16\n",
      "transformer.encoder.layers.16.mlp.dense_h_to_4h.weight torch.Size([56098816, 1]) torch.uint8\n",
      "transformer.encoder.layers.16.mlp.dense_4h_to_h.weight torch.Size([28049408, 1]) torch.uint8\n",
      "transformer.encoder.layers.17.input_layernorm.weight torch.Size([4096]) torch.float16\n",
      "transformer.encoder.layers.17.self_attention.query_key_value.weight torch.Size([9437184, 1]) torch.uint8\n",
      "transformer.encoder.layers.17.self_attention.query_key_value.bias torch.Size([4608]) torch.float16\n",
      "transformer.encoder.layers.17.self_attention.dense.weight torch.Size([8388608, 1]) torch.uint8\n",
      "transformer.encoder.layers.17.post_attention_layernorm.weight torch.Size([4096]) torch.float16\n",
      "transformer.encoder.layers.17.mlp.dense_h_to_4h.weight torch.Size([56098816, 1]) torch.uint8\n",
      "transformer.encoder.layers.17.mlp.dense_4h_to_h.weight torch.Size([28049408, 1]) torch.uint8\n",
      "transformer.encoder.layers.18.input_layernorm.weight torch.Size([4096]) torch.float16\n",
      "transformer.encoder.layers.18.self_attention.query_key_value.weight torch.Size([9437184, 1]) torch.uint8\n",
      "transformer.encoder.layers.18.self_attention.query_key_value.bias torch.Size([4608]) torch.float16\n",
      "transformer.encoder.layers.18.self_attention.dense.weight torch.Size([8388608, 1]) torch.uint8\n",
      "transformer.encoder.layers.18.post_attention_layernorm.weight torch.Size([4096]) torch.float16\n",
      "transformer.encoder.layers.18.mlp.dense_h_to_4h.weight torch.Size([56098816, 1]) torch.uint8\n",
      "transformer.encoder.layers.18.mlp.dense_4h_to_h.weight torch.Size([28049408, 1]) torch.uint8\n",
      "transformer.encoder.layers.19.input_layernorm.weight torch.Size([4096]) torch.float16\n",
      "transformer.encoder.layers.19.self_attention.query_key_value.weight torch.Size([9437184, 1]) torch.uint8\n",
      "transformer.encoder.layers.19.self_attention.query_key_value.bias torch.Size([4608]) torch.float16\n",
      "transformer.encoder.layers.19.self_attention.dense.weight torch.Size([8388608, 1]) torch.uint8\n",
      "transformer.encoder.layers.19.post_attention_layernorm.weight torch.Size([4096]) torch.float16\n",
      "transformer.encoder.layers.19.mlp.dense_h_to_4h.weight torch.Size([56098816, 1]) torch.uint8\n",
      "transformer.encoder.layers.19.mlp.dense_4h_to_h.weight torch.Size([28049408, 1]) torch.uint8\n",
      "transformer.encoder.layers.20.input_layernorm.weight torch.Size([4096]) torch.float16\n",
      "transformer.encoder.layers.20.self_attention.query_key_value.weight torch.Size([9437184, 1]) torch.uint8\n",
      "transformer.encoder.layers.20.self_attention.query_key_value.bias torch.Size([4608]) torch.float16\n",
      "transformer.encoder.layers.20.self_attention.dense.weight torch.Size([8388608, 1]) torch.uint8\n",
      "transformer.encoder.layers.20.post_attention_layernorm.weight torch.Size([4096]) torch.float16\n",
      "transformer.encoder.layers.20.mlp.dense_h_to_4h.weight torch.Size([56098816, 1]) torch.uint8\n",
      "transformer.encoder.layers.20.mlp.dense_4h_to_h.weight torch.Size([28049408, 1]) torch.uint8\n",
      "transformer.encoder.layers.21.input_layernorm.weight torch.Size([4096]) torch.float16\n",
      "transformer.encoder.layers.21.self_attention.query_key_value.weight torch.Size([9437184, 1]) torch.uint8\n",
      "transformer.encoder.layers.21.self_attention.query_key_value.bias torch.Size([4608]) torch.float16\n",
      "transformer.encoder.layers.21.self_attention.dense.weight torch.Size([8388608, 1]) torch.uint8\n",
      "transformer.encoder.layers.21.post_attention_layernorm.weight torch.Size([4096]) torch.float16\n",
      "transformer.encoder.layers.21.mlp.dense_h_to_4h.weight torch.Size([56098816, 1]) torch.uint8\n",
      "transformer.encoder.layers.21.mlp.dense_4h_to_h.weight torch.Size([28049408, 1]) torch.uint8\n",
      "transformer.encoder.layers.22.input_layernorm.weight torch.Size([4096]) torch.float16\n",
      "transformer.encoder.layers.22.self_attention.query_key_value.weight torch.Size([9437184, 1]) torch.uint8\n",
      "transformer.encoder.layers.22.self_attention.query_key_value.bias torch.Size([4608]) torch.float16\n",
      "transformer.encoder.layers.22.self_attention.dense.weight torch.Size([8388608, 1]) torch.uint8\n",
      "transformer.encoder.layers.22.post_attention_layernorm.weight torch.Size([4096]) torch.float16\n",
      "transformer.encoder.layers.22.mlp.dense_h_to_4h.weight torch.Size([56098816, 1]) torch.uint8\n",
      "transformer.encoder.layers.22.mlp.dense_4h_to_h.weight torch.Size([28049408, 1]) torch.uint8\n",
      "transformer.encoder.layers.23.input_layernorm.weight torch.Size([4096]) torch.float16\n",
      "transformer.encoder.layers.23.self_attention.query_key_value.weight torch.Size([9437184, 1]) torch.uint8\n",
      "transformer.encoder.layers.23.self_attention.query_key_value.bias torch.Size([4608]) torch.float16\n",
      "transformer.encoder.layers.23.self_attention.dense.weight torch.Size([8388608, 1]) torch.uint8\n",
      "transformer.encoder.layers.23.post_attention_layernorm.weight torch.Size([4096]) torch.float16\n",
      "transformer.encoder.layers.23.mlp.dense_h_to_4h.weight torch.Size([56098816, 1]) torch.uint8\n",
      "transformer.encoder.layers.23.mlp.dense_4h_to_h.weight torch.Size([28049408, 1]) torch.uint8\n",
      "transformer.encoder.layers.24.input_layernorm.weight torch.Size([4096]) torch.float16\n",
      "transformer.encoder.layers.24.self_attention.query_key_value.weight torch.Size([9437184, 1]) torch.uint8\n",
      "transformer.encoder.layers.24.self_attention.query_key_value.bias torch.Size([4608]) torch.float16\n",
      "transformer.encoder.layers.24.self_attention.dense.weight torch.Size([8388608, 1]) torch.uint8\n",
      "transformer.encoder.layers.24.post_attention_layernorm.weight torch.Size([4096]) torch.float16\n",
      "transformer.encoder.layers.24.mlp.dense_h_to_4h.weight torch.Size([56098816, 1]) torch.uint8\n",
      "transformer.encoder.layers.24.mlp.dense_4h_to_h.weight torch.Size([28049408, 1]) torch.uint8\n",
      "transformer.encoder.layers.25.input_layernorm.weight torch.Size([4096]) torch.float16\n",
      "transformer.encoder.layers.25.self_attention.query_key_value.weight torch.Size([9437184, 1]) torch.uint8\n",
      "transformer.encoder.layers.25.self_attention.query_key_value.bias torch.Size([4608]) torch.float16\n",
      "transformer.encoder.layers.25.self_attention.dense.weight torch.Size([8388608, 1]) torch.uint8\n",
      "transformer.encoder.layers.25.post_attention_layernorm.weight torch.Size([4096]) torch.float16\n",
      "transformer.encoder.layers.25.mlp.dense_h_to_4h.weight torch.Size([56098816, 1]) torch.uint8\n",
      "transformer.encoder.layers.25.mlp.dense_4h_to_h.weight torch.Size([28049408, 1]) torch.uint8\n",
      "transformer.encoder.layers.26.input_layernorm.weight torch.Size([4096]) torch.float16\n",
      "transformer.encoder.layers.26.self_attention.query_key_value.weight torch.Size([9437184, 1]) torch.uint8\n",
      "transformer.encoder.layers.26.self_attention.query_key_value.bias torch.Size([4608]) torch.float16\n",
      "transformer.encoder.layers.26.self_attention.dense.weight torch.Size([8388608, 1]) torch.uint8\n",
      "transformer.encoder.layers.26.post_attention_layernorm.weight torch.Size([4096]) torch.float16\n",
      "transformer.encoder.layers.26.mlp.dense_h_to_4h.weight torch.Size([56098816, 1]) torch.uint8\n",
      "transformer.encoder.layers.26.mlp.dense_4h_to_h.weight torch.Size([28049408, 1]) torch.uint8\n",
      "transformer.encoder.layers.27.input_layernorm.weight torch.Size([4096]) torch.float16\n",
      "transformer.encoder.layers.27.self_attention.query_key_value.weight torch.Size([9437184, 1]) torch.uint8\n",
      "transformer.encoder.layers.27.self_attention.query_key_value.bias torch.Size([4608]) torch.float16\n",
      "transformer.encoder.layers.27.self_attention.dense.weight torch.Size([8388608, 1]) torch.uint8\n",
      "transformer.encoder.layers.27.post_attention_layernorm.weight torch.Size([4096]) torch.float16\n",
      "transformer.encoder.layers.27.mlp.dense_h_to_4h.weight torch.Size([56098816, 1]) torch.uint8\n",
      "transformer.encoder.layers.27.mlp.dense_4h_to_h.weight torch.Size([28049408, 1]) torch.uint8\n",
      "transformer.encoder.final_layernorm.weight torch.Size([4096]) torch.float16\n",
      "transformer.output_layer.weight torch.Size([65024, 4096]) torch.float16\n"
     ]
    }
   ],
   "source": [
    "for name, param in model.named_parameters():\n",
    "    print(name, param.shape, param.dtype)"
   ]
  },
  {
   "cell_type": "markdown",
   "metadata": {},
   "source": [
    "## Lora"
   ]
  },
  {
   "cell_type": "markdown",
   "metadata": {},
   "source": [
    "### PEFT Step1 配置文件"
   ]
  },
  {
   "cell_type": "code",
   "execution_count": 13,
   "metadata": {},
   "outputs": [
    {
     "data": {
      "text/plain": [
       "LoraConfig(peft_type=<PeftType.LORA: 'LORA'>, auto_mapping=None, base_model_name_or_path=None, revision=None, task_type=None, inference_mode=False, r=8, target_modules={'query_key_value'}, lora_alpha=8, lora_dropout=0.0, fan_in_fan_out=False, bias='none', modules_to_save=None, init_lora_weights=True, layers_to_transform=None, layers_pattern=None, rank_pattern={}, alpha_pattern={})"
      ]
     },
     "execution_count": 13,
     "metadata": {},
     "output_type": "execute_result"
    }
   ],
   "source": [
    "from peft import LoraConfig, TaskType, get_peft_model, PeftModel\n",
    "\n",
    "config = LoraConfig(target_modules=[\"query_key_value\"])\n",
    "config"
   ]
  },
  {
   "cell_type": "markdown",
   "metadata": {},
   "source": [
    "### PEFT Step2 创建模型"
   ]
  },
  {
   "cell_type": "code",
   "execution_count": 14,
   "metadata": {},
   "outputs": [],
   "source": [
    "model = get_peft_model(model, config)"
   ]
  },
  {
   "cell_type": "code",
   "execution_count": 15,
   "metadata": {},
   "outputs": [
    {
     "data": {
      "text/plain": [
       "LoraConfig(peft_type=<PeftType.LORA: 'LORA'>, auto_mapping=None, base_model_name_or_path='/data/PLM/chatglm3-6b-base/', revision=None, task_type=None, inference_mode=False, r=8, target_modules={'query_key_value'}, lora_alpha=8, lora_dropout=0.0, fan_in_fan_out=False, bias='none', modules_to_save=None, init_lora_weights=True, layers_to_transform=None, layers_pattern=None, rank_pattern={}, alpha_pattern={})"
      ]
     },
     "execution_count": 15,
     "metadata": {},
     "output_type": "execute_result"
    }
   ],
   "source": [
    "config"
   ]
  },
  {
   "cell_type": "code",
   "execution_count": 16,
   "metadata": {},
   "outputs": [
    {
     "name": "stdout",
     "output_type": "stream",
     "text": [
      "base_model.model.transformer.embedding.word_embeddings.weight torch.float16\n",
      "base_model.model.transformer.encoder.layers.0.input_layernorm.weight torch.float16\n",
      "base_model.model.transformer.encoder.layers.0.self_attention.query_key_value.lora_A.default.weight torch.float32\n",
      "base_model.model.transformer.encoder.layers.0.self_attention.query_key_value.lora_B.default.weight torch.float32\n",
      "base_model.model.transformer.encoder.layers.0.self_attention.query_key_value.base_layer.weight torch.uint8\n",
      "base_model.model.transformer.encoder.layers.0.self_attention.query_key_value.base_layer.bias torch.float16\n",
      "base_model.model.transformer.encoder.layers.0.self_attention.dense.weight torch.uint8\n",
      "base_model.model.transformer.encoder.layers.0.post_attention_layernorm.weight torch.float16\n",
      "base_model.model.transformer.encoder.layers.0.mlp.dense_h_to_4h.weight torch.uint8\n",
      "base_model.model.transformer.encoder.layers.0.mlp.dense_4h_to_h.weight torch.uint8\n",
      "base_model.model.transformer.encoder.layers.1.input_layernorm.weight torch.float16\n",
      "base_model.model.transformer.encoder.layers.1.self_attention.query_key_value.lora_A.default.weight torch.float32\n",
      "base_model.model.transformer.encoder.layers.1.self_attention.query_key_value.lora_B.default.weight torch.float32\n",
      "base_model.model.transformer.encoder.layers.1.self_attention.query_key_value.base_layer.weight torch.uint8\n",
      "base_model.model.transformer.encoder.layers.1.self_attention.query_key_value.base_layer.bias torch.float16\n",
      "base_model.model.transformer.encoder.layers.1.self_attention.dense.weight torch.uint8\n",
      "base_model.model.transformer.encoder.layers.1.post_attention_layernorm.weight torch.float16\n",
      "base_model.model.transformer.encoder.layers.1.mlp.dense_h_to_4h.weight torch.uint8\n",
      "base_model.model.transformer.encoder.layers.1.mlp.dense_4h_to_h.weight torch.uint8\n",
      "base_model.model.transformer.encoder.layers.2.input_layernorm.weight torch.float16\n",
      "base_model.model.transformer.encoder.layers.2.self_attention.query_key_value.lora_A.default.weight torch.float32\n",
      "base_model.model.transformer.encoder.layers.2.self_attention.query_key_value.lora_B.default.weight torch.float32\n",
      "base_model.model.transformer.encoder.layers.2.self_attention.query_key_value.base_layer.weight torch.uint8\n",
      "base_model.model.transformer.encoder.layers.2.self_attention.query_key_value.base_layer.bias torch.float16\n",
      "base_model.model.transformer.encoder.layers.2.self_attention.dense.weight torch.uint8\n",
      "base_model.model.transformer.encoder.layers.2.post_attention_layernorm.weight torch.float16\n",
      "base_model.model.transformer.encoder.layers.2.mlp.dense_h_to_4h.weight torch.uint8\n",
      "base_model.model.transformer.encoder.layers.2.mlp.dense_4h_to_h.weight torch.uint8\n",
      "base_model.model.transformer.encoder.layers.3.input_layernorm.weight torch.float16\n",
      "base_model.model.transformer.encoder.layers.3.self_attention.query_key_value.lora_A.default.weight torch.float32\n",
      "base_model.model.transformer.encoder.layers.3.self_attention.query_key_value.lora_B.default.weight torch.float32\n",
      "base_model.model.transformer.encoder.layers.3.self_attention.query_key_value.base_layer.weight torch.uint8\n",
      "base_model.model.transformer.encoder.layers.3.self_attention.query_key_value.base_layer.bias torch.float16\n",
      "base_model.model.transformer.encoder.layers.3.self_attention.dense.weight torch.uint8\n",
      "base_model.model.transformer.encoder.layers.3.post_attention_layernorm.weight torch.float16\n",
      "base_model.model.transformer.encoder.layers.3.mlp.dense_h_to_4h.weight torch.uint8\n",
      "base_model.model.transformer.encoder.layers.3.mlp.dense_4h_to_h.weight torch.uint8\n",
      "base_model.model.transformer.encoder.layers.4.input_layernorm.weight torch.float16\n",
      "base_model.model.transformer.encoder.layers.4.self_attention.query_key_value.lora_A.default.weight torch.float32\n",
      "base_model.model.transformer.encoder.layers.4.self_attention.query_key_value.lora_B.default.weight torch.float32\n",
      "base_model.model.transformer.encoder.layers.4.self_attention.query_key_value.base_layer.weight torch.uint8\n",
      "base_model.model.transformer.encoder.layers.4.self_attention.query_key_value.base_layer.bias torch.float16\n",
      "base_model.model.transformer.encoder.layers.4.self_attention.dense.weight torch.uint8\n",
      "base_model.model.transformer.encoder.layers.4.post_attention_layernorm.weight torch.float16\n",
      "base_model.model.transformer.encoder.layers.4.mlp.dense_h_to_4h.weight torch.uint8\n",
      "base_model.model.transformer.encoder.layers.4.mlp.dense_4h_to_h.weight torch.uint8\n",
      "base_model.model.transformer.encoder.layers.5.input_layernorm.weight torch.float16\n",
      "base_model.model.transformer.encoder.layers.5.self_attention.query_key_value.lora_A.default.weight torch.float32\n",
      "base_model.model.transformer.encoder.layers.5.self_attention.query_key_value.lora_B.default.weight torch.float32\n",
      "base_model.model.transformer.encoder.layers.5.self_attention.query_key_value.base_layer.weight torch.uint8\n",
      "base_model.model.transformer.encoder.layers.5.self_attention.query_key_value.base_layer.bias torch.float16\n",
      "base_model.model.transformer.encoder.layers.5.self_attention.dense.weight torch.uint8\n",
      "base_model.model.transformer.encoder.layers.5.post_attention_layernorm.weight torch.float16\n",
      "base_model.model.transformer.encoder.layers.5.mlp.dense_h_to_4h.weight torch.uint8\n",
      "base_model.model.transformer.encoder.layers.5.mlp.dense_4h_to_h.weight torch.uint8\n",
      "base_model.model.transformer.encoder.layers.6.input_layernorm.weight torch.float16\n",
      "base_model.model.transformer.encoder.layers.6.self_attention.query_key_value.lora_A.default.weight torch.float32\n",
      "base_model.model.transformer.encoder.layers.6.self_attention.query_key_value.lora_B.default.weight torch.float32\n",
      "base_model.model.transformer.encoder.layers.6.self_attention.query_key_value.base_layer.weight torch.uint8\n",
      "base_model.model.transformer.encoder.layers.6.self_attention.query_key_value.base_layer.bias torch.float16\n",
      "base_model.model.transformer.encoder.layers.6.self_attention.dense.weight torch.uint8\n",
      "base_model.model.transformer.encoder.layers.6.post_attention_layernorm.weight torch.float16\n",
      "base_model.model.transformer.encoder.layers.6.mlp.dense_h_to_4h.weight torch.uint8\n",
      "base_model.model.transformer.encoder.layers.6.mlp.dense_4h_to_h.weight torch.uint8\n",
      "base_model.model.transformer.encoder.layers.7.input_layernorm.weight torch.float16\n",
      "base_model.model.transformer.encoder.layers.7.self_attention.query_key_value.lora_A.default.weight torch.float32\n",
      "base_model.model.transformer.encoder.layers.7.self_attention.query_key_value.lora_B.default.weight torch.float32\n",
      "base_model.model.transformer.encoder.layers.7.self_attention.query_key_value.base_layer.weight torch.uint8\n",
      "base_model.model.transformer.encoder.layers.7.self_attention.query_key_value.base_layer.bias torch.float16\n",
      "base_model.model.transformer.encoder.layers.7.self_attention.dense.weight torch.uint8\n",
      "base_model.model.transformer.encoder.layers.7.post_attention_layernorm.weight torch.float16\n",
      "base_model.model.transformer.encoder.layers.7.mlp.dense_h_to_4h.weight torch.uint8\n",
      "base_model.model.transformer.encoder.layers.7.mlp.dense_4h_to_h.weight torch.uint8\n",
      "base_model.model.transformer.encoder.layers.8.input_layernorm.weight torch.float16\n",
      "base_model.model.transformer.encoder.layers.8.self_attention.query_key_value.lora_A.default.weight torch.float32\n",
      "base_model.model.transformer.encoder.layers.8.self_attention.query_key_value.lora_B.default.weight torch.float32\n",
      "base_model.model.transformer.encoder.layers.8.self_attention.query_key_value.base_layer.weight torch.uint8\n",
      "base_model.model.transformer.encoder.layers.8.self_attention.query_key_value.base_layer.bias torch.float16\n",
      "base_model.model.transformer.encoder.layers.8.self_attention.dense.weight torch.uint8\n",
      "base_model.model.transformer.encoder.layers.8.post_attention_layernorm.weight torch.float16\n",
      "base_model.model.transformer.encoder.layers.8.mlp.dense_h_to_4h.weight torch.uint8\n",
      "base_model.model.transformer.encoder.layers.8.mlp.dense_4h_to_h.weight torch.uint8\n",
      "base_model.model.transformer.encoder.layers.9.input_layernorm.weight torch.float16\n",
      "base_model.model.transformer.encoder.layers.9.self_attention.query_key_value.lora_A.default.weight torch.float32\n",
      "base_model.model.transformer.encoder.layers.9.self_attention.query_key_value.lora_B.default.weight torch.float32\n",
      "base_model.model.transformer.encoder.layers.9.self_attention.query_key_value.base_layer.weight torch.uint8\n",
      "base_model.model.transformer.encoder.layers.9.self_attention.query_key_value.base_layer.bias torch.float16\n",
      "base_model.model.transformer.encoder.layers.9.self_attention.dense.weight torch.uint8\n",
      "base_model.model.transformer.encoder.layers.9.post_attention_layernorm.weight torch.float16\n",
      "base_model.model.transformer.encoder.layers.9.mlp.dense_h_to_4h.weight torch.uint8\n",
      "base_model.model.transformer.encoder.layers.9.mlp.dense_4h_to_h.weight torch.uint8\n",
      "base_model.model.transformer.encoder.layers.10.input_layernorm.weight torch.float16\n",
      "base_model.model.transformer.encoder.layers.10.self_attention.query_key_value.lora_A.default.weight torch.float32\n",
      "base_model.model.transformer.encoder.layers.10.self_attention.query_key_value.lora_B.default.weight torch.float32\n",
      "base_model.model.transformer.encoder.layers.10.self_attention.query_key_value.base_layer.weight torch.uint8\n",
      "base_model.model.transformer.encoder.layers.10.self_attention.query_key_value.base_layer.bias torch.float16\n",
      "base_model.model.transformer.encoder.layers.10.self_attention.dense.weight torch.uint8\n",
      "base_model.model.transformer.encoder.layers.10.post_attention_layernorm.weight torch.float16\n",
      "base_model.model.transformer.encoder.layers.10.mlp.dense_h_to_4h.weight torch.uint8\n",
      "base_model.model.transformer.encoder.layers.10.mlp.dense_4h_to_h.weight torch.uint8\n",
      "base_model.model.transformer.encoder.layers.11.input_layernorm.weight torch.float16\n",
      "base_model.model.transformer.encoder.layers.11.self_attention.query_key_value.lora_A.default.weight torch.float32\n",
      "base_model.model.transformer.encoder.layers.11.self_attention.query_key_value.lora_B.default.weight torch.float32\n",
      "base_model.model.transformer.encoder.layers.11.self_attention.query_key_value.base_layer.weight torch.uint8\n",
      "base_model.model.transformer.encoder.layers.11.self_attention.query_key_value.base_layer.bias torch.float16\n",
      "base_model.model.transformer.encoder.layers.11.self_attention.dense.weight torch.uint8\n",
      "base_model.model.transformer.encoder.layers.11.post_attention_layernorm.weight torch.float16\n",
      "base_model.model.transformer.encoder.layers.11.mlp.dense_h_to_4h.weight torch.uint8\n",
      "base_model.model.transformer.encoder.layers.11.mlp.dense_4h_to_h.weight torch.uint8\n",
      "base_model.model.transformer.encoder.layers.12.input_layernorm.weight torch.float16\n",
      "base_model.model.transformer.encoder.layers.12.self_attention.query_key_value.lora_A.default.weight torch.float32\n",
      "base_model.model.transformer.encoder.layers.12.self_attention.query_key_value.lora_B.default.weight torch.float32\n",
      "base_model.model.transformer.encoder.layers.12.self_attention.query_key_value.base_layer.weight torch.uint8\n",
      "base_model.model.transformer.encoder.layers.12.self_attention.query_key_value.base_layer.bias torch.float16\n",
      "base_model.model.transformer.encoder.layers.12.self_attention.dense.weight torch.uint8\n",
      "base_model.model.transformer.encoder.layers.12.post_attention_layernorm.weight torch.float16\n",
      "base_model.model.transformer.encoder.layers.12.mlp.dense_h_to_4h.weight torch.uint8\n",
      "base_model.model.transformer.encoder.layers.12.mlp.dense_4h_to_h.weight torch.uint8\n",
      "base_model.model.transformer.encoder.layers.13.input_layernorm.weight torch.float16\n",
      "base_model.model.transformer.encoder.layers.13.self_attention.query_key_value.lora_A.default.weight torch.float32\n",
      "base_model.model.transformer.encoder.layers.13.self_attention.query_key_value.lora_B.default.weight torch.float32\n",
      "base_model.model.transformer.encoder.layers.13.self_attention.query_key_value.base_layer.weight torch.uint8\n",
      "base_model.model.transformer.encoder.layers.13.self_attention.query_key_value.base_layer.bias torch.float16\n",
      "base_model.model.transformer.encoder.layers.13.self_attention.dense.weight torch.uint8\n",
      "base_model.model.transformer.encoder.layers.13.post_attention_layernorm.weight torch.float16\n",
      "base_model.model.transformer.encoder.layers.13.mlp.dense_h_to_4h.weight torch.uint8\n",
      "base_model.model.transformer.encoder.layers.13.mlp.dense_4h_to_h.weight torch.uint8\n",
      "base_model.model.transformer.encoder.layers.14.input_layernorm.weight torch.float16\n",
      "base_model.model.transformer.encoder.layers.14.self_attention.query_key_value.lora_A.default.weight torch.float32\n",
      "base_model.model.transformer.encoder.layers.14.self_attention.query_key_value.lora_B.default.weight torch.float32\n",
      "base_model.model.transformer.encoder.layers.14.self_attention.query_key_value.base_layer.weight torch.uint8\n",
      "base_model.model.transformer.encoder.layers.14.self_attention.query_key_value.base_layer.bias torch.float16\n",
      "base_model.model.transformer.encoder.layers.14.self_attention.dense.weight torch.uint8\n",
      "base_model.model.transformer.encoder.layers.14.post_attention_layernorm.weight torch.float16\n",
      "base_model.model.transformer.encoder.layers.14.mlp.dense_h_to_4h.weight torch.uint8\n",
      "base_model.model.transformer.encoder.layers.14.mlp.dense_4h_to_h.weight torch.uint8\n",
      "base_model.model.transformer.encoder.layers.15.input_layernorm.weight torch.float16\n",
      "base_model.model.transformer.encoder.layers.15.self_attention.query_key_value.lora_A.default.weight torch.float32\n",
      "base_model.model.transformer.encoder.layers.15.self_attention.query_key_value.lora_B.default.weight torch.float32\n",
      "base_model.model.transformer.encoder.layers.15.self_attention.query_key_value.base_layer.weight torch.uint8\n",
      "base_model.model.transformer.encoder.layers.15.self_attention.query_key_value.base_layer.bias torch.float16\n",
      "base_model.model.transformer.encoder.layers.15.self_attention.dense.weight torch.uint8\n",
      "base_model.model.transformer.encoder.layers.15.post_attention_layernorm.weight torch.float16\n",
      "base_model.model.transformer.encoder.layers.15.mlp.dense_h_to_4h.weight torch.uint8\n",
      "base_model.model.transformer.encoder.layers.15.mlp.dense_4h_to_h.weight torch.uint8\n",
      "base_model.model.transformer.encoder.layers.16.input_layernorm.weight torch.float16\n",
      "base_model.model.transformer.encoder.layers.16.self_attention.query_key_value.lora_A.default.weight torch.float32\n",
      "base_model.model.transformer.encoder.layers.16.self_attention.query_key_value.lora_B.default.weight torch.float32\n",
      "base_model.model.transformer.encoder.layers.16.self_attention.query_key_value.base_layer.weight torch.uint8\n",
      "base_model.model.transformer.encoder.layers.16.self_attention.query_key_value.base_layer.bias torch.float16\n",
      "base_model.model.transformer.encoder.layers.16.self_attention.dense.weight torch.uint8\n",
      "base_model.model.transformer.encoder.layers.16.post_attention_layernorm.weight torch.float16\n",
      "base_model.model.transformer.encoder.layers.16.mlp.dense_h_to_4h.weight torch.uint8\n",
      "base_model.model.transformer.encoder.layers.16.mlp.dense_4h_to_h.weight torch.uint8\n",
      "base_model.model.transformer.encoder.layers.17.input_layernorm.weight torch.float16\n",
      "base_model.model.transformer.encoder.layers.17.self_attention.query_key_value.lora_A.default.weight torch.float32\n",
      "base_model.model.transformer.encoder.layers.17.self_attention.query_key_value.lora_B.default.weight torch.float32\n",
      "base_model.model.transformer.encoder.layers.17.self_attention.query_key_value.base_layer.weight torch.uint8\n",
      "base_model.model.transformer.encoder.layers.17.self_attention.query_key_value.base_layer.bias torch.float16\n",
      "base_model.model.transformer.encoder.layers.17.self_attention.dense.weight torch.uint8\n",
      "base_model.model.transformer.encoder.layers.17.post_attention_layernorm.weight torch.float16\n",
      "base_model.model.transformer.encoder.layers.17.mlp.dense_h_to_4h.weight torch.uint8\n",
      "base_model.model.transformer.encoder.layers.17.mlp.dense_4h_to_h.weight torch.uint8\n",
      "base_model.model.transformer.encoder.layers.18.input_layernorm.weight torch.float16\n",
      "base_model.model.transformer.encoder.layers.18.self_attention.query_key_value.lora_A.default.weight torch.float32\n",
      "base_model.model.transformer.encoder.layers.18.self_attention.query_key_value.lora_B.default.weight torch.float32\n",
      "base_model.model.transformer.encoder.layers.18.self_attention.query_key_value.base_layer.weight torch.uint8\n",
      "base_model.model.transformer.encoder.layers.18.self_attention.query_key_value.base_layer.bias torch.float16\n",
      "base_model.model.transformer.encoder.layers.18.self_attention.dense.weight torch.uint8\n",
      "base_model.model.transformer.encoder.layers.18.post_attention_layernorm.weight torch.float16\n",
      "base_model.model.transformer.encoder.layers.18.mlp.dense_h_to_4h.weight torch.uint8\n",
      "base_model.model.transformer.encoder.layers.18.mlp.dense_4h_to_h.weight torch.uint8\n",
      "base_model.model.transformer.encoder.layers.19.input_layernorm.weight torch.float16\n",
      "base_model.model.transformer.encoder.layers.19.self_attention.query_key_value.lora_A.default.weight torch.float32\n",
      "base_model.model.transformer.encoder.layers.19.self_attention.query_key_value.lora_B.default.weight torch.float32\n",
      "base_model.model.transformer.encoder.layers.19.self_attention.query_key_value.base_layer.weight torch.uint8\n",
      "base_model.model.transformer.encoder.layers.19.self_attention.query_key_value.base_layer.bias torch.float16\n",
      "base_model.model.transformer.encoder.layers.19.self_attention.dense.weight torch.uint8\n",
      "base_model.model.transformer.encoder.layers.19.post_attention_layernorm.weight torch.float16\n",
      "base_model.model.transformer.encoder.layers.19.mlp.dense_h_to_4h.weight torch.uint8\n",
      "base_model.model.transformer.encoder.layers.19.mlp.dense_4h_to_h.weight torch.uint8\n",
      "base_model.model.transformer.encoder.layers.20.input_layernorm.weight torch.float16\n",
      "base_model.model.transformer.encoder.layers.20.self_attention.query_key_value.lora_A.default.weight torch.float32\n",
      "base_model.model.transformer.encoder.layers.20.self_attention.query_key_value.lora_B.default.weight torch.float32\n",
      "base_model.model.transformer.encoder.layers.20.self_attention.query_key_value.base_layer.weight torch.uint8\n",
      "base_model.model.transformer.encoder.layers.20.self_attention.query_key_value.base_layer.bias torch.float16\n",
      "base_model.model.transformer.encoder.layers.20.self_attention.dense.weight torch.uint8\n",
      "base_model.model.transformer.encoder.layers.20.post_attention_layernorm.weight torch.float16\n",
      "base_model.model.transformer.encoder.layers.20.mlp.dense_h_to_4h.weight torch.uint8\n",
      "base_model.model.transformer.encoder.layers.20.mlp.dense_4h_to_h.weight torch.uint8\n",
      "base_model.model.transformer.encoder.layers.21.input_layernorm.weight torch.float16\n",
      "base_model.model.transformer.encoder.layers.21.self_attention.query_key_value.lora_A.default.weight torch.float32\n",
      "base_model.model.transformer.encoder.layers.21.self_attention.query_key_value.lora_B.default.weight torch.float32\n",
      "base_model.model.transformer.encoder.layers.21.self_attention.query_key_value.base_layer.weight torch.uint8\n",
      "base_model.model.transformer.encoder.layers.21.self_attention.query_key_value.base_layer.bias torch.float16\n",
      "base_model.model.transformer.encoder.layers.21.self_attention.dense.weight torch.uint8\n",
      "base_model.model.transformer.encoder.layers.21.post_attention_layernorm.weight torch.float16\n",
      "base_model.model.transformer.encoder.layers.21.mlp.dense_h_to_4h.weight torch.uint8\n",
      "base_model.model.transformer.encoder.layers.21.mlp.dense_4h_to_h.weight torch.uint8\n",
      "base_model.model.transformer.encoder.layers.22.input_layernorm.weight torch.float16\n",
      "base_model.model.transformer.encoder.layers.22.self_attention.query_key_value.lora_A.default.weight torch.float32\n",
      "base_model.model.transformer.encoder.layers.22.self_attention.query_key_value.lora_B.default.weight torch.float32\n",
      "base_model.model.transformer.encoder.layers.22.self_attention.query_key_value.base_layer.weight torch.uint8\n",
      "base_model.model.transformer.encoder.layers.22.self_attention.query_key_value.base_layer.bias torch.float16\n",
      "base_model.model.transformer.encoder.layers.22.self_attention.dense.weight torch.uint8\n",
      "base_model.model.transformer.encoder.layers.22.post_attention_layernorm.weight torch.float16\n",
      "base_model.model.transformer.encoder.layers.22.mlp.dense_h_to_4h.weight torch.uint8\n",
      "base_model.model.transformer.encoder.layers.22.mlp.dense_4h_to_h.weight torch.uint8\n",
      "base_model.model.transformer.encoder.layers.23.input_layernorm.weight torch.float16\n",
      "base_model.model.transformer.encoder.layers.23.self_attention.query_key_value.lora_A.default.weight torch.float32\n",
      "base_model.model.transformer.encoder.layers.23.self_attention.query_key_value.lora_B.default.weight torch.float32\n",
      "base_model.model.transformer.encoder.layers.23.self_attention.query_key_value.base_layer.weight torch.uint8\n",
      "base_model.model.transformer.encoder.layers.23.self_attention.query_key_value.base_layer.bias torch.float16\n",
      "base_model.model.transformer.encoder.layers.23.self_attention.dense.weight torch.uint8\n",
      "base_model.model.transformer.encoder.layers.23.post_attention_layernorm.weight torch.float16\n",
      "base_model.model.transformer.encoder.layers.23.mlp.dense_h_to_4h.weight torch.uint8\n",
      "base_model.model.transformer.encoder.layers.23.mlp.dense_4h_to_h.weight torch.uint8\n",
      "base_model.model.transformer.encoder.layers.24.input_layernorm.weight torch.float16\n",
      "base_model.model.transformer.encoder.layers.24.self_attention.query_key_value.lora_A.default.weight torch.float32\n",
      "base_model.model.transformer.encoder.layers.24.self_attention.query_key_value.lora_B.default.weight torch.float32\n",
      "base_model.model.transformer.encoder.layers.24.self_attention.query_key_value.base_layer.weight torch.uint8\n",
      "base_model.model.transformer.encoder.layers.24.self_attention.query_key_value.base_layer.bias torch.float16\n",
      "base_model.model.transformer.encoder.layers.24.self_attention.dense.weight torch.uint8\n",
      "base_model.model.transformer.encoder.layers.24.post_attention_layernorm.weight torch.float16\n",
      "base_model.model.transformer.encoder.layers.24.mlp.dense_h_to_4h.weight torch.uint8\n",
      "base_model.model.transformer.encoder.layers.24.mlp.dense_4h_to_h.weight torch.uint8\n",
      "base_model.model.transformer.encoder.layers.25.input_layernorm.weight torch.float16\n",
      "base_model.model.transformer.encoder.layers.25.self_attention.query_key_value.lora_A.default.weight torch.float32\n",
      "base_model.model.transformer.encoder.layers.25.self_attention.query_key_value.lora_B.default.weight torch.float32\n",
      "base_model.model.transformer.encoder.layers.25.self_attention.query_key_value.base_layer.weight torch.uint8\n",
      "base_model.model.transformer.encoder.layers.25.self_attention.query_key_value.base_layer.bias torch.float16\n",
      "base_model.model.transformer.encoder.layers.25.self_attention.dense.weight torch.uint8\n",
      "base_model.model.transformer.encoder.layers.25.post_attention_layernorm.weight torch.float16\n",
      "base_model.model.transformer.encoder.layers.25.mlp.dense_h_to_4h.weight torch.uint8\n",
      "base_model.model.transformer.encoder.layers.25.mlp.dense_4h_to_h.weight torch.uint8\n",
      "base_model.model.transformer.encoder.layers.26.input_layernorm.weight torch.float16\n",
      "base_model.model.transformer.encoder.layers.26.self_attention.query_key_value.lora_A.default.weight torch.float32\n",
      "base_model.model.transformer.encoder.layers.26.self_attention.query_key_value.lora_B.default.weight torch.float32\n",
      "base_model.model.transformer.encoder.layers.26.self_attention.query_key_value.base_layer.weight torch.uint8\n",
      "base_model.model.transformer.encoder.layers.26.self_attention.query_key_value.base_layer.bias torch.float16\n",
      "base_model.model.transformer.encoder.layers.26.self_attention.dense.weight torch.uint8\n",
      "base_model.model.transformer.encoder.layers.26.post_attention_layernorm.weight torch.float16\n",
      "base_model.model.transformer.encoder.layers.26.mlp.dense_h_to_4h.weight torch.uint8\n",
      "base_model.model.transformer.encoder.layers.26.mlp.dense_4h_to_h.weight torch.uint8\n",
      "base_model.model.transformer.encoder.layers.27.input_layernorm.weight torch.float16\n",
      "base_model.model.transformer.encoder.layers.27.self_attention.query_key_value.lora_A.default.weight torch.float32\n",
      "base_model.model.transformer.encoder.layers.27.self_attention.query_key_value.lora_B.default.weight torch.float32\n",
      "base_model.model.transformer.encoder.layers.27.self_attention.query_key_value.base_layer.weight torch.uint8\n",
      "base_model.model.transformer.encoder.layers.27.self_attention.query_key_value.base_layer.bias torch.float16\n",
      "base_model.model.transformer.encoder.layers.27.self_attention.dense.weight torch.uint8\n",
      "base_model.model.transformer.encoder.layers.27.post_attention_layernorm.weight torch.float16\n",
      "base_model.model.transformer.encoder.layers.27.mlp.dense_h_to_4h.weight torch.uint8\n",
      "base_model.model.transformer.encoder.layers.27.mlp.dense_4h_to_h.weight torch.uint8\n",
      "base_model.model.transformer.encoder.final_layernorm.weight torch.float16\n",
      "base_model.model.transformer.output_layer.weight torch.float16\n"
     ]
    }
   ],
   "source": [
    "for name, parameter in model.named_parameters(): # 即使模型经过了量化，Lora还是fp32的！\n",
    "    print(name, parameter.dtype)"
   ]
  },
  {
   "cell_type": "code",
   "execution_count": 17,
   "metadata": {},
   "outputs": [
    {
     "name": "stdout",
     "output_type": "stream",
     "text": [
      "trainable params: 1,949,696 || all params: 6,245,533,696 || trainable%: 0.031217444255383614\n"
     ]
    }
   ],
   "source": [
    "model.print_trainable_parameters()"
   ]
  },
  {
   "cell_type": "code",
   "execution_count": 18,
   "metadata": {},
   "outputs": [],
   "source": [
    "model.enable_input_require_grads()"
   ]
  },
  {
   "cell_type": "markdown",
   "metadata": {},
   "source": [
    "## Step5 配置训练参数"
   ]
  },
  {
   "cell_type": "code",
   "execution_count": 19,
   "metadata": {},
   "outputs": [],
   "source": [
    "args = TrainingArguments(\n",
    "    output_dir=\"./chatbot\",\n",
    "    per_device_train_batch_size=1,\n",
    "    gradient_accumulation_steps=32,\n",
    "    logging_steps=10,\n",
    "    num_train_epochs=1,\n",
    "    learning_rate=1e-4,\n",
    "    remove_unused_columns=False,\n",
    "    gradient_checkpointing=True,\n",
    "    optim=\"paged_adamw_32bit\"\n",
    ")"
   ]
  },
  {
   "cell_type": "markdown",
   "metadata": {},
   "source": [
    "## Step6 创建训练器"
   ]
  },
  {
   "cell_type": "code",
   "execution_count": 20,
   "metadata": {},
   "outputs": [
    {
     "name": "stderr",
     "output_type": "stream",
     "text": [
      "Detected kernel version 4.15.0, which is below the recommended minimum of 5.5.0; this can cause the process to hang. It is recommended to upgrade the kernel to the minimum version or higher.\n"
     ]
    }
   ],
   "source": [
    "trainer = Trainer(\n",
    "    model=model,\n",
    "    args=args,\n",
    "    train_dataset=tokenized_ds.select(range(6000)),\n",
    "    data_collator=DataCollatorForSeq2Seq(tokenizer=tokenizer, padding=True),\n",
    ")"
   ]
  },
  {
   "cell_type": "markdown",
   "metadata": {},
   "source": [
    "## Step7 模型训练"
   ]
  },
  {
   "cell_type": "code",
   "execution_count": 21,
   "metadata": {},
   "outputs": [
    {
     "name": "stderr",
     "output_type": "stream",
     "text": [
      "`use_cache=True` is incompatible with gradient checkpointing. Setting `use_cache=False`...\n"
     ]
    },
    {
     "data": {
      "text/html": [
       "\n",
       "    <div>\n",
       "      \n",
       "      <progress value='21' max='187' style='width:300px; height:20px; vertical-align: middle;'></progress>\n",
       "      [ 21/187 02:42 < 23:38, 0.12 it/s, Epoch 0.11/1]\n",
       "    </div>\n",
       "    <table border=\"1\" class=\"dataframe\">\n",
       "  <thead>\n",
       " <tr style=\"text-align: left;\">\n",
       "      <th>Step</th>\n",
       "      <th>Training Loss</th>\n",
       "    </tr>\n",
       "  </thead>\n",
       "  <tbody>\n",
       "    <tr>\n",
       "      <td>10</td>\n",
       "      <td>2.011600</td>\n",
       "    </tr>\n",
       "  </tbody>\n",
       "</table><p>"
      ],
      "text/plain": [
       "<IPython.core.display.HTML object>"
      ]
     },
     "metadata": {},
     "output_type": "display_data"
    },
    {
     "ename": "KeyboardInterrupt",
     "evalue": "",
     "output_type": "error",
     "traceback": [
      "\u001b[0;31m---------------------------------------------------------------------------\u001b[0m",
      "\u001b[0;31mKeyboardInterrupt\u001b[0m                         Traceback (most recent call last)",
      "Cell \u001b[0;32mIn[21], line 1\u001b[0m\n\u001b[0;32m----> 1\u001b[0m \u001b[43mtrainer\u001b[49m\u001b[38;5;241;43m.\u001b[39;49m\u001b[43mtrain\u001b[49m\u001b[43m(\u001b[49m\u001b[43m)\u001b[49m\n",
      "File \u001b[0;32m/home/ubuntu/anaconda3/envs/py38/lib/python3.8/site-packages/transformers/trainer.py:1591\u001b[0m, in \u001b[0;36mTrainer.train\u001b[0;34m(self, resume_from_checkpoint, trial, ignore_keys_for_eval, **kwargs)\u001b[0m\n\u001b[1;32m   1589\u001b[0m         hf_hub_utils\u001b[38;5;241m.\u001b[39menable_progress_bars()\n\u001b[1;32m   1590\u001b[0m \u001b[38;5;28;01melse\u001b[39;00m:\n\u001b[0;32m-> 1591\u001b[0m     \u001b[38;5;28;01mreturn\u001b[39;00m \u001b[43minner_training_loop\u001b[49m\u001b[43m(\u001b[49m\n\u001b[1;32m   1592\u001b[0m \u001b[43m        \u001b[49m\u001b[43margs\u001b[49m\u001b[38;5;241;43m=\u001b[39;49m\u001b[43margs\u001b[49m\u001b[43m,\u001b[49m\n\u001b[1;32m   1593\u001b[0m \u001b[43m        \u001b[49m\u001b[43mresume_from_checkpoint\u001b[49m\u001b[38;5;241;43m=\u001b[39;49m\u001b[43mresume_from_checkpoint\u001b[49m\u001b[43m,\u001b[49m\n\u001b[1;32m   1594\u001b[0m \u001b[43m        \u001b[49m\u001b[43mtrial\u001b[49m\u001b[38;5;241;43m=\u001b[39;49m\u001b[43mtrial\u001b[49m\u001b[43m,\u001b[49m\n\u001b[1;32m   1595\u001b[0m \u001b[43m        \u001b[49m\u001b[43mignore_keys_for_eval\u001b[49m\u001b[38;5;241;43m=\u001b[39;49m\u001b[43mignore_keys_for_eval\u001b[49m\u001b[43m,\u001b[49m\n\u001b[1;32m   1596\u001b[0m \u001b[43m    \u001b[49m\u001b[43m)\u001b[49m\n",
      "File \u001b[0;32m/home/ubuntu/anaconda3/envs/py38/lib/python3.8/site-packages/transformers/trainer.py:1892\u001b[0m, in \u001b[0;36mTrainer._inner_training_loop\u001b[0;34m(self, batch_size, args, resume_from_checkpoint, trial, ignore_keys_for_eval)\u001b[0m\n\u001b[1;32m   1889\u001b[0m     \u001b[38;5;28mself\u001b[39m\u001b[38;5;241m.\u001b[39mcontrol \u001b[38;5;241m=\u001b[39m \u001b[38;5;28mself\u001b[39m\u001b[38;5;241m.\u001b[39mcallback_handler\u001b[38;5;241m.\u001b[39mon_step_begin(args, \u001b[38;5;28mself\u001b[39m\u001b[38;5;241m.\u001b[39mstate, \u001b[38;5;28mself\u001b[39m\u001b[38;5;241m.\u001b[39mcontrol)\n\u001b[1;32m   1891\u001b[0m \u001b[38;5;28;01mwith\u001b[39;00m \u001b[38;5;28mself\u001b[39m\u001b[38;5;241m.\u001b[39maccelerator\u001b[38;5;241m.\u001b[39maccumulate(model):\n\u001b[0;32m-> 1892\u001b[0m     tr_loss_step \u001b[38;5;241m=\u001b[39m \u001b[38;5;28;43mself\u001b[39;49m\u001b[38;5;241;43m.\u001b[39;49m\u001b[43mtraining_step\u001b[49m\u001b[43m(\u001b[49m\u001b[43mmodel\u001b[49m\u001b[43m,\u001b[49m\u001b[43m \u001b[49m\u001b[43minputs\u001b[49m\u001b[43m)\u001b[49m\n\u001b[1;32m   1894\u001b[0m \u001b[38;5;28;01mif\u001b[39;00m (\n\u001b[1;32m   1895\u001b[0m     args\u001b[38;5;241m.\u001b[39mlogging_nan_inf_filter\n\u001b[1;32m   1896\u001b[0m     \u001b[38;5;129;01mand\u001b[39;00m \u001b[38;5;129;01mnot\u001b[39;00m is_torch_tpu_available()\n\u001b[1;32m   1897\u001b[0m     \u001b[38;5;129;01mand\u001b[39;00m (torch\u001b[38;5;241m.\u001b[39misnan(tr_loss_step) \u001b[38;5;129;01mor\u001b[39;00m torch\u001b[38;5;241m.\u001b[39misinf(tr_loss_step))\n\u001b[1;32m   1898\u001b[0m ):\n\u001b[1;32m   1899\u001b[0m     \u001b[38;5;66;03m# if loss is nan or inf simply add the average of previous logged losses\u001b[39;00m\n\u001b[1;32m   1900\u001b[0m     tr_loss \u001b[38;5;241m+\u001b[39m\u001b[38;5;241m=\u001b[39m tr_loss \u001b[38;5;241m/\u001b[39m (\u001b[38;5;241m1\u001b[39m \u001b[38;5;241m+\u001b[39m \u001b[38;5;28mself\u001b[39m\u001b[38;5;241m.\u001b[39mstate\u001b[38;5;241m.\u001b[39mglobal_step \u001b[38;5;241m-\u001b[39m \u001b[38;5;28mself\u001b[39m\u001b[38;5;241m.\u001b[39m_globalstep_last_logged)\n",
      "File \u001b[0;32m/home/ubuntu/anaconda3/envs/py38/lib/python3.8/site-packages/transformers/trainer.py:2776\u001b[0m, in \u001b[0;36mTrainer.training_step\u001b[0;34m(self, model, inputs)\u001b[0m\n\u001b[1;32m   2773\u001b[0m     \u001b[38;5;28;01mreturn\u001b[39;00m loss_mb\u001b[38;5;241m.\u001b[39mreduce_mean()\u001b[38;5;241m.\u001b[39mdetach()\u001b[38;5;241m.\u001b[39mto(\u001b[38;5;28mself\u001b[39m\u001b[38;5;241m.\u001b[39margs\u001b[38;5;241m.\u001b[39mdevice)\n\u001b[1;32m   2775\u001b[0m \u001b[38;5;28;01mwith\u001b[39;00m \u001b[38;5;28mself\u001b[39m\u001b[38;5;241m.\u001b[39mcompute_loss_context_manager():\n\u001b[0;32m-> 2776\u001b[0m     loss \u001b[38;5;241m=\u001b[39m \u001b[38;5;28;43mself\u001b[39;49m\u001b[38;5;241;43m.\u001b[39;49m\u001b[43mcompute_loss\u001b[49m\u001b[43m(\u001b[49m\u001b[43mmodel\u001b[49m\u001b[43m,\u001b[49m\u001b[43m \u001b[49m\u001b[43minputs\u001b[49m\u001b[43m)\u001b[49m\n\u001b[1;32m   2778\u001b[0m \u001b[38;5;28;01mif\u001b[39;00m \u001b[38;5;28mself\u001b[39m\u001b[38;5;241m.\u001b[39margs\u001b[38;5;241m.\u001b[39mn_gpu \u001b[38;5;241m>\u001b[39m \u001b[38;5;241m1\u001b[39m:\n\u001b[1;32m   2779\u001b[0m     loss \u001b[38;5;241m=\u001b[39m loss\u001b[38;5;241m.\u001b[39mmean()  \u001b[38;5;66;03m# mean() to average on multi-gpu parallel training\u001b[39;00m\n",
      "File \u001b[0;32m/home/ubuntu/anaconda3/envs/py38/lib/python3.8/site-packages/transformers/trainer.py:2801\u001b[0m, in \u001b[0;36mTrainer.compute_loss\u001b[0;34m(self, model, inputs, return_outputs)\u001b[0m\n\u001b[1;32m   2799\u001b[0m \u001b[38;5;28;01melse\u001b[39;00m:\n\u001b[1;32m   2800\u001b[0m     labels \u001b[38;5;241m=\u001b[39m \u001b[38;5;28;01mNone\u001b[39;00m\n\u001b[0;32m-> 2801\u001b[0m outputs \u001b[38;5;241m=\u001b[39m \u001b[43mmodel\u001b[49m\u001b[43m(\u001b[49m\u001b[38;5;241;43m*\u001b[39;49m\u001b[38;5;241;43m*\u001b[39;49m\u001b[43minputs\u001b[49m\u001b[43m)\u001b[49m\n\u001b[1;32m   2802\u001b[0m \u001b[38;5;66;03m# Save past state if it exists\u001b[39;00m\n\u001b[1;32m   2803\u001b[0m \u001b[38;5;66;03m# TODO: this needs to be fixed and made cleaner later.\u001b[39;00m\n\u001b[1;32m   2804\u001b[0m \u001b[38;5;28;01mif\u001b[39;00m \u001b[38;5;28mself\u001b[39m\u001b[38;5;241m.\u001b[39margs\u001b[38;5;241m.\u001b[39mpast_index \u001b[38;5;241m>\u001b[39m\u001b[38;5;241m=\u001b[39m \u001b[38;5;241m0\u001b[39m:\n",
      "File \u001b[0;32m/home/ubuntu/anaconda3/envs/py38/lib/python3.8/site-packages/torch/nn/modules/module.py:1501\u001b[0m, in \u001b[0;36mModule._call_impl\u001b[0;34m(self, *args, **kwargs)\u001b[0m\n\u001b[1;32m   1496\u001b[0m \u001b[38;5;66;03m# If we don't have any hooks, we want to skip the rest of the logic in\u001b[39;00m\n\u001b[1;32m   1497\u001b[0m \u001b[38;5;66;03m# this function, and just call forward.\u001b[39;00m\n\u001b[1;32m   1498\u001b[0m \u001b[38;5;28;01mif\u001b[39;00m \u001b[38;5;129;01mnot\u001b[39;00m (\u001b[38;5;28mself\u001b[39m\u001b[38;5;241m.\u001b[39m_backward_hooks \u001b[38;5;129;01mor\u001b[39;00m \u001b[38;5;28mself\u001b[39m\u001b[38;5;241m.\u001b[39m_backward_pre_hooks \u001b[38;5;129;01mor\u001b[39;00m \u001b[38;5;28mself\u001b[39m\u001b[38;5;241m.\u001b[39m_forward_hooks \u001b[38;5;129;01mor\u001b[39;00m \u001b[38;5;28mself\u001b[39m\u001b[38;5;241m.\u001b[39m_forward_pre_hooks\n\u001b[1;32m   1499\u001b[0m         \u001b[38;5;129;01mor\u001b[39;00m _global_backward_pre_hooks \u001b[38;5;129;01mor\u001b[39;00m _global_backward_hooks\n\u001b[1;32m   1500\u001b[0m         \u001b[38;5;129;01mor\u001b[39;00m _global_forward_hooks \u001b[38;5;129;01mor\u001b[39;00m _global_forward_pre_hooks):\n\u001b[0;32m-> 1501\u001b[0m     \u001b[38;5;28;01mreturn\u001b[39;00m \u001b[43mforward_call\u001b[49m\u001b[43m(\u001b[49m\u001b[38;5;241;43m*\u001b[39;49m\u001b[43margs\u001b[49m\u001b[43m,\u001b[49m\u001b[43m \u001b[49m\u001b[38;5;241;43m*\u001b[39;49m\u001b[38;5;241;43m*\u001b[39;49m\u001b[43mkwargs\u001b[49m\u001b[43m)\u001b[49m\n\u001b[1;32m   1502\u001b[0m \u001b[38;5;66;03m# Do not call functions when jit is used\u001b[39;00m\n\u001b[1;32m   1503\u001b[0m full_backward_hooks, non_full_backward_hooks \u001b[38;5;241m=\u001b[39m [], []\n",
      "File \u001b[0;32m/home/ubuntu/anaconda3/envs/py38/lib/python3.8/site-packages/peft/peft_model.py:516\u001b[0m, in \u001b[0;36mPeftModel.forward\u001b[0;34m(self, *args, **kwargs)\u001b[0m\n\u001b[1;32m    512\u001b[0m \u001b[38;5;28;01mdef\u001b[39;00m \u001b[38;5;21mforward\u001b[39m(\u001b[38;5;28mself\u001b[39m, \u001b[38;5;241m*\u001b[39margs: Any, \u001b[38;5;241m*\u001b[39m\u001b[38;5;241m*\u001b[39mkwargs: Any):\n\u001b[1;32m    513\u001b[0m \u001b[38;5;250m    \u001b[39m\u001b[38;5;124;03m\"\"\"\u001b[39;00m\n\u001b[1;32m    514\u001b[0m \u001b[38;5;124;03m    Forward pass of the model.\u001b[39;00m\n\u001b[1;32m    515\u001b[0m \u001b[38;5;124;03m    \"\"\"\u001b[39;00m\n\u001b[0;32m--> 516\u001b[0m     \u001b[38;5;28;01mreturn\u001b[39;00m \u001b[38;5;28;43mself\u001b[39;49m\u001b[38;5;241;43m.\u001b[39;49m\u001b[43mget_base_model\u001b[49m\u001b[43m(\u001b[49m\u001b[43m)\u001b[49m\u001b[43m(\u001b[49m\u001b[38;5;241;43m*\u001b[39;49m\u001b[43margs\u001b[49m\u001b[43m,\u001b[49m\u001b[43m \u001b[49m\u001b[38;5;241;43m*\u001b[39;49m\u001b[38;5;241;43m*\u001b[39;49m\u001b[43mkwargs\u001b[49m\u001b[43m)\u001b[49m\n",
      "File \u001b[0;32m/home/ubuntu/anaconda3/envs/py38/lib/python3.8/site-packages/torch/nn/modules/module.py:1501\u001b[0m, in \u001b[0;36mModule._call_impl\u001b[0;34m(self, *args, **kwargs)\u001b[0m\n\u001b[1;32m   1496\u001b[0m \u001b[38;5;66;03m# If we don't have any hooks, we want to skip the rest of the logic in\u001b[39;00m\n\u001b[1;32m   1497\u001b[0m \u001b[38;5;66;03m# this function, and just call forward.\u001b[39;00m\n\u001b[1;32m   1498\u001b[0m \u001b[38;5;28;01mif\u001b[39;00m \u001b[38;5;129;01mnot\u001b[39;00m (\u001b[38;5;28mself\u001b[39m\u001b[38;5;241m.\u001b[39m_backward_hooks \u001b[38;5;129;01mor\u001b[39;00m \u001b[38;5;28mself\u001b[39m\u001b[38;5;241m.\u001b[39m_backward_pre_hooks \u001b[38;5;129;01mor\u001b[39;00m \u001b[38;5;28mself\u001b[39m\u001b[38;5;241m.\u001b[39m_forward_hooks \u001b[38;5;129;01mor\u001b[39;00m \u001b[38;5;28mself\u001b[39m\u001b[38;5;241m.\u001b[39m_forward_pre_hooks\n\u001b[1;32m   1499\u001b[0m         \u001b[38;5;129;01mor\u001b[39;00m _global_backward_pre_hooks \u001b[38;5;129;01mor\u001b[39;00m _global_backward_hooks\n\u001b[1;32m   1500\u001b[0m         \u001b[38;5;129;01mor\u001b[39;00m _global_forward_hooks \u001b[38;5;129;01mor\u001b[39;00m _global_forward_pre_hooks):\n\u001b[0;32m-> 1501\u001b[0m     \u001b[38;5;28;01mreturn\u001b[39;00m \u001b[43mforward_call\u001b[49m\u001b[43m(\u001b[49m\u001b[38;5;241;43m*\u001b[39;49m\u001b[43margs\u001b[49m\u001b[43m,\u001b[49m\u001b[43m \u001b[49m\u001b[38;5;241;43m*\u001b[39;49m\u001b[38;5;241;43m*\u001b[39;49m\u001b[43mkwargs\u001b[49m\u001b[43m)\u001b[49m\n\u001b[1;32m   1502\u001b[0m \u001b[38;5;66;03m# Do not call functions when jit is used\u001b[39;00m\n\u001b[1;32m   1503\u001b[0m full_backward_hooks, non_full_backward_hooks \u001b[38;5;241m=\u001b[39m [], []\n",
      "File \u001b[0;32m/home/ubuntu/anaconda3/envs/py38/lib/python3.8/site-packages/accelerate/hooks.py:164\u001b[0m, in \u001b[0;36madd_hook_to_module.<locals>.new_forward\u001b[0;34m(module, *args, **kwargs)\u001b[0m\n\u001b[1;32m    162\u001b[0m         output \u001b[38;5;241m=\u001b[39m module\u001b[38;5;241m.\u001b[39m_old_forward(\u001b[38;5;241m*\u001b[39margs, \u001b[38;5;241m*\u001b[39m\u001b[38;5;241m*\u001b[39mkwargs)\n\u001b[1;32m    163\u001b[0m \u001b[38;5;28;01melse\u001b[39;00m:\n\u001b[0;32m--> 164\u001b[0m     output \u001b[38;5;241m=\u001b[39m \u001b[43mmodule\u001b[49m\u001b[38;5;241;43m.\u001b[39;49m\u001b[43m_old_forward\u001b[49m\u001b[43m(\u001b[49m\u001b[38;5;241;43m*\u001b[39;49m\u001b[43margs\u001b[49m\u001b[43m,\u001b[49m\u001b[43m \u001b[49m\u001b[38;5;241;43m*\u001b[39;49m\u001b[38;5;241;43m*\u001b[39;49m\u001b[43mkwargs\u001b[49m\u001b[43m)\u001b[49m\n\u001b[1;32m    165\u001b[0m \u001b[38;5;28;01mreturn\u001b[39;00m module\u001b[38;5;241m.\u001b[39m_hf_hook\u001b[38;5;241m.\u001b[39mpost_forward(module, output)\n",
      "File \u001b[0;32m~/.cache/huggingface/modules/transformers_modules/modeling_chatglm.py:938\u001b[0m, in \u001b[0;36mChatGLMForConditionalGeneration.forward\u001b[0;34m(self, input_ids, position_ids, attention_mask, past_key_values, inputs_embeds, labels, use_cache, output_attentions, output_hidden_states, return_dict, return_last_logit)\u001b[0m\n\u001b[1;32m    935\u001b[0m use_cache \u001b[38;5;241m=\u001b[39m use_cache \u001b[38;5;28;01mif\u001b[39;00m use_cache \u001b[38;5;129;01mis\u001b[39;00m \u001b[38;5;129;01mnot\u001b[39;00m \u001b[38;5;28;01mNone\u001b[39;00m \u001b[38;5;28;01melse\u001b[39;00m \u001b[38;5;28mself\u001b[39m\u001b[38;5;241m.\u001b[39mconfig\u001b[38;5;241m.\u001b[39muse_cache\n\u001b[1;32m    936\u001b[0m return_dict \u001b[38;5;241m=\u001b[39m return_dict \u001b[38;5;28;01mif\u001b[39;00m return_dict \u001b[38;5;129;01mis\u001b[39;00m \u001b[38;5;129;01mnot\u001b[39;00m \u001b[38;5;28;01mNone\u001b[39;00m \u001b[38;5;28;01melse\u001b[39;00m \u001b[38;5;28mself\u001b[39m\u001b[38;5;241m.\u001b[39mconfig\u001b[38;5;241m.\u001b[39muse_return_dict\n\u001b[0;32m--> 938\u001b[0m transformer_outputs \u001b[38;5;241m=\u001b[39m \u001b[38;5;28;43mself\u001b[39;49m\u001b[38;5;241;43m.\u001b[39;49m\u001b[43mtransformer\u001b[49m\u001b[43m(\u001b[49m\n\u001b[1;32m    939\u001b[0m \u001b[43m    \u001b[49m\u001b[43minput_ids\u001b[49m\u001b[38;5;241;43m=\u001b[39;49m\u001b[43minput_ids\u001b[49m\u001b[43m,\u001b[49m\n\u001b[1;32m    940\u001b[0m \u001b[43m    \u001b[49m\u001b[43mposition_ids\u001b[49m\u001b[38;5;241;43m=\u001b[39;49m\u001b[43mposition_ids\u001b[49m\u001b[43m,\u001b[49m\n\u001b[1;32m    941\u001b[0m \u001b[43m    \u001b[49m\u001b[43mattention_mask\u001b[49m\u001b[38;5;241;43m=\u001b[39;49m\u001b[43mattention_mask\u001b[49m\u001b[43m,\u001b[49m\n\u001b[1;32m    942\u001b[0m \u001b[43m    \u001b[49m\u001b[43mpast_key_values\u001b[49m\u001b[38;5;241;43m=\u001b[39;49m\u001b[43mpast_key_values\u001b[49m\u001b[43m,\u001b[49m\n\u001b[1;32m    943\u001b[0m \u001b[43m    \u001b[49m\u001b[43minputs_embeds\u001b[49m\u001b[38;5;241;43m=\u001b[39;49m\u001b[43minputs_embeds\u001b[49m\u001b[43m,\u001b[49m\n\u001b[1;32m    944\u001b[0m \u001b[43m    \u001b[49m\u001b[43muse_cache\u001b[49m\u001b[38;5;241;43m=\u001b[39;49m\u001b[43muse_cache\u001b[49m\u001b[43m,\u001b[49m\n\u001b[1;32m    945\u001b[0m \u001b[43m    \u001b[49m\u001b[43moutput_hidden_states\u001b[49m\u001b[38;5;241;43m=\u001b[39;49m\u001b[43moutput_hidden_states\u001b[49m\u001b[43m,\u001b[49m\n\u001b[1;32m    946\u001b[0m \u001b[43m    \u001b[49m\u001b[43mreturn_dict\u001b[49m\u001b[38;5;241;43m=\u001b[39;49m\u001b[43mreturn_dict\u001b[49m\u001b[43m,\u001b[49m\n\u001b[1;32m    947\u001b[0m \u001b[43m\u001b[49m\u001b[43m)\u001b[49m\n\u001b[1;32m    949\u001b[0m hidden_states \u001b[38;5;241m=\u001b[39m transformer_outputs[\u001b[38;5;241m0\u001b[39m]\n\u001b[1;32m    950\u001b[0m \u001b[38;5;28;01mif\u001b[39;00m return_last_logit:\n",
      "File \u001b[0;32m/home/ubuntu/anaconda3/envs/py38/lib/python3.8/site-packages/torch/nn/modules/module.py:1501\u001b[0m, in \u001b[0;36mModule._call_impl\u001b[0;34m(self, *args, **kwargs)\u001b[0m\n\u001b[1;32m   1496\u001b[0m \u001b[38;5;66;03m# If we don't have any hooks, we want to skip the rest of the logic in\u001b[39;00m\n\u001b[1;32m   1497\u001b[0m \u001b[38;5;66;03m# this function, and just call forward.\u001b[39;00m\n\u001b[1;32m   1498\u001b[0m \u001b[38;5;28;01mif\u001b[39;00m \u001b[38;5;129;01mnot\u001b[39;00m (\u001b[38;5;28mself\u001b[39m\u001b[38;5;241m.\u001b[39m_backward_hooks \u001b[38;5;129;01mor\u001b[39;00m \u001b[38;5;28mself\u001b[39m\u001b[38;5;241m.\u001b[39m_backward_pre_hooks \u001b[38;5;129;01mor\u001b[39;00m \u001b[38;5;28mself\u001b[39m\u001b[38;5;241m.\u001b[39m_forward_hooks \u001b[38;5;129;01mor\u001b[39;00m \u001b[38;5;28mself\u001b[39m\u001b[38;5;241m.\u001b[39m_forward_pre_hooks\n\u001b[1;32m   1499\u001b[0m         \u001b[38;5;129;01mor\u001b[39;00m _global_backward_pre_hooks \u001b[38;5;129;01mor\u001b[39;00m _global_backward_hooks\n\u001b[1;32m   1500\u001b[0m         \u001b[38;5;129;01mor\u001b[39;00m _global_forward_hooks \u001b[38;5;129;01mor\u001b[39;00m _global_forward_pre_hooks):\n\u001b[0;32m-> 1501\u001b[0m     \u001b[38;5;28;01mreturn\u001b[39;00m \u001b[43mforward_call\u001b[49m\u001b[43m(\u001b[49m\u001b[38;5;241;43m*\u001b[39;49m\u001b[43margs\u001b[49m\u001b[43m,\u001b[49m\u001b[43m \u001b[49m\u001b[38;5;241;43m*\u001b[39;49m\u001b[38;5;241;43m*\u001b[39;49m\u001b[43mkwargs\u001b[49m\u001b[43m)\u001b[49m\n\u001b[1;32m   1502\u001b[0m \u001b[38;5;66;03m# Do not call functions when jit is used\u001b[39;00m\n\u001b[1;32m   1503\u001b[0m full_backward_hooks, non_full_backward_hooks \u001b[38;5;241m=\u001b[39m [], []\n",
      "File \u001b[0;32m/home/ubuntu/anaconda3/envs/py38/lib/python3.8/site-packages/accelerate/hooks.py:164\u001b[0m, in \u001b[0;36madd_hook_to_module.<locals>.new_forward\u001b[0;34m(module, *args, **kwargs)\u001b[0m\n\u001b[1;32m    162\u001b[0m         output \u001b[38;5;241m=\u001b[39m module\u001b[38;5;241m.\u001b[39m_old_forward(\u001b[38;5;241m*\u001b[39margs, \u001b[38;5;241m*\u001b[39m\u001b[38;5;241m*\u001b[39mkwargs)\n\u001b[1;32m    163\u001b[0m \u001b[38;5;28;01melse\u001b[39;00m:\n\u001b[0;32m--> 164\u001b[0m     output \u001b[38;5;241m=\u001b[39m \u001b[43mmodule\u001b[49m\u001b[38;5;241;43m.\u001b[39;49m\u001b[43m_old_forward\u001b[49m\u001b[43m(\u001b[49m\u001b[38;5;241;43m*\u001b[39;49m\u001b[43margs\u001b[49m\u001b[43m,\u001b[49m\u001b[43m \u001b[49m\u001b[38;5;241;43m*\u001b[39;49m\u001b[38;5;241;43m*\u001b[39;49m\u001b[43mkwargs\u001b[49m\u001b[43m)\u001b[49m\n\u001b[1;32m    165\u001b[0m \u001b[38;5;28;01mreturn\u001b[39;00m module\u001b[38;5;241m.\u001b[39m_hf_hook\u001b[38;5;241m.\u001b[39mpost_forward(module, output)\n",
      "File \u001b[0;32m~/.cache/huggingface/modules/transformers_modules/modeling_chatglm.py:831\u001b[0m, in \u001b[0;36mChatGLMModel.forward\u001b[0;34m(self, input_ids, position_ids, attention_mask, full_attention_mask, past_key_values, inputs_embeds, use_cache, output_hidden_states, return_dict)\u001b[0m\n\u001b[1;32m    828\u001b[0m rotary_pos_emb \u001b[38;5;241m=\u001b[39m rotary_pos_emb\u001b[38;5;241m.\u001b[39mtranspose(\u001b[38;5;241m0\u001b[39m, \u001b[38;5;241m1\u001b[39m)\u001b[38;5;241m.\u001b[39mcontiguous()\n\u001b[1;32m    830\u001b[0m \u001b[38;5;66;03m# Run encoder.\u001b[39;00m\n\u001b[0;32m--> 831\u001b[0m hidden_states, presents, all_hidden_states, all_self_attentions \u001b[38;5;241m=\u001b[39m \u001b[38;5;28;43mself\u001b[39;49m\u001b[38;5;241;43m.\u001b[39;49m\u001b[43mencoder\u001b[49m\u001b[43m(\u001b[49m\n\u001b[1;32m    832\u001b[0m \u001b[43m    \u001b[49m\u001b[43minputs_embeds\u001b[49m\u001b[43m,\u001b[49m\u001b[43m \u001b[49m\u001b[43mfull_attention_mask\u001b[49m\u001b[43m,\u001b[49m\u001b[43m \u001b[49m\u001b[43mrotary_pos_emb\u001b[49m\u001b[38;5;241;43m=\u001b[39;49m\u001b[43mrotary_pos_emb\u001b[49m\u001b[43m,\u001b[49m\n\u001b[1;32m    833\u001b[0m \u001b[43m    \u001b[49m\u001b[43mkv_caches\u001b[49m\u001b[38;5;241;43m=\u001b[39;49m\u001b[43mpast_key_values\u001b[49m\u001b[43m,\u001b[49m\u001b[43m \u001b[49m\u001b[43muse_cache\u001b[49m\u001b[38;5;241;43m=\u001b[39;49m\u001b[43muse_cache\u001b[49m\u001b[43m,\u001b[49m\u001b[43m \u001b[49m\u001b[43moutput_hidden_states\u001b[49m\u001b[38;5;241;43m=\u001b[39;49m\u001b[43moutput_hidden_states\u001b[49m\n\u001b[1;32m    834\u001b[0m \u001b[43m\u001b[49m\u001b[43m)\u001b[49m\n\u001b[1;32m    836\u001b[0m \u001b[38;5;28;01mif\u001b[39;00m \u001b[38;5;129;01mnot\u001b[39;00m return_dict:\n\u001b[1;32m    837\u001b[0m     \u001b[38;5;28;01mreturn\u001b[39;00m \u001b[38;5;28mtuple\u001b[39m(v \u001b[38;5;28;01mfor\u001b[39;00m v \u001b[38;5;129;01min\u001b[39;00m [hidden_states, presents, all_hidden_states, all_self_attentions] \u001b[38;5;28;01mif\u001b[39;00m v \u001b[38;5;129;01mis\u001b[39;00m \u001b[38;5;129;01mnot\u001b[39;00m \u001b[38;5;28;01mNone\u001b[39;00m)\n",
      "File \u001b[0;32m/home/ubuntu/anaconda3/envs/py38/lib/python3.8/site-packages/torch/nn/modules/module.py:1501\u001b[0m, in \u001b[0;36mModule._call_impl\u001b[0;34m(self, *args, **kwargs)\u001b[0m\n\u001b[1;32m   1496\u001b[0m \u001b[38;5;66;03m# If we don't have any hooks, we want to skip the rest of the logic in\u001b[39;00m\n\u001b[1;32m   1497\u001b[0m \u001b[38;5;66;03m# this function, and just call forward.\u001b[39;00m\n\u001b[1;32m   1498\u001b[0m \u001b[38;5;28;01mif\u001b[39;00m \u001b[38;5;129;01mnot\u001b[39;00m (\u001b[38;5;28mself\u001b[39m\u001b[38;5;241m.\u001b[39m_backward_hooks \u001b[38;5;129;01mor\u001b[39;00m \u001b[38;5;28mself\u001b[39m\u001b[38;5;241m.\u001b[39m_backward_pre_hooks \u001b[38;5;129;01mor\u001b[39;00m \u001b[38;5;28mself\u001b[39m\u001b[38;5;241m.\u001b[39m_forward_hooks \u001b[38;5;129;01mor\u001b[39;00m \u001b[38;5;28mself\u001b[39m\u001b[38;5;241m.\u001b[39m_forward_pre_hooks\n\u001b[1;32m   1499\u001b[0m         \u001b[38;5;129;01mor\u001b[39;00m _global_backward_pre_hooks \u001b[38;5;129;01mor\u001b[39;00m _global_backward_hooks\n\u001b[1;32m   1500\u001b[0m         \u001b[38;5;129;01mor\u001b[39;00m _global_forward_hooks \u001b[38;5;129;01mor\u001b[39;00m _global_forward_pre_hooks):\n\u001b[0;32m-> 1501\u001b[0m     \u001b[38;5;28;01mreturn\u001b[39;00m \u001b[43mforward_call\u001b[49m\u001b[43m(\u001b[49m\u001b[38;5;241;43m*\u001b[39;49m\u001b[43margs\u001b[49m\u001b[43m,\u001b[49m\u001b[43m \u001b[49m\u001b[38;5;241;43m*\u001b[39;49m\u001b[38;5;241;43m*\u001b[39;49m\u001b[43mkwargs\u001b[49m\u001b[43m)\u001b[49m\n\u001b[1;32m   1502\u001b[0m \u001b[38;5;66;03m# Do not call functions when jit is used\u001b[39;00m\n\u001b[1;32m   1503\u001b[0m full_backward_hooks, non_full_backward_hooks \u001b[38;5;241m=\u001b[39m [], []\n",
      "File \u001b[0;32m/home/ubuntu/anaconda3/envs/py38/lib/python3.8/site-packages/accelerate/hooks.py:164\u001b[0m, in \u001b[0;36madd_hook_to_module.<locals>.new_forward\u001b[0;34m(module, *args, **kwargs)\u001b[0m\n\u001b[1;32m    162\u001b[0m         output \u001b[38;5;241m=\u001b[39m module\u001b[38;5;241m.\u001b[39m_old_forward(\u001b[38;5;241m*\u001b[39margs, \u001b[38;5;241m*\u001b[39m\u001b[38;5;241m*\u001b[39mkwargs)\n\u001b[1;32m    163\u001b[0m \u001b[38;5;28;01melse\u001b[39;00m:\n\u001b[0;32m--> 164\u001b[0m     output \u001b[38;5;241m=\u001b[39m \u001b[43mmodule\u001b[49m\u001b[38;5;241;43m.\u001b[39;49m\u001b[43m_old_forward\u001b[49m\u001b[43m(\u001b[49m\u001b[38;5;241;43m*\u001b[39;49m\u001b[43margs\u001b[49m\u001b[43m,\u001b[49m\u001b[43m \u001b[49m\u001b[38;5;241;43m*\u001b[39;49m\u001b[38;5;241;43m*\u001b[39;49m\u001b[43mkwargs\u001b[49m\u001b[43m)\u001b[49m\n\u001b[1;32m    165\u001b[0m \u001b[38;5;28;01mreturn\u001b[39;00m module\u001b[38;5;241m.\u001b[39m_hf_hook\u001b[38;5;241m.\u001b[39mpost_forward(module, output)\n",
      "File \u001b[0;32m~/.cache/huggingface/modules/transformers_modules/modeling_chatglm.py:632\u001b[0m, in \u001b[0;36mGLMTransformer.forward\u001b[0;34m(self, hidden_states, attention_mask, rotary_pos_emb, kv_caches, use_cache, output_hidden_states)\u001b[0m\n\u001b[1;32m    630\u001b[0m layer \u001b[38;5;241m=\u001b[39m \u001b[38;5;28mself\u001b[39m\u001b[38;5;241m.\u001b[39m_get_layer(index)\n\u001b[1;32m    631\u001b[0m \u001b[38;5;28;01mif\u001b[39;00m \u001b[38;5;28mself\u001b[39m\u001b[38;5;241m.\u001b[39mgradient_checkpointing \u001b[38;5;129;01mand\u001b[39;00m \u001b[38;5;28mself\u001b[39m\u001b[38;5;241m.\u001b[39mtraining:\n\u001b[0;32m--> 632\u001b[0m     layer_ret \u001b[38;5;241m=\u001b[39m \u001b[43mtorch\u001b[49m\u001b[38;5;241;43m.\u001b[39;49m\u001b[43mutils\u001b[49m\u001b[38;5;241;43m.\u001b[39;49m\u001b[43mcheckpoint\u001b[49m\u001b[38;5;241;43m.\u001b[39;49m\u001b[43mcheckpoint\u001b[49m\u001b[43m(\u001b[49m\n\u001b[1;32m    633\u001b[0m \u001b[43m        \u001b[49m\u001b[43mlayer\u001b[49m\u001b[43m,\u001b[49m\n\u001b[1;32m    634\u001b[0m \u001b[43m        \u001b[49m\u001b[43mhidden_states\u001b[49m\u001b[43m,\u001b[49m\n\u001b[1;32m    635\u001b[0m \u001b[43m        \u001b[49m\u001b[43mattention_mask\u001b[49m\u001b[43m,\u001b[49m\n\u001b[1;32m    636\u001b[0m \u001b[43m        \u001b[49m\u001b[43mrotary_pos_emb\u001b[49m\u001b[43m,\u001b[49m\n\u001b[1;32m    637\u001b[0m \u001b[43m        \u001b[49m\u001b[43mkv_caches\u001b[49m\u001b[43m[\u001b[49m\u001b[43mindex\u001b[49m\u001b[43m]\u001b[49m\u001b[43m,\u001b[49m\n\u001b[1;32m    638\u001b[0m \u001b[43m        \u001b[49m\u001b[43muse_cache\u001b[49m\n\u001b[1;32m    639\u001b[0m \u001b[43m    \u001b[49m\u001b[43m)\u001b[49m\n\u001b[1;32m    640\u001b[0m \u001b[38;5;28;01melse\u001b[39;00m:\n\u001b[1;32m    641\u001b[0m     layer_ret \u001b[38;5;241m=\u001b[39m layer(\n\u001b[1;32m    642\u001b[0m         hidden_states,\n\u001b[1;32m    643\u001b[0m         attention_mask,\n\u001b[0;32m   (...)\u001b[0m\n\u001b[1;32m    646\u001b[0m         use_cache\u001b[38;5;241m=\u001b[39muse_cache\n\u001b[1;32m    647\u001b[0m     )\n",
      "File \u001b[0;32m/home/ubuntu/anaconda3/envs/py38/lib/python3.8/site-packages/torch/utils/checkpoint.py:249\u001b[0m, in \u001b[0;36mcheckpoint\u001b[0;34m(function, use_reentrant, *args, **kwargs)\u001b[0m\n\u001b[1;32m    246\u001b[0m     \u001b[38;5;28;01mraise\u001b[39;00m \u001b[38;5;167;01mValueError\u001b[39;00m(\u001b[38;5;124m\"\u001b[39m\u001b[38;5;124mUnexpected keyword arguments: \u001b[39m\u001b[38;5;124m\"\u001b[39m \u001b[38;5;241m+\u001b[39m \u001b[38;5;124m\"\u001b[39m\u001b[38;5;124m,\u001b[39m\u001b[38;5;124m\"\u001b[39m\u001b[38;5;241m.\u001b[39mjoin(arg \u001b[38;5;28;01mfor\u001b[39;00m arg \u001b[38;5;129;01min\u001b[39;00m kwargs))\n\u001b[1;32m    248\u001b[0m \u001b[38;5;28;01mif\u001b[39;00m use_reentrant:\n\u001b[0;32m--> 249\u001b[0m     \u001b[38;5;28;01mreturn\u001b[39;00m \u001b[43mCheckpointFunction\u001b[49m\u001b[38;5;241;43m.\u001b[39;49m\u001b[43mapply\u001b[49m\u001b[43m(\u001b[49m\u001b[43mfunction\u001b[49m\u001b[43m,\u001b[49m\u001b[43m \u001b[49m\u001b[43mpreserve\u001b[49m\u001b[43m,\u001b[49m\u001b[43m \u001b[49m\u001b[38;5;241;43m*\u001b[39;49m\u001b[43margs\u001b[49m\u001b[43m)\u001b[49m\n\u001b[1;32m    250\u001b[0m \u001b[38;5;28;01melse\u001b[39;00m:\n\u001b[1;32m    251\u001b[0m     \u001b[38;5;28;01mreturn\u001b[39;00m _checkpoint_without_reentrant(\n\u001b[1;32m    252\u001b[0m         function,\n\u001b[1;32m    253\u001b[0m         preserve,\n\u001b[1;32m    254\u001b[0m         \u001b[38;5;241m*\u001b[39margs,\n\u001b[1;32m    255\u001b[0m         \u001b[38;5;241m*\u001b[39m\u001b[38;5;241m*\u001b[39mkwargs,\n\u001b[1;32m    256\u001b[0m     )\n",
      "File \u001b[0;32m/home/ubuntu/anaconda3/envs/py38/lib/python3.8/site-packages/torch/autograd/function.py:506\u001b[0m, in \u001b[0;36mFunction.apply\u001b[0;34m(cls, *args, **kwargs)\u001b[0m\n\u001b[1;32m    503\u001b[0m \u001b[38;5;28;01mif\u001b[39;00m \u001b[38;5;129;01mnot\u001b[39;00m torch\u001b[38;5;241m.\u001b[39m_C\u001b[38;5;241m.\u001b[39m_are_functorch_transforms_active():\n\u001b[1;32m    504\u001b[0m     \u001b[38;5;66;03m# See NOTE: [functorch vjp and autograd interaction]\u001b[39;00m\n\u001b[1;32m    505\u001b[0m     args \u001b[38;5;241m=\u001b[39m _functorch\u001b[38;5;241m.\u001b[39mutils\u001b[38;5;241m.\u001b[39munwrap_dead_wrappers(args)\n\u001b[0;32m--> 506\u001b[0m     \u001b[38;5;28;01mreturn\u001b[39;00m \u001b[38;5;28;43msuper\u001b[39;49m\u001b[43m(\u001b[49m\u001b[43m)\u001b[49m\u001b[38;5;241;43m.\u001b[39;49m\u001b[43mapply\u001b[49m\u001b[43m(\u001b[49m\u001b[38;5;241;43m*\u001b[39;49m\u001b[43margs\u001b[49m\u001b[43m,\u001b[49m\u001b[43m \u001b[49m\u001b[38;5;241;43m*\u001b[39;49m\u001b[38;5;241;43m*\u001b[39;49m\u001b[43mkwargs\u001b[49m\u001b[43m)\u001b[49m  \u001b[38;5;66;03m# type: ignore[misc]\u001b[39;00m\n\u001b[1;32m    508\u001b[0m \u001b[38;5;28;01mif\u001b[39;00m \u001b[38;5;28mcls\u001b[39m\u001b[38;5;241m.\u001b[39msetup_context \u001b[38;5;241m==\u001b[39m _SingleLevelFunction\u001b[38;5;241m.\u001b[39msetup_context:\n\u001b[1;32m    509\u001b[0m     \u001b[38;5;28;01mraise\u001b[39;00m \u001b[38;5;167;01mRuntimeError\u001b[39;00m(\n\u001b[1;32m    510\u001b[0m         \u001b[38;5;124m'\u001b[39m\u001b[38;5;124mIn order to use an autograd.Function with functorch transforms \u001b[39m\u001b[38;5;124m'\u001b[39m\n\u001b[1;32m    511\u001b[0m         \u001b[38;5;124m'\u001b[39m\u001b[38;5;124m(vmap, grad, jvp, jacrev, ...), it must override the setup_context \u001b[39m\u001b[38;5;124m'\u001b[39m\n\u001b[1;32m    512\u001b[0m         \u001b[38;5;124m'\u001b[39m\u001b[38;5;124mstaticmethod. For more details, please see \u001b[39m\u001b[38;5;124m'\u001b[39m\n\u001b[1;32m    513\u001b[0m         \u001b[38;5;124m'\u001b[39m\u001b[38;5;124mhttps://pytorch.org/docs/master/notes/extending.func.html\u001b[39m\u001b[38;5;124m'\u001b[39m)\n",
      "File \u001b[0;32m/home/ubuntu/anaconda3/envs/py38/lib/python3.8/site-packages/torch/utils/checkpoint.py:107\u001b[0m, in \u001b[0;36mCheckpointFunction.forward\u001b[0;34m(ctx, run_function, preserve_rng_state, *args)\u001b[0m\n\u001b[1;32m    104\u001b[0m ctx\u001b[38;5;241m.\u001b[39msave_for_backward(\u001b[38;5;241m*\u001b[39mtensor_inputs)\n\u001b[1;32m    106\u001b[0m \u001b[38;5;28;01mwith\u001b[39;00m torch\u001b[38;5;241m.\u001b[39mno_grad():\n\u001b[0;32m--> 107\u001b[0m     outputs \u001b[38;5;241m=\u001b[39m \u001b[43mrun_function\u001b[49m\u001b[43m(\u001b[49m\u001b[38;5;241;43m*\u001b[39;49m\u001b[43margs\u001b[49m\u001b[43m)\u001b[49m\n\u001b[1;32m    108\u001b[0m \u001b[38;5;28;01mreturn\u001b[39;00m outputs\n",
      "File \u001b[0;32m/home/ubuntu/anaconda3/envs/py38/lib/python3.8/site-packages/torch/nn/modules/module.py:1501\u001b[0m, in \u001b[0;36mModule._call_impl\u001b[0;34m(self, *args, **kwargs)\u001b[0m\n\u001b[1;32m   1496\u001b[0m \u001b[38;5;66;03m# If we don't have any hooks, we want to skip the rest of the logic in\u001b[39;00m\n\u001b[1;32m   1497\u001b[0m \u001b[38;5;66;03m# this function, and just call forward.\u001b[39;00m\n\u001b[1;32m   1498\u001b[0m \u001b[38;5;28;01mif\u001b[39;00m \u001b[38;5;129;01mnot\u001b[39;00m (\u001b[38;5;28mself\u001b[39m\u001b[38;5;241m.\u001b[39m_backward_hooks \u001b[38;5;129;01mor\u001b[39;00m \u001b[38;5;28mself\u001b[39m\u001b[38;5;241m.\u001b[39m_backward_pre_hooks \u001b[38;5;129;01mor\u001b[39;00m \u001b[38;5;28mself\u001b[39m\u001b[38;5;241m.\u001b[39m_forward_hooks \u001b[38;5;129;01mor\u001b[39;00m \u001b[38;5;28mself\u001b[39m\u001b[38;5;241m.\u001b[39m_forward_pre_hooks\n\u001b[1;32m   1499\u001b[0m         \u001b[38;5;129;01mor\u001b[39;00m _global_backward_pre_hooks \u001b[38;5;129;01mor\u001b[39;00m _global_backward_hooks\n\u001b[1;32m   1500\u001b[0m         \u001b[38;5;129;01mor\u001b[39;00m _global_forward_hooks \u001b[38;5;129;01mor\u001b[39;00m _global_forward_pre_hooks):\n\u001b[0;32m-> 1501\u001b[0m     \u001b[38;5;28;01mreturn\u001b[39;00m \u001b[43mforward_call\u001b[49m\u001b[43m(\u001b[49m\u001b[38;5;241;43m*\u001b[39;49m\u001b[43margs\u001b[49m\u001b[43m,\u001b[49m\u001b[43m \u001b[49m\u001b[38;5;241;43m*\u001b[39;49m\u001b[38;5;241;43m*\u001b[39;49m\u001b[43mkwargs\u001b[49m\u001b[43m)\u001b[49m\n\u001b[1;32m   1502\u001b[0m \u001b[38;5;66;03m# Do not call functions when jit is used\u001b[39;00m\n\u001b[1;32m   1503\u001b[0m full_backward_hooks, non_full_backward_hooks \u001b[38;5;241m=\u001b[39m [], []\n",
      "File \u001b[0;32m/home/ubuntu/anaconda3/envs/py38/lib/python3.8/site-packages/accelerate/hooks.py:164\u001b[0m, in \u001b[0;36madd_hook_to_module.<locals>.new_forward\u001b[0;34m(module, *args, **kwargs)\u001b[0m\n\u001b[1;32m    162\u001b[0m         output \u001b[38;5;241m=\u001b[39m module\u001b[38;5;241m.\u001b[39m_old_forward(\u001b[38;5;241m*\u001b[39margs, \u001b[38;5;241m*\u001b[39m\u001b[38;5;241m*\u001b[39mkwargs)\n\u001b[1;32m    163\u001b[0m \u001b[38;5;28;01melse\u001b[39;00m:\n\u001b[0;32m--> 164\u001b[0m     output \u001b[38;5;241m=\u001b[39m \u001b[43mmodule\u001b[49m\u001b[38;5;241;43m.\u001b[39;49m\u001b[43m_old_forward\u001b[49m\u001b[43m(\u001b[49m\u001b[38;5;241;43m*\u001b[39;49m\u001b[43margs\u001b[49m\u001b[43m,\u001b[49m\u001b[43m \u001b[49m\u001b[38;5;241;43m*\u001b[39;49m\u001b[38;5;241;43m*\u001b[39;49m\u001b[43mkwargs\u001b[49m\u001b[43m)\u001b[49m\n\u001b[1;32m    165\u001b[0m \u001b[38;5;28;01mreturn\u001b[39;00m module\u001b[38;5;241m.\u001b[39m_hf_hook\u001b[38;5;241m.\u001b[39mpost_forward(module, output)\n",
      "File \u001b[0;32m~/.cache/huggingface/modules/transformers_modules/modeling_chatglm.py:566\u001b[0m, in \u001b[0;36mGLMBlock.forward\u001b[0;34m(self, hidden_states, attention_mask, rotary_pos_emb, kv_cache, use_cache)\u001b[0m\n\u001b[1;32m    563\u001b[0m layernorm_output \u001b[38;5;241m=\u001b[39m \u001b[38;5;28mself\u001b[39m\u001b[38;5;241m.\u001b[39mpost_attention_layernorm(layernorm_input)\n\u001b[1;32m    565\u001b[0m \u001b[38;5;66;03m# MLP.\u001b[39;00m\n\u001b[0;32m--> 566\u001b[0m mlp_output \u001b[38;5;241m=\u001b[39m \u001b[38;5;28;43mself\u001b[39;49m\u001b[38;5;241;43m.\u001b[39;49m\u001b[43mmlp\u001b[49m\u001b[43m(\u001b[49m\u001b[43mlayernorm_output\u001b[49m\u001b[43m)\u001b[49m\n\u001b[1;32m    568\u001b[0m \u001b[38;5;66;03m# Second residual connection.\u001b[39;00m\n\u001b[1;32m    569\u001b[0m \u001b[38;5;28;01mif\u001b[39;00m \u001b[38;5;28mself\u001b[39m\u001b[38;5;241m.\u001b[39mapply_residual_connection_post_layernorm:\n",
      "File \u001b[0;32m/home/ubuntu/anaconda3/envs/py38/lib/python3.8/site-packages/torch/nn/modules/module.py:1501\u001b[0m, in \u001b[0;36mModule._call_impl\u001b[0;34m(self, *args, **kwargs)\u001b[0m\n\u001b[1;32m   1496\u001b[0m \u001b[38;5;66;03m# If we don't have any hooks, we want to skip the rest of the logic in\u001b[39;00m\n\u001b[1;32m   1497\u001b[0m \u001b[38;5;66;03m# this function, and just call forward.\u001b[39;00m\n\u001b[1;32m   1498\u001b[0m \u001b[38;5;28;01mif\u001b[39;00m \u001b[38;5;129;01mnot\u001b[39;00m (\u001b[38;5;28mself\u001b[39m\u001b[38;5;241m.\u001b[39m_backward_hooks \u001b[38;5;129;01mor\u001b[39;00m \u001b[38;5;28mself\u001b[39m\u001b[38;5;241m.\u001b[39m_backward_pre_hooks \u001b[38;5;129;01mor\u001b[39;00m \u001b[38;5;28mself\u001b[39m\u001b[38;5;241m.\u001b[39m_forward_hooks \u001b[38;5;129;01mor\u001b[39;00m \u001b[38;5;28mself\u001b[39m\u001b[38;5;241m.\u001b[39m_forward_pre_hooks\n\u001b[1;32m   1499\u001b[0m         \u001b[38;5;129;01mor\u001b[39;00m _global_backward_pre_hooks \u001b[38;5;129;01mor\u001b[39;00m _global_backward_hooks\n\u001b[1;32m   1500\u001b[0m         \u001b[38;5;129;01mor\u001b[39;00m _global_forward_hooks \u001b[38;5;129;01mor\u001b[39;00m _global_forward_pre_hooks):\n\u001b[0;32m-> 1501\u001b[0m     \u001b[38;5;28;01mreturn\u001b[39;00m \u001b[43mforward_call\u001b[49m\u001b[43m(\u001b[49m\u001b[38;5;241;43m*\u001b[39;49m\u001b[43margs\u001b[49m\u001b[43m,\u001b[49m\u001b[43m \u001b[49m\u001b[38;5;241;43m*\u001b[39;49m\u001b[38;5;241;43m*\u001b[39;49m\u001b[43mkwargs\u001b[49m\u001b[43m)\u001b[49m\n\u001b[1;32m   1502\u001b[0m \u001b[38;5;66;03m# Do not call functions when jit is used\u001b[39;00m\n\u001b[1;32m   1503\u001b[0m full_backward_hooks, non_full_backward_hooks \u001b[38;5;241m=\u001b[39m [], []\n",
      "File \u001b[0;32m/home/ubuntu/anaconda3/envs/py38/lib/python3.8/site-packages/accelerate/hooks.py:164\u001b[0m, in \u001b[0;36madd_hook_to_module.<locals>.new_forward\u001b[0;34m(module, *args, **kwargs)\u001b[0m\n\u001b[1;32m    162\u001b[0m         output \u001b[38;5;241m=\u001b[39m module\u001b[38;5;241m.\u001b[39m_old_forward(\u001b[38;5;241m*\u001b[39margs, \u001b[38;5;241m*\u001b[39m\u001b[38;5;241m*\u001b[39mkwargs)\n\u001b[1;32m    163\u001b[0m \u001b[38;5;28;01melse\u001b[39;00m:\n\u001b[0;32m--> 164\u001b[0m     output \u001b[38;5;241m=\u001b[39m \u001b[43mmodule\u001b[49m\u001b[38;5;241;43m.\u001b[39;49m\u001b[43m_old_forward\u001b[49m\u001b[43m(\u001b[49m\u001b[38;5;241;43m*\u001b[39;49m\u001b[43margs\u001b[49m\u001b[43m,\u001b[49m\u001b[43m \u001b[49m\u001b[38;5;241;43m*\u001b[39;49m\u001b[38;5;241;43m*\u001b[39;49m\u001b[43mkwargs\u001b[49m\u001b[43m)\u001b[49m\n\u001b[1;32m    165\u001b[0m \u001b[38;5;28;01mreturn\u001b[39;00m module\u001b[38;5;241m.\u001b[39m_hf_hook\u001b[38;5;241m.\u001b[39mpost_forward(module, output)\n",
      "File \u001b[0;32m~/.cache/huggingface/modules/transformers_modules/modeling_chatglm.py:499\u001b[0m, in \u001b[0;36mMLP.forward\u001b[0;34m(self, hidden_states)\u001b[0m\n\u001b[1;32m    497\u001b[0m \u001b[38;5;28;01mdef\u001b[39;00m \u001b[38;5;21mforward\u001b[39m(\u001b[38;5;28mself\u001b[39m, hidden_states):\n\u001b[1;32m    498\u001b[0m     \u001b[38;5;66;03m# [s, b, 4hp]\u001b[39;00m\n\u001b[0;32m--> 499\u001b[0m     intermediate_parallel \u001b[38;5;241m=\u001b[39m \u001b[38;5;28;43mself\u001b[39;49m\u001b[38;5;241;43m.\u001b[39;49m\u001b[43mdense_h_to_4h\u001b[49m\u001b[43m(\u001b[49m\u001b[43mhidden_states\u001b[49m\u001b[43m)\u001b[49m\n\u001b[1;32m    500\u001b[0m     intermediate_parallel \u001b[38;5;241m=\u001b[39m \u001b[38;5;28mself\u001b[39m\u001b[38;5;241m.\u001b[39mactivation_func(intermediate_parallel)\n\u001b[1;32m    501\u001b[0m     \u001b[38;5;66;03m# [s, b, h]\u001b[39;00m\n",
      "File \u001b[0;32m/home/ubuntu/anaconda3/envs/py38/lib/python3.8/site-packages/torch/nn/modules/module.py:1501\u001b[0m, in \u001b[0;36mModule._call_impl\u001b[0;34m(self, *args, **kwargs)\u001b[0m\n\u001b[1;32m   1496\u001b[0m \u001b[38;5;66;03m# If we don't have any hooks, we want to skip the rest of the logic in\u001b[39;00m\n\u001b[1;32m   1497\u001b[0m \u001b[38;5;66;03m# this function, and just call forward.\u001b[39;00m\n\u001b[1;32m   1498\u001b[0m \u001b[38;5;28;01mif\u001b[39;00m \u001b[38;5;129;01mnot\u001b[39;00m (\u001b[38;5;28mself\u001b[39m\u001b[38;5;241m.\u001b[39m_backward_hooks \u001b[38;5;129;01mor\u001b[39;00m \u001b[38;5;28mself\u001b[39m\u001b[38;5;241m.\u001b[39m_backward_pre_hooks \u001b[38;5;129;01mor\u001b[39;00m \u001b[38;5;28mself\u001b[39m\u001b[38;5;241m.\u001b[39m_forward_hooks \u001b[38;5;129;01mor\u001b[39;00m \u001b[38;5;28mself\u001b[39m\u001b[38;5;241m.\u001b[39m_forward_pre_hooks\n\u001b[1;32m   1499\u001b[0m         \u001b[38;5;129;01mor\u001b[39;00m _global_backward_pre_hooks \u001b[38;5;129;01mor\u001b[39;00m _global_backward_hooks\n\u001b[1;32m   1500\u001b[0m         \u001b[38;5;129;01mor\u001b[39;00m _global_forward_hooks \u001b[38;5;129;01mor\u001b[39;00m _global_forward_pre_hooks):\n\u001b[0;32m-> 1501\u001b[0m     \u001b[38;5;28;01mreturn\u001b[39;00m \u001b[43mforward_call\u001b[49m\u001b[43m(\u001b[49m\u001b[38;5;241;43m*\u001b[39;49m\u001b[43margs\u001b[49m\u001b[43m,\u001b[49m\u001b[43m \u001b[49m\u001b[38;5;241;43m*\u001b[39;49m\u001b[38;5;241;43m*\u001b[39;49m\u001b[43mkwargs\u001b[49m\u001b[43m)\u001b[49m\n\u001b[1;32m   1502\u001b[0m \u001b[38;5;66;03m# Do not call functions when jit is used\u001b[39;00m\n\u001b[1;32m   1503\u001b[0m full_backward_hooks, non_full_backward_hooks \u001b[38;5;241m=\u001b[39m [], []\n",
      "File \u001b[0;32m/home/ubuntu/anaconda3/envs/py38/lib/python3.8/site-packages/accelerate/hooks.py:164\u001b[0m, in \u001b[0;36madd_hook_to_module.<locals>.new_forward\u001b[0;34m(module, *args, **kwargs)\u001b[0m\n\u001b[1;32m    162\u001b[0m         output \u001b[38;5;241m=\u001b[39m module\u001b[38;5;241m.\u001b[39m_old_forward(\u001b[38;5;241m*\u001b[39margs, \u001b[38;5;241m*\u001b[39m\u001b[38;5;241m*\u001b[39mkwargs)\n\u001b[1;32m    163\u001b[0m \u001b[38;5;28;01melse\u001b[39;00m:\n\u001b[0;32m--> 164\u001b[0m     output \u001b[38;5;241m=\u001b[39m \u001b[43mmodule\u001b[49m\u001b[38;5;241;43m.\u001b[39;49m\u001b[43m_old_forward\u001b[49m\u001b[43m(\u001b[49m\u001b[38;5;241;43m*\u001b[39;49m\u001b[43margs\u001b[49m\u001b[43m,\u001b[49m\u001b[43m \u001b[49m\u001b[38;5;241;43m*\u001b[39;49m\u001b[38;5;241;43m*\u001b[39;49m\u001b[43mkwargs\u001b[49m\u001b[43m)\u001b[49m\n\u001b[1;32m    165\u001b[0m \u001b[38;5;28;01mreturn\u001b[39;00m module\u001b[38;5;241m.\u001b[39m_hf_hook\u001b[38;5;241m.\u001b[39mpost_forward(module, output)\n",
      "File \u001b[0;32m/home/ubuntu/anaconda3/envs/py38/lib/python3.8/site-packages/bitsandbytes/nn/modules.py:256\u001b[0m, in \u001b[0;36mLinear4bit.forward\u001b[0;34m(self, x)\u001b[0m\n\u001b[1;32m    253\u001b[0m     x \u001b[38;5;241m=\u001b[39m x\u001b[38;5;241m.\u001b[39mto(\u001b[38;5;28mself\u001b[39m\u001b[38;5;241m.\u001b[39mcompute_dtype)\n\u001b[1;32m    255\u001b[0m bias \u001b[38;5;241m=\u001b[39m \u001b[38;5;28;01mNone\u001b[39;00m \u001b[38;5;28;01mif\u001b[39;00m \u001b[38;5;28mself\u001b[39m\u001b[38;5;241m.\u001b[39mbias \u001b[38;5;129;01mis\u001b[39;00m \u001b[38;5;28;01mNone\u001b[39;00m \u001b[38;5;28;01melse\u001b[39;00m \u001b[38;5;28mself\u001b[39m\u001b[38;5;241m.\u001b[39mbias\u001b[38;5;241m.\u001b[39mto(\u001b[38;5;28mself\u001b[39m\u001b[38;5;241m.\u001b[39mcompute_dtype)\n\u001b[0;32m--> 256\u001b[0m out \u001b[38;5;241m=\u001b[39m \u001b[43mbnb\u001b[49m\u001b[38;5;241;43m.\u001b[39;49m\u001b[43mmatmul_4bit\u001b[49m\u001b[43m(\u001b[49m\u001b[43mx\u001b[49m\u001b[43m,\u001b[49m\u001b[43m \u001b[49m\u001b[38;5;28;43mself\u001b[39;49m\u001b[38;5;241;43m.\u001b[39;49m\u001b[43mweight\u001b[49m\u001b[38;5;241;43m.\u001b[39;49m\u001b[43mt\u001b[49m\u001b[43m(\u001b[49m\u001b[43m)\u001b[49m\u001b[43m,\u001b[49m\u001b[43m \u001b[49m\u001b[43mbias\u001b[49m\u001b[38;5;241;43m=\u001b[39;49m\u001b[43mbias\u001b[49m\u001b[43m,\u001b[49m\u001b[43m \u001b[49m\u001b[43mquant_state\u001b[49m\u001b[38;5;241;43m=\u001b[39;49m\u001b[38;5;28;43mself\u001b[39;49m\u001b[38;5;241;43m.\u001b[39;49m\u001b[43mweight\u001b[49m\u001b[38;5;241;43m.\u001b[39;49m\u001b[43mquant_state\u001b[49m\u001b[43m)\u001b[49m\n\u001b[1;32m    258\u001b[0m out \u001b[38;5;241m=\u001b[39m out\u001b[38;5;241m.\u001b[39mto(inp_dtype)\n\u001b[1;32m    260\u001b[0m \u001b[38;5;28;01mreturn\u001b[39;00m out\n",
      "File \u001b[0;32m/home/ubuntu/anaconda3/envs/py38/lib/python3.8/site-packages/bitsandbytes/autograd/_functions.py:577\u001b[0m, in \u001b[0;36mmatmul_4bit\u001b[0;34m(A, B, quant_state, out, bias)\u001b[0m\n\u001b[1;32m    575\u001b[0m         \u001b[38;5;28;01mreturn\u001b[39;00m out\n\u001b[1;32m    576\u001b[0m \u001b[38;5;28;01melse\u001b[39;00m:\n\u001b[0;32m--> 577\u001b[0m     \u001b[38;5;28;01mreturn\u001b[39;00m \u001b[43mMatMul4Bit\u001b[49m\u001b[38;5;241;43m.\u001b[39;49m\u001b[43mapply\u001b[49m\u001b[43m(\u001b[49m\u001b[43mA\u001b[49m\u001b[43m,\u001b[49m\u001b[43m \u001b[49m\u001b[43mB\u001b[49m\u001b[43m,\u001b[49m\u001b[43m \u001b[49m\u001b[43mout\u001b[49m\u001b[43m,\u001b[49m\u001b[43m \u001b[49m\u001b[43mbias\u001b[49m\u001b[43m,\u001b[49m\u001b[43m \u001b[49m\u001b[43mquant_state\u001b[49m\u001b[43m)\u001b[49m\n",
      "File \u001b[0;32m/home/ubuntu/anaconda3/envs/py38/lib/python3.8/site-packages/torch/autograd/function.py:506\u001b[0m, in \u001b[0;36mFunction.apply\u001b[0;34m(cls, *args, **kwargs)\u001b[0m\n\u001b[1;32m    503\u001b[0m \u001b[38;5;28;01mif\u001b[39;00m \u001b[38;5;129;01mnot\u001b[39;00m torch\u001b[38;5;241m.\u001b[39m_C\u001b[38;5;241m.\u001b[39m_are_functorch_transforms_active():\n\u001b[1;32m    504\u001b[0m     \u001b[38;5;66;03m# See NOTE: [functorch vjp and autograd interaction]\u001b[39;00m\n\u001b[1;32m    505\u001b[0m     args \u001b[38;5;241m=\u001b[39m _functorch\u001b[38;5;241m.\u001b[39mutils\u001b[38;5;241m.\u001b[39munwrap_dead_wrappers(args)\n\u001b[0;32m--> 506\u001b[0m     \u001b[38;5;28;01mreturn\u001b[39;00m \u001b[38;5;28;43msuper\u001b[39;49m\u001b[43m(\u001b[49m\u001b[43m)\u001b[49m\u001b[38;5;241;43m.\u001b[39;49m\u001b[43mapply\u001b[49m\u001b[43m(\u001b[49m\u001b[38;5;241;43m*\u001b[39;49m\u001b[43margs\u001b[49m\u001b[43m,\u001b[49m\u001b[43m \u001b[49m\u001b[38;5;241;43m*\u001b[39;49m\u001b[38;5;241;43m*\u001b[39;49m\u001b[43mkwargs\u001b[49m\u001b[43m)\u001b[49m  \u001b[38;5;66;03m# type: ignore[misc]\u001b[39;00m\n\u001b[1;32m    508\u001b[0m \u001b[38;5;28;01mif\u001b[39;00m \u001b[38;5;28mcls\u001b[39m\u001b[38;5;241m.\u001b[39msetup_context \u001b[38;5;241m==\u001b[39m _SingleLevelFunction\u001b[38;5;241m.\u001b[39msetup_context:\n\u001b[1;32m    509\u001b[0m     \u001b[38;5;28;01mraise\u001b[39;00m \u001b[38;5;167;01mRuntimeError\u001b[39;00m(\n\u001b[1;32m    510\u001b[0m         \u001b[38;5;124m'\u001b[39m\u001b[38;5;124mIn order to use an autograd.Function with functorch transforms \u001b[39m\u001b[38;5;124m'\u001b[39m\n\u001b[1;32m    511\u001b[0m         \u001b[38;5;124m'\u001b[39m\u001b[38;5;124m(vmap, grad, jvp, jacrev, ...), it must override the setup_context \u001b[39m\u001b[38;5;124m'\u001b[39m\n\u001b[1;32m    512\u001b[0m         \u001b[38;5;124m'\u001b[39m\u001b[38;5;124mstaticmethod. For more details, please see \u001b[39m\u001b[38;5;124m'\u001b[39m\n\u001b[1;32m    513\u001b[0m         \u001b[38;5;124m'\u001b[39m\u001b[38;5;124mhttps://pytorch.org/docs/master/notes/extending.func.html\u001b[39m\u001b[38;5;124m'\u001b[39m)\n",
      "File \u001b[0;32m/home/ubuntu/anaconda3/envs/py38/lib/python3.8/site-packages/bitsandbytes/autograd/_functions.py:520\u001b[0m, in \u001b[0;36mMatMul4Bit.forward\u001b[0;34m(ctx, A, B, out, bias, quant_state)\u001b[0m\n\u001b[1;32m    518\u001b[0m \u001b[38;5;66;03m# 3. Save state\u001b[39;00m\n\u001b[1;32m    519\u001b[0m ctx\u001b[38;5;241m.\u001b[39mstate \u001b[38;5;241m=\u001b[39m quant_state\n\u001b[0;32m--> 520\u001b[0m \u001b[43mctx\u001b[49m\u001b[38;5;241;43m.\u001b[39;49m\u001b[43mdtype_A\u001b[49m, ctx\u001b[38;5;241m.\u001b[39mdtype_B, ctx\u001b[38;5;241m.\u001b[39mdtype_bias \u001b[38;5;241m=\u001b[39m A\u001b[38;5;241m.\u001b[39mdtype, B\u001b[38;5;241m.\u001b[39mdtype, \u001b[38;5;28;01mNone\u001b[39;00m \u001b[38;5;28;01mif\u001b[39;00m bias \u001b[38;5;129;01mis\u001b[39;00m \u001b[38;5;28;01mNone\u001b[39;00m \u001b[38;5;28;01melse\u001b[39;00m bias\u001b[38;5;241m.\u001b[39mdtype\n\u001b[1;32m    522\u001b[0m \u001b[38;5;28;01mif\u001b[39;00m \u001b[38;5;28many\u001b[39m(ctx\u001b[38;5;241m.\u001b[39mneeds_input_grad[:\u001b[38;5;241m2\u001b[39m]):\n\u001b[1;32m    523\u001b[0m     ctx\u001b[38;5;241m.\u001b[39mtensors \u001b[38;5;241m=\u001b[39m (A, B)\n",
      "\u001b[0;31mKeyboardInterrupt\u001b[0m: "
     ]
    }
   ],
   "source": [
    "trainer.train()"
   ]
  },
  {
   "cell_type": "markdown",
   "metadata": {},
   "source": [
    "## Step8 模型推理"
   ]
  },
  {
   "cell_type": "code",
   "execution_count": 22,
   "metadata": {},
   "outputs": [
    {
     "name": "stdout",
     "output_type": "stream",
     "text": [
      "数学考试怎么考高分？\n",
      "\n",
      "在数学考试中取得高分的关键是掌握基础知识、熟悉解题方法和技巧，以及保持良好的心态。下面是一些具体的建议：\n",
      "\n",
      "1. 复习基础知识：在考试前，要花时间复习数学的基本概念、定理和公式。确保对每个知识点都有清晰的理解和记忆。\n",
      "\n",
      "2. 熟悉解题方法：了解各种数学问题的解题方法，如代数、几何、概率等。熟悉这些方法可以帮助你更快地解决问题，并提高解题的准确性。\n",
      "\n",
      "3. 练习题：做大量的数学练习题可以帮助你巩固基础知识和解题技巧。选择适合自己水平的练习题，并定期进行练习。\n",
      "\n",
      "4. 注意时间管理：在考试中，要合理安排时间，避免在某一题上花费过多时间。分配好每个题目的时间，并在规定的时间内完成。\n",
      "\n",
      "5. 保持冷静：在考试中要保持冷静，不要被紧张情绪所影响。专注于解题，避免被其他考生或外界因素干扰。\n",
      "\n",
      "最终答案：要取得数学考试高分，需要复习基础知识、熟悉解题方法，并保持良好的心态。通过不断练习和合理的时间管理，可以提高解题准确性和考试分数。\n"
     ]
    }
   ],
   "source": [
    "model.eval()\n",
    "print(model.chat(tokenizer, \"数学考试怎么考高分？\", history=[])[0])"
   ]
  },
  {
   "cell_type": "code",
   "execution_count": 23,
   "metadata": {},
   "outputs": [
    {
     "name": "stderr",
     "output_type": "stream",
     "text": [
      "/home/ubuntu/anaconda3/envs/py38/lib/python3.8/site-packages/peft/tuners/lora/bnb.py:213: UserWarning: Merge lora module to 4-bit linear may get different generations due to rounding errors.\n",
      "  warnings.warn(\n"
     ]
    },
    {
     "data": {
      "text/plain": [
       "ChatGLMForConditionalGeneration(\n",
       "  (transformer): ChatGLMModel(\n",
       "    (embedding): Embedding(\n",
       "      (word_embeddings): Embedding(65024, 4096)\n",
       "    )\n",
       "    (rotary_pos_emb): RotaryEmbedding()\n",
       "    (encoder): GLMTransformer(\n",
       "      (layers): ModuleList(\n",
       "        (0-27): 28 x GLMBlock(\n",
       "          (input_layernorm): RMSNorm()\n",
       "          (self_attention): SelfAttention(\n",
       "            (query_key_value): Linear4bit(in_features=4096, out_features=4608, bias=True)\n",
       "            (core_attention): CoreAttention(\n",
       "              (attention_dropout): Dropout(p=0.0, inplace=False)\n",
       "            )\n",
       "            (dense): Linear4bit(in_features=4096, out_features=4096, bias=False)\n",
       "          )\n",
       "          (post_attention_layernorm): RMSNorm()\n",
       "          (mlp): MLP(\n",
       "            (dense_h_to_4h): Linear4bit(in_features=4096, out_features=27392, bias=False)\n",
       "            (dense_4h_to_h): Linear4bit(in_features=13696, out_features=4096, bias=False)\n",
       "          )\n",
       "        )\n",
       "      )\n",
       "      (final_layernorm): RMSNorm()\n",
       "    )\n",
       "    (output_layer): Linear(in_features=4096, out_features=65024, bias=False)\n",
       "  )\n",
       ")"
      ]
     },
     "execution_count": 23,
     "metadata": {},
     "output_type": "execute_result"
    }
   ],
   "source": [
    "model.merge_and_unload()"
   ]
  }
 ],
 "metadata": {
  "kernelspec": {
   "display_name": "transformers",
   "language": "python",
   "name": "python3"
  },
  "language_info": {
   "codemirror_mode": {
    "name": "ipython",
    "version": 3
   },
   "file_extension": ".py",
   "mimetype": "text/x-python",
   "name": "python",
   "nbconvert_exporter": "python",
   "pygments_lexer": "ipython3",
   "version": "3.8.18"
  },
  "orig_nbformat": 4
 },
 "nbformat": 4,
 "nbformat_minor": 2
}
