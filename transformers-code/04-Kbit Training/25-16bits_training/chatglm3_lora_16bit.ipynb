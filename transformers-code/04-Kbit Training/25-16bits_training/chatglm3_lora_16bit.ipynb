{
 "cells": [
  {
   "cell_type": "markdown",
   "metadata": {},
   "source": [
    "# ChatGLM3 Lora 实战"
   ]
  },
  {
   "cell_type": "code",
   "execution_count": 1,
   "metadata": {},
   "outputs": [],
   "source": [
    "import os\n",
    "os.environ['CUDA_VISIBLE_DEVICES'] = \"7\""
   ]
  },
  {
   "cell_type": "markdown",
   "metadata": {},
   "source": [
    "## Step1 导入相关包"
   ]
  },
  {
   "cell_type": "code",
   "execution_count": 2,
   "metadata": {},
   "outputs": [
    {
     "name": "stderr",
     "output_type": "stream",
     "text": [
      "/home/ubuntu/anaconda3/envs/py38/lib/python3.8/site-packages/tqdm/auto.py:21: TqdmWarning: IProgress not found. Please update jupyter and ipywidgets. See https://ipywidgets.readthedocs.io/en/stable/user_install.html\n",
      "  from .autonotebook import tqdm as notebook_tqdm\n"
     ]
    }
   ],
   "source": [
    "from datasets import Dataset\n",
    "from transformers import AutoModelForCausalLM # chatglm3就是自回归模型，用因果语言模型加载也不奇怪\n",
    "from transformers import AutoTokenizer, DataCollatorForSeq2Seq, TrainingArguments, Trainer"
   ]
  },
  {
   "cell_type": "markdown",
   "metadata": {},
   "source": [
    "## Step2 加载数据集"
   ]
  },
  {
   "cell_type": "code",
   "execution_count": 3,
   "metadata": {},
   "outputs": [
    {
     "data": {
      "text/plain": [
       "Dataset({\n",
       "    features: ['output', 'input', 'instruction'],\n",
       "    num_rows: 26858\n",
       "})"
      ]
     },
     "execution_count": 3,
     "metadata": {},
     "output_type": "execute_result"
    }
   ],
   "source": [
    "ds = Dataset.load_from_disk(\"../data/alpaca_data_zh/\")\n",
    "ds"
   ]
  },
  {
   "cell_type": "code",
   "execution_count": 4,
   "metadata": {},
   "outputs": [
    {
     "data": {
      "text/plain": [
       "{'output': ['以下是保持健康的三个提示：\\n\\n1. 保持身体活动。每天做适当的身体运动，如散步、跑步或游泳，能促进心血管健康，增强肌肉力量，并有助于减少体重。\\n\\n2. 均衡饮食。每天食用新鲜的蔬菜、水果、全谷物和脂肪含量低的蛋白质食物，避免高糖、高脂肪和加工食品，以保持健康的饮食习惯。\\n\\n3. 睡眠充足。睡眠对人体健康至关重要，成年人每天应保证 7-8 小时的睡眠。良好的睡眠有助于减轻压力，促进身体恢复，并提高注意力和记忆力。',\n",
       "  '4/16等于1/4是因为我们可以约分分子分母都除以他们的最大公约数4，得到（4÷4）/ (16÷4）=1/4。分数的约分是用分子和分母除以相同的非零整数，来表示分数的一个相同的值，这因为分数实际上表示了分子除以分母，所以即使两个数同时除以同一个非零整数，分数的值也不会改变。所以4/16 和1/4是两种不同的书写形式，但它们的值相等。',\n",
       "  '朱利叶斯·凯撒，又称尤利乌斯·恺撒（Julius Caesar）是古罗马的政治家、军事家和作家。他于公元前44年3月15日被刺杀。 \\n\\n根据历史记载，当时罗马元老院里一些参议员联合起来策划了对恺撒的刺杀行动，因为他们担心恺撒的统治将给罗马共和制带来威胁。在公元前44年3月15日（又称“3月的艾达之日”），恺撒去参加元老院会议时，被一群参议员包围并被攻击致死。据记载，他身中23刀，其中一刀最终致命。'],\n",
       " 'input': ['', '输入：4/16', ''],\n",
       " 'instruction': ['保持健康的三个提示。', '解释为什么以下分数等同于1/4', '朱利叶斯·凯撒是如何死亡的？']}"
      ]
     },
     "execution_count": 4,
     "metadata": {},
     "output_type": "execute_result"
    }
   ],
   "source": [
    "ds[:3]"
   ]
  },
  {
   "cell_type": "markdown",
   "metadata": {},
   "source": [
    "## Step3 数据集预处理"
   ]
  },
  {
   "cell_type": "code",
   "execution_count": 5,
   "metadata": {},
   "outputs": [
    {
     "data": {
      "text/plain": [
       "ChatGLMTokenizer(name_or_path='/data/PLM/chatglm3-6b-base/', vocab_size=64798, model_max_length=1000000000000000019884624838656, is_fast=False, padding_side='left', truncation_side='right', special_tokens={'eos_token': '</s>', 'unk_token': '<unk>', 'pad_token': '<unk>'}, clean_up_tokenization_spaces=False),  added_tokens_decoder={\n",
       "\t\n",
       "}"
      ]
     },
     "execution_count": 5,
     "metadata": {},
     "output_type": "execute_result"
    }
   ],
   "source": [
    "tokenizer = AutoTokenizer.from_pretrained(\"/data/PLM/chatglm3-6b-base/\", trust_remote_code=True)\n",
    "tokenizer"
   ]
  },
  {
   "cell_type": "code",
   "execution_count": 6,
   "metadata": {},
   "outputs": [
    {
     "name": "stdout",
     "output_type": "stream",
     "text": [
      "{'input_ids': [64790, 64792, 2893, 30917, 30994], 'attention_mask': [1, 1, 1, 1, 1], 'position_ids': [0, 1, 2, 3, 4]}\n",
      "2\n"
     ]
    }
   ],
   "source": [
    "# 老样子，直接对eos_token进行tokenize会把它再次分词，而且会加上[gMASK]sop的前缀\n",
    "print(tokenizer(tokenizer.eos_token))\n",
    "print(tokenizer.eos_token_id)"
   ]
  },
  {
   "cell_type": "code",
   "execution_count": 7,
   "metadata": {},
   "outputs": [],
   "source": [
    "def process_func(example):\n",
    "    MAX_LENGTH = 256\n",
    "    input_ids, attention_mask, labels = [], [], []\n",
    "    instruction = \"\\n\".join([example[\"instruction\"], example[\"input\"]]).strip()     # query\n",
    "    # tokenizer.build_chat_input()自带[gMASK]sop的前缀，decode时也会显示出来\n",
    "    instruction = tokenizer.build_chat_input(instruction, history=[], role=\"user\")  # [gMASK]sop<|user|> \\n query<|assistant|>\n",
    "    # [EOS]在chatglm分词器中也不会自带，即使add_special_tokens=True，必须手动添加，且decode时不会显示出来，即使skip_special_tokens=False\n",
    "    response = tokenizer(\"\\n\" + example[\"output\"], add_special_tokens=False)        # \\n response, 缺少eos token。这里必须把add_special_tokens设置成False，不然会把[gMASK]sop等前缀也加进来！\n",
    "    # 注意tokenizer.build_chat_input()返回的是tensor而非list，所以需要转换成list再相加！\n",
    "    input_ids = instruction[\"input_ids\"][0].numpy().tolist() + response[\"input_ids\"] + [tokenizer.eos_token_id]\n",
    "    attention_mask = instruction[\"attention_mask\"][0].numpy().tolist() + response[\"attention_mask\"] + [1]\n",
    "    labels = [-100] * len(instruction[\"input_ids\"][0].numpy().tolist()) + response[\"input_ids\"] + [tokenizer.eos_token_id]\n",
    "    if len(input_ids) > MAX_LENGTH:\n",
    "        input_ids = input_ids[:MAX_LENGTH]\n",
    "        attention_mask = attention_mask[:MAX_LENGTH]\n",
    "        labels = labels[:MAX_LENGTH]\n",
    "    return {\n",
    "        \"input_ids\": input_ids,\n",
    "        \"attention_mask\": attention_mask,\n",
    "        \"labels\": labels\n",
    "    }"
   ]
  },
  {
   "cell_type": "code",
   "execution_count": 8,
   "metadata": {},
   "outputs": [
    {
     "data": {
      "text/plain": [
       "Dataset({\n",
       "    features: ['input_ids', 'attention_mask', 'labels'],\n",
       "    num_rows: 26858\n",
       "})"
      ]
     },
     "execution_count": 8,
     "metadata": {},
     "output_type": "execute_result"
    }
   ],
   "source": [
    "tokenized_ds = ds.map(process_func, remove_columns=ds.column_names)\n",
    "tokenized_ds"
   ]
  },
  {
   "cell_type": "code",
   "execution_count": 9,
   "metadata": {},
   "outputs": [
    {
     "data": {
      "text/plain": [
       "'[gMASK]sop<|user|> \\n 解释为什么以下分数等同于1/4\\n输入：4/16<|assistant|> \\n4/16等于1/4是因为我们可以约分分子分母都除以他们的最大公约数4，得到（4÷4）/ (16÷4）=1/4。分数的约分是用分子和分母除以相同的非零整数，来表示分数的一个相同的值，这因为分数实际上表示了分子除以分母，所以即使两个数同时除以同一个非零整数，分数的值也不会改变。所以4/16 和1/4是两种不同的书写形式，但它们的值相等。'"
      ]
     },
     "execution_count": 9,
     "metadata": {},
     "output_type": "execute_result"
    }
   ],
   "source": [
    "tokenizer.decode(tokenized_ds[1][\"input_ids\"])"
   ]
  },
  {
   "cell_type": "code",
   "execution_count": 10,
   "metadata": {},
   "outputs": [
    {
     "data": {
      "text/plain": [
       "'\\n4/16等于1/4是因为我们可以约分分子分母都除以他们的最大公约数4，得到（4÷4）/ (16÷4）=1/4。分数的约分是用分子和分母除以相同的非零整数，来表示分数的一个相同的值，这因为分数实际上表示了分子除以分母，所以即使两个数同时除以同一个非零整数，分数的值也不会改变。所以4/16 和1/4是两种不同的书写形式，但它们的值相等。'"
      ]
     },
     "execution_count": 10,
     "metadata": {},
     "output_type": "execute_result"
    }
   ],
   "source": [
    "tokenizer.decode(list(filter(lambda x: x != -100, tokenized_ds[1][\"labels\"])))"
   ]
  },
  {
   "cell_type": "markdown",
   "metadata": {},
   "source": [
    "## Step4 创建模型"
   ]
  },
  {
   "cell_type": "code",
   "execution_count": 11,
   "metadata": {},
   "outputs": [
    {
     "name": "stderr",
     "output_type": "stream",
     "text": [
      "Loading checkpoint shards: 100%|██████████| 7/7 [00:14<00:00,  2.11s/it]\n"
     ]
    }
   ],
   "source": [
    "import torch\n",
    "# 仅使用torch_dtype=torch.half并不经过量化和反量化过程！只是改变了权重的范围！\n",
    "model = AutoModelForCausalLM.from_pretrained(\"/data/PLM/chatglm3-6b-base/\", trust_remote_code=True, low_cpu_mem_usage=True, torch_dtype=torch.half, device_map=\"auto\")"
   ]
  },
  {
   "cell_type": "code",
   "execution_count": 12,
   "metadata": {},
   "outputs": [
    {
     "name": "stdout",
     "output_type": "stream",
     "text": [
      "transformer.embedding.word_embeddings.weight\n",
      "transformer.encoder.layers.0.input_layernorm.weight\n",
      "transformer.encoder.layers.0.self_attention.query_key_value.weight\n",
      "transformer.encoder.layers.0.self_attention.query_key_value.bias\n",
      "transformer.encoder.layers.0.self_attention.dense.weight\n",
      "transformer.encoder.layers.0.post_attention_layernorm.weight\n",
      "transformer.encoder.layers.0.mlp.dense_h_to_4h.weight\n",
      "transformer.encoder.layers.0.mlp.dense_4h_to_h.weight\n",
      "transformer.encoder.layers.1.input_layernorm.weight\n",
      "transformer.encoder.layers.1.self_attention.query_key_value.weight\n",
      "transformer.encoder.layers.1.self_attention.query_key_value.bias\n",
      "transformer.encoder.layers.1.self_attention.dense.weight\n",
      "transformer.encoder.layers.1.post_attention_layernorm.weight\n",
      "transformer.encoder.layers.1.mlp.dense_h_to_4h.weight\n",
      "transformer.encoder.layers.1.mlp.dense_4h_to_h.weight\n",
      "transformer.encoder.layers.2.input_layernorm.weight\n",
      "transformer.encoder.layers.2.self_attention.query_key_value.weight\n",
      "transformer.encoder.layers.2.self_attention.query_key_value.bias\n",
      "transformer.encoder.layers.2.self_attention.dense.weight\n",
      "transformer.encoder.layers.2.post_attention_layernorm.weight\n",
      "transformer.encoder.layers.2.mlp.dense_h_to_4h.weight\n",
      "transformer.encoder.layers.2.mlp.dense_4h_to_h.weight\n",
      "transformer.encoder.layers.3.input_layernorm.weight\n",
      "transformer.encoder.layers.3.self_attention.query_key_value.weight\n",
      "transformer.encoder.layers.3.self_attention.query_key_value.bias\n",
      "transformer.encoder.layers.3.self_attention.dense.weight\n",
      "transformer.encoder.layers.3.post_attention_layernorm.weight\n",
      "transformer.encoder.layers.3.mlp.dense_h_to_4h.weight\n",
      "transformer.encoder.layers.3.mlp.dense_4h_to_h.weight\n",
      "transformer.encoder.layers.4.input_layernorm.weight\n",
      "transformer.encoder.layers.4.self_attention.query_key_value.weight\n",
      "transformer.encoder.layers.4.self_attention.query_key_value.bias\n",
      "transformer.encoder.layers.4.self_attention.dense.weight\n",
      "transformer.encoder.layers.4.post_attention_layernorm.weight\n",
      "transformer.encoder.layers.4.mlp.dense_h_to_4h.weight\n",
      "transformer.encoder.layers.4.mlp.dense_4h_to_h.weight\n",
      "transformer.encoder.layers.5.input_layernorm.weight\n",
      "transformer.encoder.layers.5.self_attention.query_key_value.weight\n",
      "transformer.encoder.layers.5.self_attention.query_key_value.bias\n",
      "transformer.encoder.layers.5.self_attention.dense.weight\n",
      "transformer.encoder.layers.5.post_attention_layernorm.weight\n",
      "transformer.encoder.layers.5.mlp.dense_h_to_4h.weight\n",
      "transformer.encoder.layers.5.mlp.dense_4h_to_h.weight\n",
      "transformer.encoder.layers.6.input_layernorm.weight\n",
      "transformer.encoder.layers.6.self_attention.query_key_value.weight\n",
      "transformer.encoder.layers.6.self_attention.query_key_value.bias\n",
      "transformer.encoder.layers.6.self_attention.dense.weight\n",
      "transformer.encoder.layers.6.post_attention_layernorm.weight\n",
      "transformer.encoder.layers.6.mlp.dense_h_to_4h.weight\n",
      "transformer.encoder.layers.6.mlp.dense_4h_to_h.weight\n",
      "transformer.encoder.layers.7.input_layernorm.weight\n",
      "transformer.encoder.layers.7.self_attention.query_key_value.weight\n",
      "transformer.encoder.layers.7.self_attention.query_key_value.bias\n",
      "transformer.encoder.layers.7.self_attention.dense.weight\n",
      "transformer.encoder.layers.7.post_attention_layernorm.weight\n",
      "transformer.encoder.layers.7.mlp.dense_h_to_4h.weight\n",
      "transformer.encoder.layers.7.mlp.dense_4h_to_h.weight\n",
      "transformer.encoder.layers.8.input_layernorm.weight\n",
      "transformer.encoder.layers.8.self_attention.query_key_value.weight\n",
      "transformer.encoder.layers.8.self_attention.query_key_value.bias\n",
      "transformer.encoder.layers.8.self_attention.dense.weight\n",
      "transformer.encoder.layers.8.post_attention_layernorm.weight\n",
      "transformer.encoder.layers.8.mlp.dense_h_to_4h.weight\n",
      "transformer.encoder.layers.8.mlp.dense_4h_to_h.weight\n",
      "transformer.encoder.layers.9.input_layernorm.weight\n",
      "transformer.encoder.layers.9.self_attention.query_key_value.weight\n",
      "transformer.encoder.layers.9.self_attention.query_key_value.bias\n",
      "transformer.encoder.layers.9.self_attention.dense.weight\n",
      "transformer.encoder.layers.9.post_attention_layernorm.weight\n",
      "transformer.encoder.layers.9.mlp.dense_h_to_4h.weight\n",
      "transformer.encoder.layers.9.mlp.dense_4h_to_h.weight\n",
      "transformer.encoder.layers.10.input_layernorm.weight\n",
      "transformer.encoder.layers.10.self_attention.query_key_value.weight\n",
      "transformer.encoder.layers.10.self_attention.query_key_value.bias\n",
      "transformer.encoder.layers.10.self_attention.dense.weight\n",
      "transformer.encoder.layers.10.post_attention_layernorm.weight\n",
      "transformer.encoder.layers.10.mlp.dense_h_to_4h.weight\n",
      "transformer.encoder.layers.10.mlp.dense_4h_to_h.weight\n",
      "transformer.encoder.layers.11.input_layernorm.weight\n",
      "transformer.encoder.layers.11.self_attention.query_key_value.weight\n",
      "transformer.encoder.layers.11.self_attention.query_key_value.bias\n",
      "transformer.encoder.layers.11.self_attention.dense.weight\n",
      "transformer.encoder.layers.11.post_attention_layernorm.weight\n",
      "transformer.encoder.layers.11.mlp.dense_h_to_4h.weight\n",
      "transformer.encoder.layers.11.mlp.dense_4h_to_h.weight\n",
      "transformer.encoder.layers.12.input_layernorm.weight\n",
      "transformer.encoder.layers.12.self_attention.query_key_value.weight\n",
      "transformer.encoder.layers.12.self_attention.query_key_value.bias\n",
      "transformer.encoder.layers.12.self_attention.dense.weight\n",
      "transformer.encoder.layers.12.post_attention_layernorm.weight\n",
      "transformer.encoder.layers.12.mlp.dense_h_to_4h.weight\n",
      "transformer.encoder.layers.12.mlp.dense_4h_to_h.weight\n",
      "transformer.encoder.layers.13.input_layernorm.weight\n",
      "transformer.encoder.layers.13.self_attention.query_key_value.weight\n",
      "transformer.encoder.layers.13.self_attention.query_key_value.bias\n",
      "transformer.encoder.layers.13.self_attention.dense.weight\n",
      "transformer.encoder.layers.13.post_attention_layernorm.weight\n",
      "transformer.encoder.layers.13.mlp.dense_h_to_4h.weight\n",
      "transformer.encoder.layers.13.mlp.dense_4h_to_h.weight\n",
      "transformer.encoder.layers.14.input_layernorm.weight\n",
      "transformer.encoder.layers.14.self_attention.query_key_value.weight\n",
      "transformer.encoder.layers.14.self_attention.query_key_value.bias\n",
      "transformer.encoder.layers.14.self_attention.dense.weight\n",
      "transformer.encoder.layers.14.post_attention_layernorm.weight\n",
      "transformer.encoder.layers.14.mlp.dense_h_to_4h.weight\n",
      "transformer.encoder.layers.14.mlp.dense_4h_to_h.weight\n",
      "transformer.encoder.layers.15.input_layernorm.weight\n",
      "transformer.encoder.layers.15.self_attention.query_key_value.weight\n",
      "transformer.encoder.layers.15.self_attention.query_key_value.bias\n",
      "transformer.encoder.layers.15.self_attention.dense.weight\n",
      "transformer.encoder.layers.15.post_attention_layernorm.weight\n",
      "transformer.encoder.layers.15.mlp.dense_h_to_4h.weight\n",
      "transformer.encoder.layers.15.mlp.dense_4h_to_h.weight\n",
      "transformer.encoder.layers.16.input_layernorm.weight\n",
      "transformer.encoder.layers.16.self_attention.query_key_value.weight\n",
      "transformer.encoder.layers.16.self_attention.query_key_value.bias\n",
      "transformer.encoder.layers.16.self_attention.dense.weight\n",
      "transformer.encoder.layers.16.post_attention_layernorm.weight\n",
      "transformer.encoder.layers.16.mlp.dense_h_to_4h.weight\n",
      "transformer.encoder.layers.16.mlp.dense_4h_to_h.weight\n",
      "transformer.encoder.layers.17.input_layernorm.weight\n",
      "transformer.encoder.layers.17.self_attention.query_key_value.weight\n",
      "transformer.encoder.layers.17.self_attention.query_key_value.bias\n",
      "transformer.encoder.layers.17.self_attention.dense.weight\n",
      "transformer.encoder.layers.17.post_attention_layernorm.weight\n",
      "transformer.encoder.layers.17.mlp.dense_h_to_4h.weight\n",
      "transformer.encoder.layers.17.mlp.dense_4h_to_h.weight\n",
      "transformer.encoder.layers.18.input_layernorm.weight\n",
      "transformer.encoder.layers.18.self_attention.query_key_value.weight\n",
      "transformer.encoder.layers.18.self_attention.query_key_value.bias\n",
      "transformer.encoder.layers.18.self_attention.dense.weight\n",
      "transformer.encoder.layers.18.post_attention_layernorm.weight\n",
      "transformer.encoder.layers.18.mlp.dense_h_to_4h.weight\n",
      "transformer.encoder.layers.18.mlp.dense_4h_to_h.weight\n",
      "transformer.encoder.layers.19.input_layernorm.weight\n",
      "transformer.encoder.layers.19.self_attention.query_key_value.weight\n",
      "transformer.encoder.layers.19.self_attention.query_key_value.bias\n",
      "transformer.encoder.layers.19.self_attention.dense.weight\n",
      "transformer.encoder.layers.19.post_attention_layernorm.weight\n",
      "transformer.encoder.layers.19.mlp.dense_h_to_4h.weight\n",
      "transformer.encoder.layers.19.mlp.dense_4h_to_h.weight\n",
      "transformer.encoder.layers.20.input_layernorm.weight\n",
      "transformer.encoder.layers.20.self_attention.query_key_value.weight\n",
      "transformer.encoder.layers.20.self_attention.query_key_value.bias\n",
      "transformer.encoder.layers.20.self_attention.dense.weight\n",
      "transformer.encoder.layers.20.post_attention_layernorm.weight\n",
      "transformer.encoder.layers.20.mlp.dense_h_to_4h.weight\n",
      "transformer.encoder.layers.20.mlp.dense_4h_to_h.weight\n",
      "transformer.encoder.layers.21.input_layernorm.weight\n",
      "transformer.encoder.layers.21.self_attention.query_key_value.weight\n",
      "transformer.encoder.layers.21.self_attention.query_key_value.bias\n",
      "transformer.encoder.layers.21.self_attention.dense.weight\n",
      "transformer.encoder.layers.21.post_attention_layernorm.weight\n",
      "transformer.encoder.layers.21.mlp.dense_h_to_4h.weight\n",
      "transformer.encoder.layers.21.mlp.dense_4h_to_h.weight\n",
      "transformer.encoder.layers.22.input_layernorm.weight\n",
      "transformer.encoder.layers.22.self_attention.query_key_value.weight\n",
      "transformer.encoder.layers.22.self_attention.query_key_value.bias\n",
      "transformer.encoder.layers.22.self_attention.dense.weight\n",
      "transformer.encoder.layers.22.post_attention_layernorm.weight\n",
      "transformer.encoder.layers.22.mlp.dense_h_to_4h.weight\n",
      "transformer.encoder.layers.22.mlp.dense_4h_to_h.weight\n",
      "transformer.encoder.layers.23.input_layernorm.weight\n",
      "transformer.encoder.layers.23.self_attention.query_key_value.weight\n",
      "transformer.encoder.layers.23.self_attention.query_key_value.bias\n",
      "transformer.encoder.layers.23.self_attention.dense.weight\n",
      "transformer.encoder.layers.23.post_attention_layernorm.weight\n",
      "transformer.encoder.layers.23.mlp.dense_h_to_4h.weight\n",
      "transformer.encoder.layers.23.mlp.dense_4h_to_h.weight\n",
      "transformer.encoder.layers.24.input_layernorm.weight\n",
      "transformer.encoder.layers.24.self_attention.query_key_value.weight\n",
      "transformer.encoder.layers.24.self_attention.query_key_value.bias\n",
      "transformer.encoder.layers.24.self_attention.dense.weight\n",
      "transformer.encoder.layers.24.post_attention_layernorm.weight\n",
      "transformer.encoder.layers.24.mlp.dense_h_to_4h.weight\n",
      "transformer.encoder.layers.24.mlp.dense_4h_to_h.weight\n",
      "transformer.encoder.layers.25.input_layernorm.weight\n",
      "transformer.encoder.layers.25.self_attention.query_key_value.weight\n",
      "transformer.encoder.layers.25.self_attention.query_key_value.bias\n",
      "transformer.encoder.layers.25.self_attention.dense.weight\n",
      "transformer.encoder.layers.25.post_attention_layernorm.weight\n",
      "transformer.encoder.layers.25.mlp.dense_h_to_4h.weight\n",
      "transformer.encoder.layers.25.mlp.dense_4h_to_h.weight\n",
      "transformer.encoder.layers.26.input_layernorm.weight\n",
      "transformer.encoder.layers.26.self_attention.query_key_value.weight\n",
      "transformer.encoder.layers.26.self_attention.query_key_value.bias\n",
      "transformer.encoder.layers.26.self_attention.dense.weight\n",
      "transformer.encoder.layers.26.post_attention_layernorm.weight\n",
      "transformer.encoder.layers.26.mlp.dense_h_to_4h.weight\n",
      "transformer.encoder.layers.26.mlp.dense_4h_to_h.weight\n",
      "transformer.encoder.layers.27.input_layernorm.weight\n",
      "transformer.encoder.layers.27.self_attention.query_key_value.weight\n",
      "transformer.encoder.layers.27.self_attention.query_key_value.bias\n",
      "transformer.encoder.layers.27.self_attention.dense.weight\n",
      "transformer.encoder.layers.27.post_attention_layernorm.weight\n",
      "transformer.encoder.layers.27.mlp.dense_h_to_4h.weight\n",
      "transformer.encoder.layers.27.mlp.dense_4h_to_h.weight\n",
      "transformer.encoder.final_layernorm.weight\n",
      "transformer.output_layer.weight\n"
     ]
    }
   ],
   "source": [
    "for name, param in model.named_parameters():\n",
    "    print(name)"
   ]
  },
  {
   "cell_type": "markdown",
   "metadata": {},
   "source": [
    "## Lora"
   ]
  },
  {
   "cell_type": "markdown",
   "metadata": {},
   "source": [
    "### PEFT Step1 配置文件"
   ]
  },
  {
   "cell_type": "code",
   "execution_count": 13,
   "metadata": {},
   "outputs": [
    {
     "data": {
      "text/plain": [
       "LoraConfig(peft_type=<PeftType.LORA: 'LORA'>, auto_mapping=None, base_model_name_or_path=None, revision=None, task_type=<TaskType.CAUSAL_LM: 'CAUSAL_LM'>, inference_mode=False, r=8, target_modules={'query_key_value'}, lora_alpha=8, lora_dropout=0.0, fan_in_fan_out=False, bias='none', modules_to_save=None, init_lora_weights=True, layers_to_transform=None, layers_pattern=None, rank_pattern={}, alpha_pattern={})"
      ]
     },
     "execution_count": 13,
     "metadata": {},
     "output_type": "execute_result"
    }
   ],
   "source": [
    "from peft import LoraConfig, TaskType, get_peft_model, PeftModel, PeftModelForCausalLM\n",
    "\n",
    "config = LoraConfig(task_type=TaskType.CAUSAL_LM, target_modules=[\"query_key_value\"]) # chatglm不是peft中预置的模型，所以需要指定target_modules，即在哪些权重上加Lora\n",
    "config # task_type必须指定，不然模型训练会报错，其原因在于指定之后模型类型就会从PeftModel转化为PeftModelForCausalLM，将forward的参数显式地指定出来，不然TrainingArguments中的remove_unused_columns只会把它们全部清除导致Invalid key: 5122 is out of bounds for size 0这种鬼错误"
   ]
  },
  {
   "cell_type": "markdown",
   "metadata": {},
   "source": [
    "### PEFT Step2 创建模型"
   ]
  },
  {
   "cell_type": "code",
   "execution_count": 14,
   "metadata": {},
   "outputs": [],
   "source": [
    "model = get_peft_model(model, config)"
   ]
  },
  {
   "cell_type": "code",
   "execution_count": 15,
   "metadata": {},
   "outputs": [
    {
     "data": {
      "text/plain": [
       "LoraConfig(peft_type=<PeftType.LORA: 'LORA'>, auto_mapping=None, base_model_name_or_path='/data/PLM/chatglm3-6b-base/', revision=None, task_type=<TaskType.CAUSAL_LM: 'CAUSAL_LM'>, inference_mode=False, r=8, target_modules={'query_key_value'}, lora_alpha=8, lora_dropout=0.0, fan_in_fan_out=False, bias='none', modules_to_save=None, init_lora_weights=True, layers_to_transform=None, layers_pattern=None, rank_pattern={}, alpha_pattern={})"
      ]
     },
     "execution_count": 15,
     "metadata": {},
     "output_type": "execute_result"
    }
   ],
   "source": [
    "config"
   ]
  },
  {
   "cell_type": "code",
   "execution_count": 16,
   "metadata": {},
   "outputs": [
    {
     "name": "stdout",
     "output_type": "stream",
     "text": [
      "base_model.model.transformer.embedding.word_embeddings.weight\n",
      "base_model.model.transformer.encoder.layers.0.input_layernorm.weight\n",
      "base_model.model.transformer.encoder.layers.0.self_attention.query_key_value.weight\n",
      "base_model.model.transformer.encoder.layers.0.self_attention.query_key_value.bias\n",
      "base_model.model.transformer.encoder.layers.0.self_attention.query_key_value.lora_A.default.weight\n",
      "base_model.model.transformer.encoder.layers.0.self_attention.query_key_value.lora_B.default.weight\n",
      "base_model.model.transformer.encoder.layers.0.self_attention.dense.weight\n",
      "base_model.model.transformer.encoder.layers.0.post_attention_layernorm.weight\n",
      "base_model.model.transformer.encoder.layers.0.mlp.dense_h_to_4h.weight\n",
      "base_model.model.transformer.encoder.layers.0.mlp.dense_4h_to_h.weight\n",
      "base_model.model.transformer.encoder.layers.1.input_layernorm.weight\n",
      "base_model.model.transformer.encoder.layers.1.self_attention.query_key_value.weight\n",
      "base_model.model.transformer.encoder.layers.1.self_attention.query_key_value.bias\n",
      "base_model.model.transformer.encoder.layers.1.self_attention.query_key_value.lora_A.default.weight\n",
      "base_model.model.transformer.encoder.layers.1.self_attention.query_key_value.lora_B.default.weight\n",
      "base_model.model.transformer.encoder.layers.1.self_attention.dense.weight\n",
      "base_model.model.transformer.encoder.layers.1.post_attention_layernorm.weight\n",
      "base_model.model.transformer.encoder.layers.1.mlp.dense_h_to_4h.weight\n",
      "base_model.model.transformer.encoder.layers.1.mlp.dense_4h_to_h.weight\n",
      "base_model.model.transformer.encoder.layers.2.input_layernorm.weight\n",
      "base_model.model.transformer.encoder.layers.2.self_attention.query_key_value.weight\n",
      "base_model.model.transformer.encoder.layers.2.self_attention.query_key_value.bias\n",
      "base_model.model.transformer.encoder.layers.2.self_attention.query_key_value.lora_A.default.weight\n",
      "base_model.model.transformer.encoder.layers.2.self_attention.query_key_value.lora_B.default.weight\n",
      "base_model.model.transformer.encoder.layers.2.self_attention.dense.weight\n",
      "base_model.model.transformer.encoder.layers.2.post_attention_layernorm.weight\n",
      "base_model.model.transformer.encoder.layers.2.mlp.dense_h_to_4h.weight\n",
      "base_model.model.transformer.encoder.layers.2.mlp.dense_4h_to_h.weight\n",
      "base_model.model.transformer.encoder.layers.3.input_layernorm.weight\n",
      "base_model.model.transformer.encoder.layers.3.self_attention.query_key_value.weight\n",
      "base_model.model.transformer.encoder.layers.3.self_attention.query_key_value.bias\n",
      "base_model.model.transformer.encoder.layers.3.self_attention.query_key_value.lora_A.default.weight\n",
      "base_model.model.transformer.encoder.layers.3.self_attention.query_key_value.lora_B.default.weight\n",
      "base_model.model.transformer.encoder.layers.3.self_attention.dense.weight\n",
      "base_model.model.transformer.encoder.layers.3.post_attention_layernorm.weight\n",
      "base_model.model.transformer.encoder.layers.3.mlp.dense_h_to_4h.weight\n",
      "base_model.model.transformer.encoder.layers.3.mlp.dense_4h_to_h.weight\n",
      "base_model.model.transformer.encoder.layers.4.input_layernorm.weight\n",
      "base_model.model.transformer.encoder.layers.4.self_attention.query_key_value.weight\n",
      "base_model.model.transformer.encoder.layers.4.self_attention.query_key_value.bias\n",
      "base_model.model.transformer.encoder.layers.4.self_attention.query_key_value.lora_A.default.weight\n",
      "base_model.model.transformer.encoder.layers.4.self_attention.query_key_value.lora_B.default.weight\n",
      "base_model.model.transformer.encoder.layers.4.self_attention.dense.weight\n",
      "base_model.model.transformer.encoder.layers.4.post_attention_layernorm.weight\n",
      "base_model.model.transformer.encoder.layers.4.mlp.dense_h_to_4h.weight\n",
      "base_model.model.transformer.encoder.layers.4.mlp.dense_4h_to_h.weight\n",
      "base_model.model.transformer.encoder.layers.5.input_layernorm.weight\n",
      "base_model.model.transformer.encoder.layers.5.self_attention.query_key_value.weight\n",
      "base_model.model.transformer.encoder.layers.5.self_attention.query_key_value.bias\n",
      "base_model.model.transformer.encoder.layers.5.self_attention.query_key_value.lora_A.default.weight\n",
      "base_model.model.transformer.encoder.layers.5.self_attention.query_key_value.lora_B.default.weight\n",
      "base_model.model.transformer.encoder.layers.5.self_attention.dense.weight\n",
      "base_model.model.transformer.encoder.layers.5.post_attention_layernorm.weight\n",
      "base_model.model.transformer.encoder.layers.5.mlp.dense_h_to_4h.weight\n",
      "base_model.model.transformer.encoder.layers.5.mlp.dense_4h_to_h.weight\n",
      "base_model.model.transformer.encoder.layers.6.input_layernorm.weight\n",
      "base_model.model.transformer.encoder.layers.6.self_attention.query_key_value.weight\n",
      "base_model.model.transformer.encoder.layers.6.self_attention.query_key_value.bias\n",
      "base_model.model.transformer.encoder.layers.6.self_attention.query_key_value.lora_A.default.weight\n",
      "base_model.model.transformer.encoder.layers.6.self_attention.query_key_value.lora_B.default.weight\n",
      "base_model.model.transformer.encoder.layers.6.self_attention.dense.weight\n",
      "base_model.model.transformer.encoder.layers.6.post_attention_layernorm.weight\n",
      "base_model.model.transformer.encoder.layers.6.mlp.dense_h_to_4h.weight\n",
      "base_model.model.transformer.encoder.layers.6.mlp.dense_4h_to_h.weight\n",
      "base_model.model.transformer.encoder.layers.7.input_layernorm.weight\n",
      "base_model.model.transformer.encoder.layers.7.self_attention.query_key_value.weight\n",
      "base_model.model.transformer.encoder.layers.7.self_attention.query_key_value.bias\n",
      "base_model.model.transformer.encoder.layers.7.self_attention.query_key_value.lora_A.default.weight\n",
      "base_model.model.transformer.encoder.layers.7.self_attention.query_key_value.lora_B.default.weight\n",
      "base_model.model.transformer.encoder.layers.7.self_attention.dense.weight\n",
      "base_model.model.transformer.encoder.layers.7.post_attention_layernorm.weight\n",
      "base_model.model.transformer.encoder.layers.7.mlp.dense_h_to_4h.weight\n",
      "base_model.model.transformer.encoder.layers.7.mlp.dense_4h_to_h.weight\n",
      "base_model.model.transformer.encoder.layers.8.input_layernorm.weight\n",
      "base_model.model.transformer.encoder.layers.8.self_attention.query_key_value.weight\n",
      "base_model.model.transformer.encoder.layers.8.self_attention.query_key_value.bias\n",
      "base_model.model.transformer.encoder.layers.8.self_attention.query_key_value.lora_A.default.weight\n",
      "base_model.model.transformer.encoder.layers.8.self_attention.query_key_value.lora_B.default.weight\n",
      "base_model.model.transformer.encoder.layers.8.self_attention.dense.weight\n",
      "base_model.model.transformer.encoder.layers.8.post_attention_layernorm.weight\n",
      "base_model.model.transformer.encoder.layers.8.mlp.dense_h_to_4h.weight\n",
      "base_model.model.transformer.encoder.layers.8.mlp.dense_4h_to_h.weight\n",
      "base_model.model.transformer.encoder.layers.9.input_layernorm.weight\n",
      "base_model.model.transformer.encoder.layers.9.self_attention.query_key_value.weight\n",
      "base_model.model.transformer.encoder.layers.9.self_attention.query_key_value.bias\n",
      "base_model.model.transformer.encoder.layers.9.self_attention.query_key_value.lora_A.default.weight\n",
      "base_model.model.transformer.encoder.layers.9.self_attention.query_key_value.lora_B.default.weight\n",
      "base_model.model.transformer.encoder.layers.9.self_attention.dense.weight\n",
      "base_model.model.transformer.encoder.layers.9.post_attention_layernorm.weight\n",
      "base_model.model.transformer.encoder.layers.9.mlp.dense_h_to_4h.weight\n",
      "base_model.model.transformer.encoder.layers.9.mlp.dense_4h_to_h.weight\n",
      "base_model.model.transformer.encoder.layers.10.input_layernorm.weight\n",
      "base_model.model.transformer.encoder.layers.10.self_attention.query_key_value.weight\n",
      "base_model.model.transformer.encoder.layers.10.self_attention.query_key_value.bias\n",
      "base_model.model.transformer.encoder.layers.10.self_attention.query_key_value.lora_A.default.weight\n",
      "base_model.model.transformer.encoder.layers.10.self_attention.query_key_value.lora_B.default.weight\n",
      "base_model.model.transformer.encoder.layers.10.self_attention.dense.weight\n",
      "base_model.model.transformer.encoder.layers.10.post_attention_layernorm.weight\n",
      "base_model.model.transformer.encoder.layers.10.mlp.dense_h_to_4h.weight\n",
      "base_model.model.transformer.encoder.layers.10.mlp.dense_4h_to_h.weight\n",
      "base_model.model.transformer.encoder.layers.11.input_layernorm.weight\n",
      "base_model.model.transformer.encoder.layers.11.self_attention.query_key_value.weight\n",
      "base_model.model.transformer.encoder.layers.11.self_attention.query_key_value.bias\n",
      "base_model.model.transformer.encoder.layers.11.self_attention.query_key_value.lora_A.default.weight\n",
      "base_model.model.transformer.encoder.layers.11.self_attention.query_key_value.lora_B.default.weight\n",
      "base_model.model.transformer.encoder.layers.11.self_attention.dense.weight\n",
      "base_model.model.transformer.encoder.layers.11.post_attention_layernorm.weight\n",
      "base_model.model.transformer.encoder.layers.11.mlp.dense_h_to_4h.weight\n",
      "base_model.model.transformer.encoder.layers.11.mlp.dense_4h_to_h.weight\n",
      "base_model.model.transformer.encoder.layers.12.input_layernorm.weight\n",
      "base_model.model.transformer.encoder.layers.12.self_attention.query_key_value.weight\n",
      "base_model.model.transformer.encoder.layers.12.self_attention.query_key_value.bias\n",
      "base_model.model.transformer.encoder.layers.12.self_attention.query_key_value.lora_A.default.weight\n",
      "base_model.model.transformer.encoder.layers.12.self_attention.query_key_value.lora_B.default.weight\n",
      "base_model.model.transformer.encoder.layers.12.self_attention.dense.weight\n",
      "base_model.model.transformer.encoder.layers.12.post_attention_layernorm.weight\n",
      "base_model.model.transformer.encoder.layers.12.mlp.dense_h_to_4h.weight\n",
      "base_model.model.transformer.encoder.layers.12.mlp.dense_4h_to_h.weight\n",
      "base_model.model.transformer.encoder.layers.13.input_layernorm.weight\n",
      "base_model.model.transformer.encoder.layers.13.self_attention.query_key_value.weight\n",
      "base_model.model.transformer.encoder.layers.13.self_attention.query_key_value.bias\n",
      "base_model.model.transformer.encoder.layers.13.self_attention.query_key_value.lora_A.default.weight\n",
      "base_model.model.transformer.encoder.layers.13.self_attention.query_key_value.lora_B.default.weight\n",
      "base_model.model.transformer.encoder.layers.13.self_attention.dense.weight\n",
      "base_model.model.transformer.encoder.layers.13.post_attention_layernorm.weight\n",
      "base_model.model.transformer.encoder.layers.13.mlp.dense_h_to_4h.weight\n",
      "base_model.model.transformer.encoder.layers.13.mlp.dense_4h_to_h.weight\n",
      "base_model.model.transformer.encoder.layers.14.input_layernorm.weight\n",
      "base_model.model.transformer.encoder.layers.14.self_attention.query_key_value.weight\n",
      "base_model.model.transformer.encoder.layers.14.self_attention.query_key_value.bias\n",
      "base_model.model.transformer.encoder.layers.14.self_attention.query_key_value.lora_A.default.weight\n",
      "base_model.model.transformer.encoder.layers.14.self_attention.query_key_value.lora_B.default.weight\n",
      "base_model.model.transformer.encoder.layers.14.self_attention.dense.weight\n",
      "base_model.model.transformer.encoder.layers.14.post_attention_layernorm.weight\n",
      "base_model.model.transformer.encoder.layers.14.mlp.dense_h_to_4h.weight\n",
      "base_model.model.transformer.encoder.layers.14.mlp.dense_4h_to_h.weight\n",
      "base_model.model.transformer.encoder.layers.15.input_layernorm.weight\n",
      "base_model.model.transformer.encoder.layers.15.self_attention.query_key_value.weight\n",
      "base_model.model.transformer.encoder.layers.15.self_attention.query_key_value.bias\n",
      "base_model.model.transformer.encoder.layers.15.self_attention.query_key_value.lora_A.default.weight\n",
      "base_model.model.transformer.encoder.layers.15.self_attention.query_key_value.lora_B.default.weight\n",
      "base_model.model.transformer.encoder.layers.15.self_attention.dense.weight\n",
      "base_model.model.transformer.encoder.layers.15.post_attention_layernorm.weight\n",
      "base_model.model.transformer.encoder.layers.15.mlp.dense_h_to_4h.weight\n",
      "base_model.model.transformer.encoder.layers.15.mlp.dense_4h_to_h.weight\n",
      "base_model.model.transformer.encoder.layers.16.input_layernorm.weight\n",
      "base_model.model.transformer.encoder.layers.16.self_attention.query_key_value.weight\n",
      "base_model.model.transformer.encoder.layers.16.self_attention.query_key_value.bias\n",
      "base_model.model.transformer.encoder.layers.16.self_attention.query_key_value.lora_A.default.weight\n",
      "base_model.model.transformer.encoder.layers.16.self_attention.query_key_value.lora_B.default.weight\n",
      "base_model.model.transformer.encoder.layers.16.self_attention.dense.weight\n",
      "base_model.model.transformer.encoder.layers.16.post_attention_layernorm.weight\n",
      "base_model.model.transformer.encoder.layers.16.mlp.dense_h_to_4h.weight\n",
      "base_model.model.transformer.encoder.layers.16.mlp.dense_4h_to_h.weight\n",
      "base_model.model.transformer.encoder.layers.17.input_layernorm.weight\n",
      "base_model.model.transformer.encoder.layers.17.self_attention.query_key_value.weight\n",
      "base_model.model.transformer.encoder.layers.17.self_attention.query_key_value.bias\n",
      "base_model.model.transformer.encoder.layers.17.self_attention.query_key_value.lora_A.default.weight\n",
      "base_model.model.transformer.encoder.layers.17.self_attention.query_key_value.lora_B.default.weight\n",
      "base_model.model.transformer.encoder.layers.17.self_attention.dense.weight\n",
      "base_model.model.transformer.encoder.layers.17.post_attention_layernorm.weight\n",
      "base_model.model.transformer.encoder.layers.17.mlp.dense_h_to_4h.weight\n",
      "base_model.model.transformer.encoder.layers.17.mlp.dense_4h_to_h.weight\n",
      "base_model.model.transformer.encoder.layers.18.input_layernorm.weight\n",
      "base_model.model.transformer.encoder.layers.18.self_attention.query_key_value.weight\n",
      "base_model.model.transformer.encoder.layers.18.self_attention.query_key_value.bias\n",
      "base_model.model.transformer.encoder.layers.18.self_attention.query_key_value.lora_A.default.weight\n",
      "base_model.model.transformer.encoder.layers.18.self_attention.query_key_value.lora_B.default.weight\n",
      "base_model.model.transformer.encoder.layers.18.self_attention.dense.weight\n",
      "base_model.model.transformer.encoder.layers.18.post_attention_layernorm.weight\n",
      "base_model.model.transformer.encoder.layers.18.mlp.dense_h_to_4h.weight\n",
      "base_model.model.transformer.encoder.layers.18.mlp.dense_4h_to_h.weight\n",
      "base_model.model.transformer.encoder.layers.19.input_layernorm.weight\n",
      "base_model.model.transformer.encoder.layers.19.self_attention.query_key_value.weight\n",
      "base_model.model.transformer.encoder.layers.19.self_attention.query_key_value.bias\n",
      "base_model.model.transformer.encoder.layers.19.self_attention.query_key_value.lora_A.default.weight\n",
      "base_model.model.transformer.encoder.layers.19.self_attention.query_key_value.lora_B.default.weight\n",
      "base_model.model.transformer.encoder.layers.19.self_attention.dense.weight\n",
      "base_model.model.transformer.encoder.layers.19.post_attention_layernorm.weight\n",
      "base_model.model.transformer.encoder.layers.19.mlp.dense_h_to_4h.weight\n",
      "base_model.model.transformer.encoder.layers.19.mlp.dense_4h_to_h.weight\n",
      "base_model.model.transformer.encoder.layers.20.input_layernorm.weight\n",
      "base_model.model.transformer.encoder.layers.20.self_attention.query_key_value.weight\n",
      "base_model.model.transformer.encoder.layers.20.self_attention.query_key_value.bias\n",
      "base_model.model.transformer.encoder.layers.20.self_attention.query_key_value.lora_A.default.weight\n",
      "base_model.model.transformer.encoder.layers.20.self_attention.query_key_value.lora_B.default.weight\n",
      "base_model.model.transformer.encoder.layers.20.self_attention.dense.weight\n",
      "base_model.model.transformer.encoder.layers.20.post_attention_layernorm.weight\n",
      "base_model.model.transformer.encoder.layers.20.mlp.dense_h_to_4h.weight\n",
      "base_model.model.transformer.encoder.layers.20.mlp.dense_4h_to_h.weight\n",
      "base_model.model.transformer.encoder.layers.21.input_layernorm.weight\n",
      "base_model.model.transformer.encoder.layers.21.self_attention.query_key_value.weight\n",
      "base_model.model.transformer.encoder.layers.21.self_attention.query_key_value.bias\n",
      "base_model.model.transformer.encoder.layers.21.self_attention.query_key_value.lora_A.default.weight\n",
      "base_model.model.transformer.encoder.layers.21.self_attention.query_key_value.lora_B.default.weight\n",
      "base_model.model.transformer.encoder.layers.21.self_attention.dense.weight\n",
      "base_model.model.transformer.encoder.layers.21.post_attention_layernorm.weight\n",
      "base_model.model.transformer.encoder.layers.21.mlp.dense_h_to_4h.weight\n",
      "base_model.model.transformer.encoder.layers.21.mlp.dense_4h_to_h.weight\n",
      "base_model.model.transformer.encoder.layers.22.input_layernorm.weight\n",
      "base_model.model.transformer.encoder.layers.22.self_attention.query_key_value.weight\n",
      "base_model.model.transformer.encoder.layers.22.self_attention.query_key_value.bias\n",
      "base_model.model.transformer.encoder.layers.22.self_attention.query_key_value.lora_A.default.weight\n",
      "base_model.model.transformer.encoder.layers.22.self_attention.query_key_value.lora_B.default.weight\n",
      "base_model.model.transformer.encoder.layers.22.self_attention.dense.weight\n",
      "base_model.model.transformer.encoder.layers.22.post_attention_layernorm.weight\n",
      "base_model.model.transformer.encoder.layers.22.mlp.dense_h_to_4h.weight\n",
      "base_model.model.transformer.encoder.layers.22.mlp.dense_4h_to_h.weight\n",
      "base_model.model.transformer.encoder.layers.23.input_layernorm.weight\n",
      "base_model.model.transformer.encoder.layers.23.self_attention.query_key_value.weight\n",
      "base_model.model.transformer.encoder.layers.23.self_attention.query_key_value.bias\n",
      "base_model.model.transformer.encoder.layers.23.self_attention.query_key_value.lora_A.default.weight\n",
      "base_model.model.transformer.encoder.layers.23.self_attention.query_key_value.lora_B.default.weight\n",
      "base_model.model.transformer.encoder.layers.23.self_attention.dense.weight\n",
      "base_model.model.transformer.encoder.layers.23.post_attention_layernorm.weight\n",
      "base_model.model.transformer.encoder.layers.23.mlp.dense_h_to_4h.weight\n",
      "base_model.model.transformer.encoder.layers.23.mlp.dense_4h_to_h.weight\n",
      "base_model.model.transformer.encoder.layers.24.input_layernorm.weight\n",
      "base_model.model.transformer.encoder.layers.24.self_attention.query_key_value.weight\n",
      "base_model.model.transformer.encoder.layers.24.self_attention.query_key_value.bias\n",
      "base_model.model.transformer.encoder.layers.24.self_attention.query_key_value.lora_A.default.weight\n",
      "base_model.model.transformer.encoder.layers.24.self_attention.query_key_value.lora_B.default.weight\n",
      "base_model.model.transformer.encoder.layers.24.self_attention.dense.weight\n",
      "base_model.model.transformer.encoder.layers.24.post_attention_layernorm.weight\n",
      "base_model.model.transformer.encoder.layers.24.mlp.dense_h_to_4h.weight\n",
      "base_model.model.transformer.encoder.layers.24.mlp.dense_4h_to_h.weight\n",
      "base_model.model.transformer.encoder.layers.25.input_layernorm.weight\n",
      "base_model.model.transformer.encoder.layers.25.self_attention.query_key_value.weight\n",
      "base_model.model.transformer.encoder.layers.25.self_attention.query_key_value.bias\n",
      "base_model.model.transformer.encoder.layers.25.self_attention.query_key_value.lora_A.default.weight\n",
      "base_model.model.transformer.encoder.layers.25.self_attention.query_key_value.lora_B.default.weight\n",
      "base_model.model.transformer.encoder.layers.25.self_attention.dense.weight\n",
      "base_model.model.transformer.encoder.layers.25.post_attention_layernorm.weight\n",
      "base_model.model.transformer.encoder.layers.25.mlp.dense_h_to_4h.weight\n",
      "base_model.model.transformer.encoder.layers.25.mlp.dense_4h_to_h.weight\n",
      "base_model.model.transformer.encoder.layers.26.input_layernorm.weight\n",
      "base_model.model.transformer.encoder.layers.26.self_attention.query_key_value.weight\n",
      "base_model.model.transformer.encoder.layers.26.self_attention.query_key_value.bias\n",
      "base_model.model.transformer.encoder.layers.26.self_attention.query_key_value.lora_A.default.weight\n",
      "base_model.model.transformer.encoder.layers.26.self_attention.query_key_value.lora_B.default.weight\n",
      "base_model.model.transformer.encoder.layers.26.self_attention.dense.weight\n",
      "base_model.model.transformer.encoder.layers.26.post_attention_layernorm.weight\n",
      "base_model.model.transformer.encoder.layers.26.mlp.dense_h_to_4h.weight\n",
      "base_model.model.transformer.encoder.layers.26.mlp.dense_4h_to_h.weight\n",
      "base_model.model.transformer.encoder.layers.27.input_layernorm.weight\n",
      "base_model.model.transformer.encoder.layers.27.self_attention.query_key_value.weight\n",
      "base_model.model.transformer.encoder.layers.27.self_attention.query_key_value.bias\n",
      "base_model.model.transformer.encoder.layers.27.self_attention.query_key_value.lora_A.default.weight\n",
      "base_model.model.transformer.encoder.layers.27.self_attention.query_key_value.lora_B.default.weight\n",
      "base_model.model.transformer.encoder.layers.27.self_attention.dense.weight\n",
      "base_model.model.transformer.encoder.layers.27.post_attention_layernorm.weight\n",
      "base_model.model.transformer.encoder.layers.27.mlp.dense_h_to_4h.weight\n",
      "base_model.model.transformer.encoder.layers.27.mlp.dense_4h_to_h.weight\n",
      "base_model.model.transformer.encoder.final_layernorm.weight\n",
      "base_model.model.transformer.output_layer.weight\n"
     ]
    }
   ],
   "source": [
    "for name, parameter in model.named_parameters():\n",
    "    print(name) # 注意这里没有q, k, v之分，只有query_key_value，所以只能仅对它用Lora。同时这里是有weight和bias之分的"
   ]
  },
  {
   "cell_type": "code",
   "execution_count": 17,
   "metadata": {},
   "outputs": [
    {
     "name": "stdout",
     "output_type": "stream",
     "text": [
      "trainable params: 1,949,696 || all params: 6,245,533,696 || trainable%: 0.031217444255383614\n"
     ]
    }
   ],
   "source": [
    "model.print_trainable_parameters()"
   ]
  },
  {
   "cell_type": "code",
   "execution_count": 18,
   "metadata": {},
   "outputs": [
    {
     "data": {
      "text/plain": [
       "PeftModelForCausalLM(\n",
       "  (base_model): LoraModel(\n",
       "    (model): ChatGLMForConditionalGeneration(\n",
       "      (transformer): ChatGLMModel(\n",
       "        (embedding): Embedding(\n",
       "          (word_embeddings): Embedding(65024, 4096)\n",
       "        )\n",
       "        (rotary_pos_emb): RotaryEmbedding()\n",
       "        (encoder): GLMTransformer(\n",
       "          (layers): ModuleList(\n",
       "            (0-27): 28 x GLMBlock(\n",
       "              (input_layernorm): RMSNorm()\n",
       "              (self_attention): SelfAttention(\n",
       "                (query_key_value): Linear(\n",
       "                  in_features=4096, out_features=4608, bias=True\n",
       "                  (lora_dropout): ModuleDict(\n",
       "                    (default): Identity()\n",
       "                  )\n",
       "                  (lora_A): ModuleDict(\n",
       "                    (default): Linear(in_features=4096, out_features=8, bias=False)\n",
       "                  )\n",
       "                  (lora_B): ModuleDict(\n",
       "                    (default): Linear(in_features=8, out_features=4608, bias=False)\n",
       "                  )\n",
       "                  (lora_embedding_A): ParameterDict()\n",
       "                  (lora_embedding_B): ParameterDict()\n",
       "                )\n",
       "                (core_attention): CoreAttention(\n",
       "                  (attention_dropout): Dropout(p=0.0, inplace=False)\n",
       "                )\n",
       "                (dense): Linear(in_features=4096, out_features=4096, bias=False)\n",
       "              )\n",
       "              (post_attention_layernorm): RMSNorm()\n",
       "              (mlp): MLP(\n",
       "                (dense_h_to_4h): Linear(in_features=4096, out_features=27392, bias=False)\n",
       "                (dense_4h_to_h): Linear(in_features=13696, out_features=4096, bias=False)\n",
       "              )\n",
       "            )\n",
       "          )\n",
       "          (final_layernorm): RMSNorm()\n",
       "        )\n",
       "        (output_layer): Linear(in_features=4096, out_features=65024, bias=False)\n",
       "      )\n",
       "    )\n",
       "  )\n",
       ")"
      ]
     },
     "execution_count": 18,
     "metadata": {},
     "output_type": "execute_result"
    }
   ],
   "source": [
    "model"
   ]
  },
  {
   "cell_type": "markdown",
   "metadata": {},
   "source": [
    "## Step5 配置训练参数"
   ]
  },
  {
   "cell_type": "code",
   "execution_count": 19,
   "metadata": {},
   "outputs": [],
   "source": [
    "args = TrainingArguments(\n",
    "    output_dir=\"./chatbot\",\n",
    "    per_device_train_batch_size=2,\n",
    "    gradient_accumulation_steps=16,\n",
    "    logging_steps=10,\n",
    "    num_train_epochs=1,\n",
    "    learning_rate=1e-4,\n",
    "    remove_unused_columns=False # 默认为True，设置为False后config = LoraConfig()就可以不设task_type参数了\n",
    ")"
   ]
  },
  {
   "cell_type": "markdown",
   "metadata": {},
   "source": [
    "## Step6 创建训练器"
   ]
  },
  {
   "cell_type": "code",
   "execution_count": 20,
   "metadata": {},
   "outputs": [
    {
     "name": "stderr",
     "output_type": "stream",
     "text": [
      "Detected kernel version 4.15.0, which is below the recommended minimum of 5.5.0; this can cause the process to hang. It is recommended to upgrade the kernel to the minimum version or higher.\n"
     ]
    }
   ],
   "source": [
    "trainer = Trainer(\n",
    "    model=model,\n",
    "    args=args,\n",
    "    train_dataset=tokenized_ds.select(range(6000)),\n",
    "    data_collator=DataCollatorForSeq2Seq(tokenizer=tokenizer, padding=True),\n",
    ")"
   ]
  },
  {
   "cell_type": "markdown",
   "metadata": {},
   "source": [
    "## Step7 模型训练"
   ]
  },
  {
   "cell_type": "code",
   "execution_count": 21,
   "metadata": {},
   "outputs": [
    {
     "data": {
      "text/html": [
       "\n",
       "    <div>\n",
       "      \n",
       "      <progress value='187' max='187' style='width:300px; height:20px; vertical-align: middle;'></progress>\n",
       "      [187/187 07:00, Epoch 0/1]\n",
       "    </div>\n",
       "    <table border=\"1\" class=\"dataframe\">\n",
       "  <thead>\n",
       " <tr style=\"text-align: left;\">\n",
       "      <th>Step</th>\n",
       "      <th>Training Loss</th>\n",
       "    </tr>\n",
       "  </thead>\n",
       "  <tbody>\n",
       "    <tr>\n",
       "      <td>10</td>\n",
       "      <td>1.925400</td>\n",
       "    </tr>\n",
       "    <tr>\n",
       "      <td>20</td>\n",
       "      <td>1.847500</td>\n",
       "    </tr>\n",
       "    <tr>\n",
       "      <td>30</td>\n",
       "      <td>1.856600</td>\n",
       "    </tr>\n",
       "    <tr>\n",
       "      <td>40</td>\n",
       "      <td>1.735500</td>\n",
       "    </tr>\n",
       "    <tr>\n",
       "      <td>50</td>\n",
       "      <td>1.641300</td>\n",
       "    </tr>\n",
       "    <tr>\n",
       "      <td>60</td>\n",
       "      <td>1.586800</td>\n",
       "    </tr>\n",
       "    <tr>\n",
       "      <td>70</td>\n",
       "      <td>1.590700</td>\n",
       "    </tr>\n",
       "    <tr>\n",
       "      <td>80</td>\n",
       "      <td>1.587800</td>\n",
       "    </tr>\n",
       "    <tr>\n",
       "      <td>90</td>\n",
       "      <td>1.604600</td>\n",
       "    </tr>\n",
       "    <tr>\n",
       "      <td>100</td>\n",
       "      <td>1.608800</td>\n",
       "    </tr>\n",
       "    <tr>\n",
       "      <td>110</td>\n",
       "      <td>1.548200</td>\n",
       "    </tr>\n",
       "    <tr>\n",
       "      <td>120</td>\n",
       "      <td>1.577600</td>\n",
       "    </tr>\n",
       "    <tr>\n",
       "      <td>130</td>\n",
       "      <td>1.578400</td>\n",
       "    </tr>\n",
       "    <tr>\n",
       "      <td>140</td>\n",
       "      <td>1.613200</td>\n",
       "    </tr>\n",
       "    <tr>\n",
       "      <td>150</td>\n",
       "      <td>1.633000</td>\n",
       "    </tr>\n",
       "    <tr>\n",
       "      <td>160</td>\n",
       "      <td>1.534900</td>\n",
       "    </tr>\n",
       "    <tr>\n",
       "      <td>170</td>\n",
       "      <td>1.560000</td>\n",
       "    </tr>\n",
       "    <tr>\n",
       "      <td>180</td>\n",
       "      <td>1.560400</td>\n",
       "    </tr>\n",
       "  </tbody>\n",
       "</table><p>"
      ],
      "text/plain": [
       "<IPython.core.display.HTML object>"
      ]
     },
     "metadata": {},
     "output_type": "display_data"
    },
    {
     "data": {
      "text/plain": [
       "TrainOutput(global_step=187, training_loss=1.6415953814664626, metrics={'train_runtime': 424.1871, 'train_samples_per_second': 14.145, 'train_steps_per_second': 0.441, 'total_flos': 2.1587884962816e+16, 'train_loss': 1.6415953814664626, 'epoch': 1.0})"
      ]
     },
     "execution_count": 21,
     "metadata": {},
     "output_type": "execute_result"
    }
   ],
   "source": [
    "trainer.train()"
   ]
  },
  {
   "cell_type": "markdown",
   "metadata": {},
   "source": [
    "## Step8 模型推理"
   ]
  },
  {
   "cell_type": "code",
   "execution_count": 22,
   "metadata": {},
   "outputs": [
    {
     "name": "stdout",
     "output_type": "stream",
     "text": [
      "数学考试要取得高分，需要以下几个步骤：\n",
      "1. 认真复习：首先，要仔细复习数学课程，了解所有概念和公式，确保理解透彻。\n",
      "2. 练习：做大量的练习题，包括课本习题、模拟试题和历年真题，提高自己的解题能力。\n",
      "3. 注意细节：在考试中，注意细节，仔细审题，避免粗心大意，减少失分机会。\n",
      "4. 掌握解题技巧：学习一些解题技巧，如代入法、图像法、排除法等，可以提高解题效率。\n",
      "5. 考前放松：考试前适当放松，保持良好的心态，减少紧张情绪，有助于提高发挥水平。\n",
      "\n",
      "希望以上建议能对您有所帮助，祝您在数学考试中取得好成绩！\n"
     ]
    }
   ],
   "source": [
    "model.eval()\n",
    "print(model.chat(tokenizer, \"数学考试怎么考高分？\", history=[])[0])"
   ]
  }
 ],
 "metadata": {
  "kernelspec": {
   "display_name": "transformers",
   "language": "python",
   "name": "python3"
  },
  "language_info": {
   "codemirror_mode": {
    "name": "ipython",
    "version": 3
   },
   "file_extension": ".py",
   "mimetype": "text/x-python",
   "name": "python",
   "nbconvert_exporter": "python",
   "pygments_lexer": "ipython3",
   "version": "3.8.18"
  },
  "orig_nbformat": 4
 },
 "nbformat": 4,
 "nbformat_minor": 2
}
