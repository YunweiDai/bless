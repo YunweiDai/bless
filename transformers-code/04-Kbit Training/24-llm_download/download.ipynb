{
 "cells": [
  {
   "cell_type": "code",
   "execution_count": 1,
   "metadata": {},
   "outputs": [
    {
     "name": "stderr",
     "output_type": "stream",
     "text": [
      "2024-01-16 22:02:32,533 - modelscope - INFO - PyTorch version 2.0.1 Found.\n",
      "2024-01-16 22:02:32,535 - modelscope - INFO - Loading ast index from /home/daiyw/.cache/modelscope/ast_indexer\n",
      "2024-01-16 22:02:32,668 - modelscope - INFO - Loading done! Current index file version is 1.10.0, with md5 b796b9c39cc146b966fb1248e66d3e6f and a total number of 946 components indexed\n",
      "/home/ubuntu/anaconda3/envs/py38/lib/python3.8/site-packages/tqdm/auto.py:21: TqdmWarning: IProgress not found. Please update jupyter and ipywidgets. See https://ipywidgets.readthedocs.io/en/stable/user_install.html\n",
      "  from .autonotebook import tqdm as notebook_tqdm\n"
     ]
    }
   ],
   "source": [
    "from modelscope.hub.snapshot_download import snapshot_download"
   ]
  },
  {
   "cell_type": "code",
   "execution_count": 2,
   "metadata": {},
   "outputs": [
    {
     "name": "stderr",
     "output_type": "stream",
     "text": [
      "2023-12-11 12:00:42,423 - modelscope - WARNING - Model revision not specified, use revision: v1.0.2\n",
      "Downloading: 100%|██████████| 21.0/21.0 [00:00<00:00, 1.41kB/s]\n",
      "Downloading: 100%|██████████| 583/583 [00:00<00:00, 37.9kB/s]\n",
      "Downloading: 100%|██████████| 183/183 [00:00<00:00, 32.9kB/s]\n",
      "Downloading: 100%|██████████| 179/179 [00:00<00:00, 31.9kB/s]\n",
      "Downloading: 100%|██████████| 6.86k/6.86k [00:00<00:00, 495kB/s]\n",
      "Downloading: 100%|█████████▉| 9.29G/9.29G [03:10<00:00, 52.3MB/s]\n",
      "Downloading: 100%|█████████▉| 3.26G/3.26G [01:06<00:00, 52.5MB/s]\n",
      "Downloading: 100%|██████████| 26.2k/26.2k [00:00<00:00, 587kB/s]\n",
      "Downloading: 100%|██████████| 1.67k/1.67k [00:00<00:00, 377kB/s]\n",
      "Downloading: 100%|██████████| 12.8k/12.8k [00:00<00:00, 275kB/s]\n",
      "Downloading: 100%|██████████| 1.20M/1.20M [00:00<00:00, 3.67MB/s]\n",
      "Downloading: 100%|██████████| 435/435 [00:00<00:00, 68.7kB/s]\n",
      "Downloading: 100%|██████████| 1.76M/1.76M [00:00<00:00, 5.28MB/s]\n",
      "Downloading: 100%|██████████| 488k/488k [00:00<00:00, 2.42MB/s]\n",
      "Downloading: 100%|██████████| 746/746 [00:00<00:00, 80.8kB/s]\n",
      "Downloading: 100%|██████████| 4.65k/4.65k [00:00<00:00, 306kB/s]\n"
     ]
    },
    {
     "data": {
      "text/plain": [
       "'data/PLM/Llama-2-7b-ms/modelscope/Llama-2-7b-ms'"
      ]
     },
     "execution_count": 2,
     "metadata": {},
     "output_type": "execute_result"
    }
   ],
   "source": [
    "# model_id 模型id\n",
    "# cache_dir 本地缓存目录\n",
    "# ignore_file_pattern 无需下载的文件\n",
    "snapshot_download(model_id=\"modelscope/Llama-2-7b-ms\", cache_dir=\"/data/PLM/Llama-2-7b-ms\", ignore_file_pattern=\".bin\")"
   ]
  },
  {
   "cell_type": "code",
   "execution_count": 2,
   "metadata": {},
   "outputs": [
    {
     "name": "stderr",
     "output_type": "stream",
     "text": [
      "2023-12-11 18:27:56,550 - modelscope - WARNING - Model revision not specified, use revision: v1.0.1\n",
      "Downloading: 100%|██████████| 1.29k/1.29k [00:00<00:00, 80.6kB/s]\n",
      "Downloading: 100%|██████████| 48.0/48.0 [00:00<00:00, 7.61kB/s]\n",
      "Downloading: 100%|██████████| 2.28k/2.28k [00:00<00:00, 717kB/s]\n",
      "Downloading: 100%|██████████| 4.04k/4.04k [00:00<00:00, 332kB/s]\n",
      "Downloading: 100%|██████████| 54.3k/54.3k [00:00<00:00, 682kB/s]\n",
      "Downloading: 100%|█████████▉| 1.70G/1.70G [00:38<00:00, 46.9MB/s]\n",
      "Downloading: 100%|█████████▉| 1.83G/1.83G [00:40<00:00, 48.8MB/s]\n",
      "Downloading: 100%|█████████▉| 1.80G/1.80G [00:46<00:00, 41.0MB/s]\n",
      "Downloading: 100%|█████████▉| 1.69G/1.69G [00:36<00:00, 49.2MB/s]\n",
      "Downloading: 100%|█████████▉| 1.83G/1.83G [00:45<00:00, 43.7MB/s]\n",
      "Downloading: 100%|█████████▉| 1.80G/1.80G [00:41<00:00, 46.7MB/s]\n",
      "Downloading: 100%|█████████▉| 0.98G/0.98G [00:25<00:00, 41.2MB/s]\n",
      "Downloading: 100%|██████████| 20.0k/20.0k [00:00<00:00, 493kB/s]\n",
      "Downloading: 100%|██████████| 14.3k/14.3k [00:00<00:00, 334kB/s]\n",
      "Downloading: 100%|██████████| 4.46k/4.46k [00:00<00:00, 282kB/s]\n",
      "Downloading: 100%|██████████| 11.0k/11.0k [00:00<00:00, 2.80MB/s]\n",
      "Downloading: 100%|██████████| 995k/995k [00:00<00:00, 3.39MB/s]\n",
      "Downloading: 100%|██████████| 249/249 [00:00<00:00, 74.0kB/s]\n"
     ]
    },
    {
     "data": {
      "text/plain": [
       "'/data/PLM/chatglm3-6b-base/ZhipuAI/chatglm3-6b-base'"
      ]
     },
     "execution_count": 2,
     "metadata": {},
     "output_type": "execute_result"
    }
   ],
   "source": [
    "snapshot_download(model_id=\"ZhipuAI/chatglm3-6b-base\",  cache_dir=\"/data/PLM/chatglm3-6b-base\")"
   ]
  },
  {
   "cell_type": "code",
   "execution_count": 2,
   "metadata": {},
   "outputs": [
    {
     "name": "stderr",
     "output_type": "stream",
     "text": [
      "2023-12-13 09:50:55,437 - modelscope - WARNING - Model revision not specified, use revision: v1.1.0\n",
      "Downloading: 100%|██████████| 3.58k/3.58k [00:00<00:00, 274kB/s]\n",
      "Downloading: 100%|█████████▉| 5.21G/5.21G [02:06<00:00, 44.1MB/s]\n",
      "Downloading: 100%|██████████| 1.08k/1.08k [00:00<00:00, 171kB/s]\n",
      "Downloading: 100%|██████████| 96.0/96.0 [00:00<00:00, 16.6kB/s]\n",
      "Downloading: 100%|██████████| 2.54M/2.54M [00:00<00:00, 5.92MB/s]\n",
      "Downloading: 100%|██████████| 288/288 [00:00<00:00, 50.5kB/s]\n"
     ]
    },
    {
     "data": {
      "text/plain": [
       "'/data/PLM/langboat/bloom-1b4-zh'"
      ]
     },
     "execution_count": 2,
     "metadata": {},
     "output_type": "execute_result"
    }
   ],
   "source": [
    "snapshot_download(model_id=\"langboat/bloom-1b4-zh\", cache_dir=\"/data/PLM/\")"
   ]
  },
  {
   "cell_type": "code",
   "execution_count": 2,
   "metadata": {},
   "outputs": [
    {
     "name": "stderr",
     "output_type": "stream",
     "text": [
      "2023-12-15 10:00:08,730 - modelscope - WARNING - Model revision not specified, use revision: v1.1.9\n",
      "Downloading: 100%|██████████| 8.21k/8.21k [00:00<00:00, 1.34MB/s]\n",
      "Downloading: 100%|██████████| 50.8k/50.8k [00:00<00:00, 637kB/s]\n",
      "Downloading: 100%|██████████| 244k/244k [00:00<00:00, 1.40MB/s]\n",
      "Downloading: 100%|██████████| 135k/135k [00:00<00:00, 859kB/s]\n",
      "Downloading: 100%|██████████| 910/910 [00:00<00:00, 154kB/s]\n",
      "Downloading: 100%|██████████| 77.0/77.0 [00:00<00:00, 2.33kB/s]\n",
      "Downloading: 100%|██████████| 2.29k/2.29k [00:00<00:00, 608kB/s]\n",
      "Downloading: 100%|██████████| 1.88k/1.88k [00:00<00:00, 517kB/s]\n",
      "Downloading: 100%|██████████| 249/249 [00:00<00:00, 72.9kB/s]\n",
      "Downloading: 100%|██████████| 1.63M/1.63M [00:00<00:00, 5.03MB/s]\n",
      "Downloading: 100%|██████████| 1.84M/1.84M [00:00<00:00, 6.20MB/s]\n",
      "Downloading: 100%|██████████| 2.64M/2.64M [00:00<00:00, 8.00MB/s]\n",
      "Downloading: 100%|██████████| 6.73k/6.73k [00:00<00:00, 556kB/s]\n",
      "Downloading: 100%|██████████| 80.8k/80.8k [00:00<00:00, 624kB/s]\n",
      "Downloading: 100%|██████████| 80.8k/80.8k [00:00<00:00, 937kB/s]\n",
      "Downloading: 100%|█████████▉| 1.83G/1.83G [00:46<00:00, 42.2MB/s]\n",
      "Downloading: 100%|█████████▉| 1.88G/1.88G [00:44<00:00, 45.0MB/s]\n",
      "Downloading: 100%|█████████▉| 1.88G/1.88G [00:44<00:00, 45.0MB/s]\n",
      "Downloading: 100%|█████████▉| 1.88G/1.88G [00:43<00:00, 46.2MB/s]\n",
      "Downloading: 100%|█████████▉| 1.88G/1.88G [00:56<00:00, 35.6MB/s]\n",
      "Downloading: 100%|█████████▉| 1.88G/1.88G [00:41<00:00, 48.8MB/s]\n",
      "Downloading: 100%|█████████▉| 1.88G/1.88G [00:46<00:00, 44.0MB/s]\n",
      "Downloading: 100%|█████████▉| 1.24G/1.24G [00:27<00:00, 47.8MB/s]\n",
      "Downloading: 100%|██████████| 19.1k/19.1k [00:00<00:00, 474kB/s]\n",
      "Downloading: 100%|██████████| 54.3k/54.3k [00:00<00:00, 638kB/s]\n",
      "Downloading: 100%|██████████| 15.0k/15.0k [00:00<00:00, 357kB/s]\n",
      "Downloading: 100%|██████████| 237k/237k [00:00<00:00, 1.50MB/s]\n",
      "Downloading: 100%|██████████| 116k/116k [00:00<00:00, 861kB/s]\n",
      "Downloading: 100%|██████████| 2.44M/2.44M [00:00<00:00, 7.64MB/s]\n",
      "Downloading: 100%|██████████| 473k/473k [00:00<00:00, 2.46MB/s]\n",
      "Downloading: 100%|██████████| 14.3k/14.3k [00:00<00:00, 318kB/s]\n",
      "Downloading: 100%|██████████| 79.0k/79.0k [00:00<00:00, 879kB/s]\n",
      "Downloading: 100%|██████████| 46.4k/46.4k [00:00<00:00, 562kB/s]\n",
      "Downloading: 100%|██████████| 0.98M/0.98M [00:00<00:00, 3.48MB/s]\n",
      "Downloading: 100%|██████████| 205k/205k [00:00<00:00, 1.24MB/s]\n",
      "Downloading: 100%|██████████| 19.4k/19.4k [00:00<00:00, 455kB/s]\n",
      "Downloading: 100%|██████████| 11.6k/11.6k [00:00<00:00, 256kB/s]\n",
      "Downloading: 100%|██████████| 302k/302k [00:00<00:00, 1.52MB/s]\n",
      "Downloading: 100%|██████████| 615k/615k [00:00<00:00, 2.56MB/s]\n",
      "Downloading: 100%|██████████| 376k/376k [00:00<00:00, 2.07MB/s]\n",
      "Downloading: 100%|██████████| 445k/445k [00:00<00:00, 1.93MB/s]\n",
      "Downloading: 100%|██████████| 33.7k/33.7k [00:00<00:00, 748kB/s]\n",
      "Downloading: 100%|██████████| 395k/395k [00:00<00:00, 2.29MB/s]\n",
      "Downloading: 100%|██████████| 176k/176k [00:00<00:00, 1.39MB/s]\n",
      "Downloading: 100%|██████████| 182k/182k [00:00<00:00, 1.26MB/s]\n",
      "Downloading: 100%|██████████| 824k/824k [00:00<00:00, 2.63MB/s]\n",
      "Downloading: 100%|██████████| 426k/426k [00:00<00:00, 1.78MB/s]\n",
      "Downloading: 100%|██████████| 433k/433k [00:00<00:00, 1.97MB/s]\n",
      "Downloading: 100%|██████████| 466k/466k [00:00<00:00, 2.06MB/s]\n",
      "Downloading: 100%|██████████| 403k/403k [00:00<00:00, 2.62MB/s]\n",
      "Downloading: 100%|██████████| 9.39k/9.39k [00:00<00:00, 2.20MB/s]\n",
      "Downloading: 100%|██████████| 403k/403k [00:00<00:00, 2.48MB/s]\n",
      "Downloading: 100%|██████████| 79.0k/79.0k [00:00<00:00, 940kB/s]\n",
      "Downloading: 100%|██████████| 173/173 [00:00<00:00, 44.9kB/s]\n",
      "Downloading: 100%|██████████| 41.9k/41.9k [00:00<00:00, 496kB/s]\n",
      "Downloading: 100%|██████████| 230k/230k [00:00<00:00, 1.33MB/s]\n",
      "Downloading: 100%|██████████| 1.27M/1.27M [00:00<00:00, 4.38MB/s]\n",
      "Downloading: 100%|██████████| 664k/664k [00:00<00:00, 2.55MB/s]\n",
      "Downloading: 100%|██████████| 404k/404k [00:00<00:00, 1.70MB/s]\n"
     ]
    },
    {
     "data": {
      "text/plain": [
       "'/data/PLM/qwen/Qwen-7B-Chat'"
      ]
     },
     "execution_count": 2,
     "metadata": {},
     "output_type": "execute_result"
    }
   ],
   "source": [
    "snapshot_download(model_id=\"qwen/Qwen-7B-Chat\", cache_dir=\"/data/PLM/\")"
   ]
  },
  {
   "cell_type": "code",
   "execution_count": 2,
   "metadata": {},
   "outputs": [
    {
     "name": "stderr",
     "output_type": "stream",
     "text": [
      "2024-01-13 13:23:01,981 - modelscope - WARNING - Model revision not specified, use revision: v1.0.8\n",
      "Downloading: 100%|██████████| 183k/183k [00:00<00:00, 1.34MB/s]\n",
      "Downloading: 100%|██████████| 196k/196k [00:00<00:00, 1.42MB/s]\n",
      "Downloading: 100%|██████████| 715/715 [00:00<00:00, 178kB/s]\n",
      "Downloading: 100%|██████████| 215/215 [00:00<00:00, 54.6kB/s]\n",
      "Downloading: 100%|██████████| 1.46k/1.46k [00:00<00:00, 274kB/s]\n",
      "Downloading: 100%|██████████| 284/284 [00:00<00:00, 69.4kB/s]\n",
      "Downloading: 100%|██████████| 23.9k/23.9k [00:00<00:00, 450kB/s]\n",
      "Downloading: 100%|██████████| 3.28k/3.28k [00:00<00:00, 795kB/s]\n",
      "Downloading: 100%|█████████▉| 9.29G/9.29G [07:07<00:00, 23.3MB/s]\n",
      "Downloading: 100%|█████████▉| 9.26G/9.26G [07:01<00:00, 23.6MB/s]\n",
      "Downloading: 100%|█████████▉| 6.16G/6.16G [04:40<00:00, 23.6MB/s]\n",
      "Downloading: 100%|██████████| 22.7k/22.7k [00:00<00:00, 567kB/s]\n",
      "Downloading: 100%|██████████| 20.6k/20.6k [00:00<00:00, 427kB/s]\n",
      "Downloading: 100%|██████████| 1.16k/1.16k [00:00<00:00, 219kB/s]\n",
      "Downloading: 100%|██████████| 15.8k/15.8k [00:00<00:00, 347kB/s]\n",
      "Downloading: 100%|██████████| 72.0/72.0 [00:00<00:00, 12.8kB/s]\n",
      "Downloading: 100%|██████████| 544/544 [00:00<00:00, 103kB/s]\n",
      "Downloading: 100%|██████████| 8.52k/8.52k [00:00<00:00, 1.53MB/s]\n",
      "Downloading: 100%|██████████| 1.08M/1.08M [00:00<00:00, 3.71MB/s]\n",
      "Downloading: 100%|██████████| 954/954 [00:00<00:00, 172kB/s]\n"
     ]
    },
    {
     "data": {
      "text/plain": [
       "'/data/PLM/baichuan-inc/Baichuan-13B-Chat'"
      ]
     },
     "execution_count": 2,
     "metadata": {},
     "output_type": "execute_result"
    }
   ],
   "source": [
    "snapshot_download(model_id=\"baichuan-inc/Baichuan-13B-Chat\", cache_dir=\"/data/PLM/\")"
   ]
  },
  {
   "cell_type": "code",
   "execution_count": 2,
   "metadata": {},
   "outputs": [
    {
     "name": "stderr",
     "output_type": "stream",
     "text": [
      "2024-01-16 22:03:09,794 - modelscope - WARNING - Model revision not specified, use revision: v1.0.5\n",
      "Downloading: 100%|██████████| 21.0/21.0 [00:00<00:00, 2.90kB/s]\n",
      "Downloading: 100%|██████████| 583/583 [00:00<00:00, 89.7kB/s]\n",
      "Downloading: 100%|██████████| 178/178 [00:00<00:00, 29.3kB/s]\n",
      "Downloading: 100%|██████████| 175/175 [00:00<00:00, 29.3kB/s]\n",
      "Downloading: 100%|██████████| 6.86k/6.86k [00:00<00:00, 489kB/s]\n",
      "Downloading: 100%|█████████▉| 9.29G/9.29G [07:07<00:00, 23.3MB/s]\n",
      "Downloading: 100%|█████████▉| 3.26G/3.26G [02:30<00:00, 23.3MB/s]\n",
      "Downloading: 100%|██████████| 26.2k/26.2k [00:00<00:00, 659kB/s]\n",
      "Downloading: 100%|██████████| 1.67k/1.67k [00:00<00:00, 473kB/s]\n",
      "Downloading: 100%|██████████| 13.3k/13.3k [00:00<00:00, 317kB/s]\n",
      "Downloading: 100%|██████████| 435/435 [00:00<00:00, 107kB/s]\n",
      "Downloading: 100%|██████████| 1.76M/1.76M [00:00<00:00, 5.18MB/s]\n",
      "Downloading: 100%|██████████| 488k/488k [00:00<00:00, 2.27MB/s]\n",
      "Downloading: 100%|██████████| 746/746 [00:00<00:00, 214kB/s]\n",
      "Downloading: 100%|██████████| 4.65k/4.65k [00:00<00:00, 189kB/s]\n"
     ]
    },
    {
     "data": {
      "text/plain": [
       "'/data/PLM/modelscope/Llama-2-7b-chat-ms'"
      ]
     },
     "execution_count": 2,
     "metadata": {},
     "output_type": "execute_result"
    }
   ],
   "source": [
    "snapshot_download(model_id=\"modelscope/Llama-2-7b-chat-ms\", cache_dir=\"/data/PLM\", ignore_file_pattern=\".bin\")"
   ]
  },
  {
   "cell_type": "code",
   "execution_count": 3,
   "metadata": {},
   "outputs": [
    {
     "name": "stderr",
     "output_type": "stream",
     "text": [
      "2024-01-16 22:15:16,012 - modelscope - WARNING - Model revision not specified, use revision: v1.0.2\n",
      "Downloading: 100%|██████████| 21.0/21.0 [00:00<00:00, 5.14kB/s]\n",
      "Downloading: 100%|██████████| 608/608 [00:00<00:00, 176kB/s]\n",
      "Downloading: 100%|██████████| 184/184 [00:00<00:00, 31.8kB/s]\n",
      "Downloading: 100%|██████████| 175/175 [00:00<00:00, 51.8kB/s]\n",
      "Downloading: 100%|██████████| 6.86k/6.86k [00:00<00:00, 431kB/s]\n",
      "Downloading: 100%|█████████▉| 9.27G/9.27G [07:13<00:00, 23.0MB/s]\n",
      "Downloading: 100%|█████████▉| 9.22G/9.22G [07:20<00:00, 22.5MB/s]\n",
      "Downloading: 100%|█████████▉| 5.75G/5.75G [04:38<00:00, 22.2MB/s]\n",
      "Downloading: 100%|██████████| 32.7k/32.7k [00:00<00:00, 740kB/s]\n",
      "Downloading: 100%|██████████| 1.68k/1.68k [00:00<00:00, 485kB/s]\n",
      "Downloading: 100%|██████████| 10.8k/10.8k [00:00<00:00, 1.98MB/s]\n",
      "Downloading: 100%|██████████| 1.20M/1.20M [00:00<00:00, 4.13MB/s]\n",
      "Downloading: 100%|██████████| 435/435 [00:00<00:00, 111kB/s]\n",
      "Downloading: 100%|██████████| 488k/488k [00:00<00:00, 2.31MB/s]\n",
      "Downloading: 100%|██████████| 746/746 [00:00<00:00, 188kB/s]\n",
      "Downloading: 100%|██████████| 4.65k/4.65k [00:00<00:00, 303kB/s]\n"
     ]
    },
    {
     "data": {
      "text/plain": [
       "'/data/PLM/modelscope/Llama-2-13b-chat-ms'"
      ]
     },
     "execution_count": 3,
     "metadata": {},
     "output_type": "execute_result"
    }
   ],
   "source": [
    "snapshot_download(model_id=\"modelscope/Llama-2-13b-chat-ms\", cache_dir=\"/data/PLM\", ignore_file_pattern=\".bin\")"
   ]
  }
 ],
 "metadata": {
  "kernelspec": {
   "display_name": "ms",
   "language": "python",
   "name": "python3"
  },
  "language_info": {
   "codemirror_mode": {
    "name": "ipython",
    "version": 3
   },
   "file_extension": ".py",
   "mimetype": "text/x-python",
   "name": "python",
   "nbconvert_exporter": "python",
   "pygments_lexer": "ipython3",
   "version": "3.8.18"
  }
 },
 "nbformat": 4,
 "nbformat_minor": 2
}
